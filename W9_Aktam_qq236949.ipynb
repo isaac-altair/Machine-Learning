{
 "cells": [
  {
   "cell_type": "markdown",
   "metadata": {},
   "source": [
    "#### Your name:\n",
    "\n",
    "<pre> Isaac Aktam</pre>\n",
    "\n",
    "### Collaborators:\n",
    "\n",
    "<pre> Ashish Gupta, Konrad Korzeniewski</pre>"
   ]
  },
  {
   "cell_type": "code",
   "execution_count": 40,
   "metadata": {
    "collapsed": true
   },
   "outputs": [],
   "source": [
    "# To support both python 2 and python 3\n",
    "from __future__ import division, print_function, unicode_literals\n",
    "\n",
    "# Common imports\n",
    "import numpy as np\n",
    "import pandas as pd\n",
    "import os\n",
    "\n",
    "# to make this notebook's output stable across runs\n",
    "def reset_graph(seed=42):\n",
    "    tf.reset_default_graph()\n",
    "    tf.set_random_seed(seed)\n",
    "    np.random.seed(seed)\n",
    "\n",
    "# To plot pretty figures\n",
    "%matplotlib inline\n",
    "import matplotlib\n",
    "import matplotlib.pyplot as plt\n",
    "plt.rcParams['axes.labelsize'] = 14\n",
    "plt.rcParams['xtick.labelsize'] = 12\n",
    "plt.rcParams['ytick.labelsize'] = 12\n",
    "\n",
    "def save_fig(fig_id, tight_layout=True):\n",
    "    path = os.path.join(PROJECT_ROOT_DIR, \"images\", CHAPTER_ID, fig_id + \".png\")\n",
    "    print(\"Saving figure\", fig_id)\n",
    "    if tight_layout:\n",
    "        plt.tight_layout()\n",
    "    plt.savefig(path, format='png', dpi=300)"
   ]
  },
  {
   "cell_type": "markdown",
   "metadata": {},
   "source": [
    "### TensorFlow"
   ]
  },
  {
   "cell_type": "markdown",
   "metadata": {},
   "source": [
    "Q1. When is a variable initialized? When is it destroyed?"
   ]
  },
  {
   "cell_type": "markdown",
   "metadata": {
    "collapsed": true
   },
   "source": [
    "A variable is initialized when you call its initalized, and it is destroyed when its session ends. In distributed TensorFlow, variables live in containers on the cluster, so closing a session will not destroy the variable. To destroy a variable, you need to destroy its container."
   ]
  },
  {
   "cell_type": "markdown",
   "metadata": {},
   "source": [
    "Q2. What is the difference between a placeholder and a variable?"
   ]
  },
  {
   "cell_type": "markdown",
   "metadata": {
    "collapsed": true
   },
   "source": [
    "They seem similar? Wrong! They are absolutely freaking different, just like apples and fish. Explanation:\n",
    "\n",
    " - A \"variable\" is an operation that holds a valie. If you run the variable, it returns that value. Before you can run it, it needs to initialized. You can change the variable's value (for example by using the assignment operation). It is stateful: the variable keeps the same value upon successive runs of the graph. It is typically used to hold the model parameters but also for other purposes (e.g., to count the global training step).\n",
    " \n",
    " \n",
    " - A \"placeholder\" does not technically do much: it just holds the information about the type and shape of the tensor they represent, but they have no value. In fact, if you try to evaluate an operation that depends on a placeholder, you must feed TensorFlow the value of a placeholder (using the feed_dict argument) or else you will get an exception. Placeholders are typically used to feed training or test data to TensorFlow during the execution phase. They are also useful to pass a value to an assignment node, to change the value of a variable (e.g., model weights). "
   ]
  },
  {
   "cell_type": "markdown",
   "metadata": {},
   "source": [
    "Q3. How many times does reverse-mode autodiff need to traverse the graph in order to compute the gradients of the cost function with regards to 10 variables? What about forward-mode autodiff? And symbolic differentiation?"
   ]
  },
  {
   "cell_type": "markdown",
   "metadata": {
    "collapsed": true
   },
   "source": [
    " - \"Reverse-model autodiff\" (mplemented by TensorFlow) needs to traverse the graph only twice in ordet to compute the gradients of the cost function with regards to any number of variables.\n",
    " - On the other hand, \"forward-mode\" autodiff would need to run once for each variable (so 10 times if we want the gradients with regards to 10 different variables).\n",
    " - As for \"symbolic differentiation\", it would build a different graph to compute the gradients, so it would not traverse the original graph at all (except when building the gradients graph). A highly optimized symbolic differentiation system could potentially run the new gradients graph only once to compute the gradients with regards to all variables, but that new graph may be horribly complex and inefficient compared to the original graph."
   ]
  },
  {
   "cell_type": "markdown",
   "metadata": {},
   "source": [
    "Q4. Implement Logistic Regression with Mini-batch Gradient Descent using TensorFlow. Train it and evaluate it on the moons dataset (introduced in Chapter 5). Try adding all the bells and whistles:\n",
    "\n",
    "- Define the graph within a logistic_regression() function that can be reused easily.\n",
    "\n",
    "- Save checkpoints using a Saver at regular intervals during training, and save the final model at the end of training.\n",
    "\n",
    "- Restore the last checkpoint upon startup if training was interrupted.\n",
    "\n",
    "- Define the graph using name scopes so the graph looks good in TensorBoard.\n",
    "\n",
    "- Add summaries to visualize the learning curves in TensorBoard.\n",
    "\n",
    "- Try tweaking some hyperparameters such as the learning rate or the mini-batch size and look at the shape of the learning curve."
   ]
  },
  {
   "cell_type": "code",
   "execution_count": 41,
   "metadata": {
    "collapsed": true
   },
   "outputs": [],
   "source": [
    "# First, download the moons dataset using the ScikitLearn's make_moons function.\n",
    "\n",
    "from sklearn.datasets import make_moons\n",
    "\n",
    "m = 1000\n",
    "X_moons, y_moons = make_moons(m, noise=0.1, random_state=42)"
   ]
  },
  {
   "cell_type": "code",
   "execution_count": 42,
   "metadata": {},
   "outputs": [
    {
     "data": {
      "image/png": "[encoded data removed]",
      "text/plain": [
       "<matplotlib.figure.Figure at 0x7fce30164940>"
      ]
     },
     "metadata": {},
     "output_type": "display_data"
    }
   ],
   "source": [
    "# Let's take a look at the dataset\n",
    "\n",
    "plt.plot(X_moons[y_moons == 1, 0], X_moons[y_moons == 1, 1], 'go', label=\"Positive\")\n",
    "plt.plot(X_moons[y_moons == 0, 0], X_moons[y_moons == 0, 1], 'r^', label=\"Negative\")\n",
    "plt.legend()\n",
    "plt.show()"
   ]
  },
  {
   "cell_type": "code",
   "execution_count": 43,
   "metadata": {
    "collapsed": true
   },
   "outputs": [],
   "source": [
    "# Remember to add the extra bias feature (x_0 = 1) to every instance. For this, we just need to add a \n",
    "# column full of 1s on the left of the input matrix X:\n",
    "\n",
    "X_moons_with_bias = np.c_[np.ones((m, 1)), X_moons]"
   ]
  },
  {
   "cell_type": "code",
   "execution_count": 44,
   "metadata": {},
   "outputs": [
    {
     "data": {
      "text/plain": [
       "array([[ 1.        , -0.05146968,  0.44419863],\n",
       "       [ 1.        ,  1.03201691, -0.41974116],\n",
       "       [ 1.        ,  0.86789186, -0.25482711],\n",
       "       [ 1.        ,  0.288851  , -0.44866862],\n",
       "       [ 1.        , -0.83343911,  0.53505665]])"
      ]
     },
     "execution_count": 44,
     "metadata": {},
     "output_type": "execute_result"
    }
   ],
   "source": [
    "# Let's check\n",
    "\n",
    "X_moons_with_bias[:5]"
   ]
  },
  {
   "cell_type": "code",
   "execution_count": 45,
   "metadata": {
    "collapsed": true
   },
   "outputs": [],
   "source": [
    "# Let's reshape y_moons to make it a column vector\n",
    "\n",
    "y_moons_column_vector = y_moons.reshape(-1, 1)"
   ]
  },
  {
   "cell_type": "code",
   "execution_count": 46,
   "metadata": {
    "collapsed": true
   },
   "outputs": [],
   "source": [
    "test_ratio = 0.2\n",
    "test_size = int(m * test_ratio)\n",
    "X_train = X_moons_with_bias[:-test_size] # Include the first 800 instances\n",
    "X_test = X_moons_with_bias[-test_size:] # Include the remaining 200 instances\n",
    "y_train = y_moons_column_vector[:-test_size] # Include the first 800 instances\n",
    "y_test = y_moons_column_vector[-test_size:] # Include the remaining 200 instances"
   ]
  },
  {
   "cell_type": "markdown",
   "metadata": {},
   "source": [
    "Ok, now let's create a small function to generate training batches. In this implementation we will just pick random instances from the training set for each batch. This means that a single batch may contain the same instance multiple times, and also a single epoch may not cover all the training instances (in fact it will generally cover only about two thirds of the instances). However, in practice this is not an issue and it simplifies the code:"
   ]
  },
  {
   "cell_type": "code",
   "execution_count": 47,
   "metadata": {
    "collapsed": true
   },
   "outputs": [],
   "source": [
    "def random_batch(X_train, y_train, batch_size):\n",
    "    rnd_indices = np.random.randint(0, len(X_train), batch_size)\n",
    "    X_batch = X_train[rnd_indices]\n",
    "    y_batch = y_train[rnd_indices]\n",
    "    return X_batch, y_batch"
   ]
  },
  {
   "cell_type": "markdown",
   "metadata": {},
   "source": [
    "Let's look at a small batch:"
   ]
  },
  {
   "cell_type": "code",
   "execution_count": 48,
   "metadata": {},
   "outputs": [
    {
     "data": {
      "text/plain": [
       "array([[ 1.        ,  0.05114641,  0.25842105],\n",
       "       [ 1.        ,  0.35697595,  1.00820789],\n",
       "       [ 1.        ,  0.24998693, -0.17585236],\n",
       "       [ 1.        ,  0.88414476,  0.43423354],\n",
       "       [ 1.        , -0.03703635,  0.88578278]])"
      ]
     },
     "execution_count": 48,
     "metadata": {},
     "output_type": "execute_result"
    }
   ],
   "source": [
    "X_batch, y_batch = random_batch(X_train, y_train, 5)\n",
    "X_batch"
   ]
  },
  {
   "cell_type": "code",
   "execution_count": 49,
   "metadata": {},
   "outputs": [
    {
     "data": {
      "text/plain": [
       "array([[1],\n",
       "       [0],\n",
       "       [1],\n",
       "       [0],\n",
       "       [0]])"
      ]
     },
     "execution_count": 49,
     "metadata": {},
     "output_type": "execute_result"
    }
   ],
   "source": [
    "y_batch"
   ]
  },
  {
   "cell_type": "markdown",
   "metadata": {},
   "source": [
    "Great! Now that the data is ready to be fed to the model, we need to build that model."
   ]
  },
  {
   "cell_type": "markdown",
   "metadata": {},
   "source": [
    "First let's reset the default graph."
   ]
  },
  {
   "cell_type": "code",
   "execution_count": 50,
   "metadata": {
    "collapsed": true
   },
   "outputs": [],
   "source": [
    "# to make this notebook's output stable across runs\n",
    "\n",
    "def reset_graph(seed=42):\n",
    "    tf.reset_default_graph()\n",
    "    tf.set_random_seed(seed)\n",
    "    np.random.seed(seed)\n",
    "\n",
    "import tensorflow as tf\n",
    "\n",
    "reset_graph()"
   ]
  },
  {
   "cell_type": "markdown",
   "metadata": {},
   "source": [
    "The moons dataset has two input features, since each instance is a point on a plane (i.e., 2-Dimensional):"
   ]
  },
  {
   "cell_type": "code",
   "execution_count": 51,
   "metadata": {
    "collapsed": true
   },
   "outputs": [],
   "source": [
    "n_inputs = 2"
   ]
  },
  {
   "cell_type": "markdown",
   "metadata": {},
   "source": [
    "Now let's build the Logistic Regression model. As we saw in chapter 4, this model first computes a weighted sum of the inputs (just like the Linear Regression model), and then it applies the sigmoid function to the result, which gives us the estimated probability for the positive class:\n",
    "\n",
    "$\\hat{p} = h_\\mathbf{\\theta}(\\mathbf{x}) = \\sigma(\\mathbf{\\theta}^T \\cdot \\mathbf{x})$\n",
    "\n",
    "Recall that $\\mathbf{\\theta}$ is the parameter vector, containing the bias term $\\theta_0$ and the weights $\\theta_1, \\theta_2, \\dots, \\theta_n$. The input vector $\\mathbf{x}$ contains a constant term $x_0 = 1$, as well as all the input features $x_1, x_2, \\dots, x_n$.\n",
    "\n",
    "Since we want to be able to make predictions for multiple instances at a time, we will use an input matrix $\\mathbf{X}$ rather than a single input vector. The $i^{th}$ row will contain the transpose of the $i^{th}$ input vector $(\\mathbf{x}^{(i)})^T$. It is then possible to estimate the probability that each instance belongs to the positive class using the following equation:\n",
    "\n",
    "$ \\hat{\\mathbf{p}} = \\sigma(\\mathbf{X} \\cdot \\mathbf{\\theta})$\n",
    "\n",
    "That's all we need to build the model:"
   ]
  },
  {
   "cell_type": "code",
   "execution_count": 52,
   "metadata": {
    "collapsed": true
   },
   "outputs": [],
   "source": [
    "X = tf.placeholder(tf.float32, shape = (None, n_inputs + 1), name = \"X\")\n",
    "y = tf.placeholder(tf.float32, shape = (None, 1), name = \"y\")\n",
    "\n",
    "theta = tf.Variable(tf.random_uniform([n_inputs + 1, 1], -1.0, 1.0, seed = 42), name = \"theta\")\n",
    "logits = tf.matmul(X, theta, name = \"logits\")\n",
    "y_proba = tf.sigmoid(logits)"
   ]
  },
  {
   "cell_type": "markdown",
   "metadata": {},
   "source": [
    "As we saw in chapter 4, the log loss is a good cost function to use for Logistic Regression:\n",
    "\n",
    "$J(\\mathbf{\\theta}) = -\\dfrac{1}{m} \\sum\\limits_{i=1}^{m}{\\left[ y^{(i)} log\\left(\\hat{p}^{(i)}\\right) + (1 - y^{(i)}) log\\left(1 - \\hat{p}^{(i)}\\right)\\right]}$"
   ]
  },
  {
   "cell_type": "code",
   "execution_count": 53,
   "metadata": {
    "collapsed": true
   },
   "outputs": [],
   "source": [
    "loss = tf.losses.log_loss(y, y_proba) # uses epsilon = 1e-7 by default"
   ]
  },
  {
   "cell_type": "code",
   "execution_count": 54,
   "metadata": {
    "collapsed": true
   },
   "outputs": [],
   "source": [
    "# Well, let's start optimizing\n",
    "\n",
    "learning_rate = 0.01\n",
    "\n",
    "optimizer = tf.train.GradientDescentOptimizer(learning_rate=learning_rate)\n",
    "training_op = optimizer.minimize(loss)"
   ]
  },
  {
   "cell_type": "code",
   "execution_count": 55,
   "metadata": {
    "collapsed": true
   },
   "outputs": [],
   "source": [
    "n_epochs = 1000\n",
    "batch_size = 200\n",
    "\n",
    "n_batches = int(np.ceil(m / batch_size))"
   ]
  },
  {
   "cell_type": "code",
   "execution_count": 56,
   "metadata": {},
   "outputs": [
    {
     "name": "stdout",
     "output_type": "stream",
     "text": [
      "Epoch: 0 \tLoss: 0.8196367\n",
      "Epoch: 100 \tLoss: 0.47140634\n",
      "Epoch: 200 \tLoss: 0.39675096\n",
      "Epoch: 300 \tLoss: 0.3631371\n",
      "Epoch: 400 \tLoss: 0.34379813\n",
      "Epoch: 500 \tLoss: 0.33055198\n",
      "Epoch: 600 \tLoss: 0.32100132\n",
      "Epoch: 700 \tLoss: 0.31364074\n",
      "Epoch: 800 \tLoss: 0.3079226\n",
      "Epoch: 900 \tLoss: 0.30325115\n"
     ]
    }
   ],
   "source": [
    "init = tf.global_variables_initializer()\n",
    "\n",
    "with tf.Session() as sess:\n",
    "    sess.run(init)\n",
    "    \n",
    "    for epoch in range(n_epochs):\n",
    "        for batch_index in range(n_batches):\n",
    "            X_batch, y_batch = random_batch(X_train, y_train, batch_size)\n",
    "            sess.run(training_op, feed_dict = {X : X_batch, y : y_batch})\n",
    "        loss_val = loss.eval({X : X_test, y : y_test})\n",
    "        if epoch % 100 == 0:\n",
    "            print(\"Epoch:\", epoch, \"\\tLoss:\", loss_val)\n",
    "            \n",
    "    y_proba_val = y_proba.eval(feed_dict = {X : X_batch, y : y_batch})"
   ]
  },
  {
   "cell_type": "markdown",
   "metadata": {},
   "source": [
    "For each instance in the test set, y_proba_val contains the estimated probability that it belongs to the positive class, according to the model. For example, here are the first 5 estimated probabilities:"
   ]
  },
  {
   "cell_type": "code",
   "execution_count": 57,
   "metadata": {},
   "outputs": [
    {
     "data": {
      "text/plain": [
       "array([[0.03761655],\n",
       "       [0.8658452 ],\n",
       "       [0.07082568],\n",
       "       [0.9615447 ],\n",
       "       [0.41433707]], dtype=float32)"
      ]
     },
     "execution_count": 57,
     "metadata": {},
     "output_type": "execute_result"
    }
   ],
   "source": [
    "y_proba_val[:5]"
   ]
  },
  {
   "cell_type": "markdown",
   "metadata": {},
   "source": [
    "To classify each instance, we can go for maximum likelihood: classify as positive any instance whose estimated probability is greater or equal to 0.5:"
   ]
  },
  {
   "cell_type": "code",
   "execution_count": 58,
   "metadata": {},
   "outputs": [
    {
     "data": {
      "text/plain": [
       "array([[False],\n",
       "       [ True],\n",
       "       [False],\n",
       "       [ True],\n",
       "       [False]])"
      ]
     },
     "execution_count": 58,
     "metadata": {},
     "output_type": "execute_result"
    }
   ],
   "source": [
    "y_pred = (y_proba_val >= 0.5)\n",
    "y_pred[:5]"
   ]
  },
  {
   "cell_type": "markdown",
   "metadata": {},
   "source": [
    "Depending on the use case, you may want to choose a different threshold than 0.5: make it higher if you want high precision (but lower recall), and make it lower if you want high recall (but lower precision). See chapter 3 for more details.\n",
    "\n",
    "Let's compute the model's precision and recall:"
   ]
  },
  {
   "cell_type": "code",
   "execution_count": 59,
   "metadata": {},
   "outputs": [
    {
     "data": {
      "text/plain": [
       "0.5052631578947369"
      ]
     },
     "execution_count": 59,
     "metadata": {},
     "output_type": "execute_result"
    }
   ],
   "source": [
    "from sklearn.metrics import precision_score, recall_score\n",
    "\n",
    "precision_score(y_test, y_pred)"
   ]
  },
  {
   "cell_type": "code",
   "execution_count": 60,
   "metadata": {},
   "outputs": [
    {
     "data": {
      "text/plain": [
       "0.48484848484848486"
      ]
     },
     "execution_count": 60,
     "metadata": {},
     "output_type": "execute_result"
    }
   ],
   "source": [
    "recall_score(y_test, y_pred)"
   ]
  },
  {
   "cell_type": "markdown",
   "metadata": {},
   "source": [
    "Let's plot these predictions to see what they look like:"
   ]
  },
  {
   "cell_type": "code",
   "execution_count": 61,
   "metadata": {},
   "outputs": [
    {
     "data": {
      "image/png": "[encoded data removed]",
      "text/plain": [
       "<matplotlib.figure.Figure at 0x7fce15797160>"
      ]
     },
     "metadata": {},
     "output_type": "display_data"
    }
   ],
   "source": [
    "y_pred_idx = y_pred.reshape(-1) # a 1D array rather than a column vector\n",
    "plt.plot(X_test[y_pred_idx, 1], X_test[y_pred_idx, 2], 'go', label=\"Positive\")\n",
    "plt.plot(X_test[~y_pred_idx, 1], X_test[~y_pred_idx, 2], 'r^', label=\"Negative\")\n",
    "plt.legend()\n",
    "plt.show()"
   ]
  },
  {
   "cell_type": "markdown",
   "metadata": {},
   "source": [
    "This is terrible! But let's not forget that the Logistic Regression model has a linear decision boundary, so this is actually close to the best we can do with this model (unless we add more features, as we will show in a second)."
   ]
  },
  {
   "cell_type": "markdown",
   "metadata": {},
   "source": [
    "Now let's start over, but this time we will add all the bells and whistles, as listed in the exercise:\n",
    "\n",
    "- Define the graph within a logistic_regression() function that can be reused easily.\n",
    "\n",
    "- Save checkpoints using a Saver at regular intervals during training, and save the final model at the end of training.\n",
    "\n",
    "- Restore the last checkpoint upon startup if training was interrupted.\n",
    "\n",
    "- Define the graph using nice scopes so the graph looks good in TensorBoard.\n",
    "\n",
    "- Add summaries to visualize the learning curves in TensorBoard.\n",
    "\n",
    "- Try tweaking some hyperparameters such as the learning rate or the mini-batch size and look at the shape of the learning curve."
   ]
  },
  {
   "cell_type": "markdown",
   "metadata": {},
   "source": [
    "Before we start, we will add 4 more features to the inputs: ${x_1}^2$, ${x_2}^2$, ${x_1}^3$ and ${x_2}^3$. This was not part of the exercise, but it will demonstrate how adding features can improve the model."
   ]
  },
  {
   "cell_type": "code",
   "execution_count": 234,
   "metadata": {
    "collapsed": true
   },
   "outputs": [],
   "source": [
    "# Let's reset the default graph\n",
    "\n",
    "reset_graph()"
   ]
  },
  {
   "cell_type": "code",
   "execution_count": 235,
   "metadata": {
    "collapsed": true
   },
   "outputs": [],
   "source": [
    "X_train_poly = np.c_[X_train, X_train[:, 1] ** 2, X_train[:, 2] ** 2, X_train[:, 1] ** 3, X_train[:, 2] ** 3]\n",
    "\n",
    "X_test_poly = np.c_[X_test, X_test[:, 1] ** 2, X_test[:, 2] ** 2, X_test[:, 1] ** 3, X_test[:, 2] ** 3]"
   ]
  },
  {
   "cell_type": "code",
   "execution_count": 236,
   "metadata": {
    "collapsed": true
   },
   "outputs": [],
   "source": [
    "##########################################################################################\n",
    "### Define the graph within a logistic_regression() function that can be reused easily ###\n",
    "##########################################################################################\n",
    "\n",
    "# The idea is to create some form of a \"logistic_regression()\" function that can be used repeatedly. This \n",
    "# makes code cleaner and easier to run whenever we want it to.\n",
    "\n",
    "# First, let's understand what's going when we work with any model in the TensorFlow and what it requires\n",
    "# - We need variables. In the case of log_reg, we need, X, y, and theta\n",
    "# - We need the loss function and optimizer to initiate training\n",
    "# - We need to initialize the global variables\n",
    "# - We need to save the trained results\n",
    "# - We need the return function\n",
    "# Therefore: variables, loss, initializer, save, return\n",
    "\n",
    "def logistic_banana(X, y, learning_rate, seed = 42):\n",
    "    n_inputs_including_bias = int(X.get_shape()[1]) # Need to get the number of columns to generate the number\n",
    "                                                    # of rows for the theta\n",
    "    with tf.name_scope(\"logistic_regression\"):\n",
    "        with tf.name_scope(\"model\"):\n",
    "            theta = tf.Variable(tf.random_uniform([n_inputs_including_bias, 1], -1.0, 1.0, seed=42), name=\"theta\")\n",
    "            logits = tf.matmul(X, theta, name = \"logits\")\n",
    "            y_proba = tf.sigmoid(logits)\n",
    "        with tf.name_scope(\"train\"):\n",
    "            loss = tf.losses.log_loss(y, y_proba, scope = \"loss\") # uses epsilon = 1e-7 by default\n",
    "            optimizer = tf.train.GradientDescentOptimizer(learning_rate=learning_rate)\n",
    "            training_op = optimizer.minimize(loss)\n",
    "            loss_summary = tf.summary.scalar('log_loss', loss)\n",
    "        with tf.name_scope(\"init\"):\n",
    "            init = tf.global_variables_initializer()\n",
    "        with tf.name_scope(\"save\"):\n",
    "            saver = tf.train.Saver()\n",
    "    return y_proba, loss, training_op, loss_summary, init, saver"
   ]
  },
  {
   "cell_type": "markdown",
   "metadata": {},
   "source": [
    "Let's create a function to get the name of the log directory to save the summaries for Tensorboard."
   ]
  },
  {
   "cell_type": "code",
   "execution_count": 237,
   "metadata": {
    "collapsed": true
   },
   "outputs": [],
   "source": [
    "from datetime import datetime\n",
    "\n",
    "def log_dir(prefix=\"\"):\n",
    "    now = datetime.utcnow().strftime(\"%Y%m%d%H%M%S\")\n",
    "    root_logdir = \"tf_logs\"\n",
    "    if prefix:\n",
    "        prefix += \"-\"\n",
    "    name = prefix + \"run-\" + now\n",
    "    return \"{}/{}/\".format(root_logdir, name)"
   ]
  },
  {
   "cell_type": "markdown",
   "metadata": {},
   "source": [
    "Next:\n",
    " - Create the graph, using the logistic_regression() function. \n",
    " - We will also create the FileWriter to save the summaries to the log directory for TensorBoard."
   ]
  },
  {
   "cell_type": "code",
   "execution_count": 238,
   "metadata": {
    "collapsed": true
   },
   "outputs": [],
   "source": [
    "n_inputs = 2 + 4\n",
    "logdir = log_dir(\"logreg\")\n",
    "learning_rate = 0.01\n",
    "\n",
    "X = tf.placeholder(tf.float32, shape = (None, n_inputs + 1), name = \"X\")\n",
    "y = tf.placeholder(tf.float32, shape = (None, 1), name = \"y\")\n",
    "\n",
    "y_proba, loss, training_op, loss_summary, init, saver = logistic_banana(X, y, learning_rate)\n",
    "\n",
    "file_writer = tf.summary.FileWriter(logdir, tf.get_default_graph())"
   ]
  },
  {
   "cell_type": "markdown",
   "metadata": {},
   "source": [
    "Training time. We will start by checking whether a previous training session was interrupted, and if so we will load the checkpoint and continue training from the epoch number we saved. In this example, we will just save the epoch number to a separate file."
   ]
  },
  {
   "cell_type": "code",
   "execution_count": 239,
   "metadata": {},
   "outputs": [
    {
     "name": "stdout",
     "output_type": "stream",
     "text": [
      "Epoch: 0 \tLoss: 0.629985\n",
      "Epoch: 500 \tLoss: 0.16122364\n",
      "Epoch: 1000 \tLoss: 0.1190321\n",
      "Epoch: 1500 \tLoss: 0.097329214\n",
      "Epoch: 2000 \tLoss: 0.08369793\n",
      "Epoch: 2500 \tLoss: 0.074375816\n",
      "Epoch: 3000 \tLoss: 0.06750215\n",
      "Epoch: 3500 \tLoss: 0.062206898\n",
      "Epoch: 4000 \tLoss: 0.058026794\n",
      "Epoch: 4500 \tLoss: 0.054562975\n",
      "Epoch: 5000 \tLoss: 0.051708292\n",
      "Epoch: 5500 \tLoss: 0.049237743\n",
      "Epoch: 6000 \tLoss: 0.047167286\n",
      "Epoch: 6500 \tLoss: 0.04537664\n",
      "Epoch: 7000 \tLoss: 0.043818746\n",
      "Epoch: 7500 \tLoss: 0.04237422\n",
      "Epoch: 8000 \tLoss: 0.041089162\n",
      "Epoch: 8500 \tLoss: 0.039970912\n",
      "Epoch: 9000 \tLoss: 0.038920246\n",
      "Epoch: 9500 \tLoss: 0.038010743\n",
      "Epoch: 10000 \tLoss: 0.037155695\n"
     ]
    }
   ],
   "source": [
    "n_epochs = 10001\n",
    "batch_size = 50\n",
    "n_batches = int(np.ceil(m / batch_size))\n",
    "\n",
    "checkpoint_path = \"/tmp/my_logreg_model.ckpt\"\n",
    "checkpoint_epoch_path = checkpoint_path + \".epoch\"\n",
    "final_model_path = \"./my_logreg_model\"\n",
    "\n",
    "with tf.Session() as sess:\n",
    "    if os.path.isfile(checkpoint_epoch_path):\n",
    "        # if the checkpoint file exists, restore the model and load the epoch number\n",
    "        with open(checkpoint_epoch_path, \"rb\") as f:\n",
    "            start_epoch = int(f.read())\n",
    "        print(\"Training was interrupted. Continuing at epoch\", start_epoch)\n",
    "        saver.restore(sess, checkpoint_path)\n",
    "    else:\n",
    "        start_epoch = 0\n",
    "        sess.run(init)\n",
    "    \n",
    "    for epoch in range(start_epoch, n_epochs):\n",
    "        for batch_index in range(n_batches):\n",
    "            X_batch, y_batch = random_batch(X_train_poly, y_train, batch_size)\n",
    "            sess.run(training_op, feed_dict = {X : X_batch, y : y_batch})\n",
    "        loss_val, summary_str = sess.run([loss, loss_summary], feed_dict = {X : X_test_poly, y : y_test})\n",
    "        file_writer.add_summary(summary_str, epoch)\n",
    "        if epoch % 500 == 0:\n",
    "            print(\"Epoch:\", epoch, \"\\tLoss:\", loss_val)\n",
    "            saver.save(sess, checkpoint_path)\n",
    "            with open(checkpoint_epoch_path, \"wb\") as f:\n",
    "                f.write(b\"%d\" % (epoch + 1))\n",
    "    \n",
    "    saver.save(sess, final_model_path)\n",
    "    y_proba_val = y_proba.eval(feed_dict = {X : X_test_poly, y : y_test})\n",
    "    os.remove(checkpoint_epoch_path)"
   ]
  },
  {
   "cell_type": "markdown",
   "metadata": {},
   "source": [
    "Once again, we can make predictions by just classifying as positive all the instances whose estimated probability is greater or equal to 0.5"
   ]
  },
  {
   "cell_type": "code",
   "execution_count": 68,
   "metadata": {
    "collapsed": true
   },
   "outputs": [],
   "source": [
    "y_pred = (y_proba_val >= 0.5)"
   ]
  },
  {
   "cell_type": "code",
   "execution_count": 69,
   "metadata": {},
   "outputs": [
    {
     "data": {
      "text/plain": [
       "0.9797979797979798"
      ]
     },
     "execution_count": 69,
     "metadata": {},
     "output_type": "execute_result"
    }
   ],
   "source": [
    "precision_score(y_test, y_pred)"
   ]
  },
  {
   "cell_type": "code",
   "execution_count": 70,
   "metadata": {},
   "outputs": [
    {
     "data": {
      "text/plain": [
       "0.9797979797979798"
      ]
     },
     "execution_count": 70,
     "metadata": {},
     "output_type": "execute_result"
    }
   ],
   "source": [
    "recall_score(y_test, y_pred)"
   ]
  },
  {
   "cell_type": "code",
   "execution_count": 71,
   "metadata": {},
   "outputs": [
    {
     "data": {
      "text/plain": [
       "0.98"
      ]
     },
     "execution_count": 71,
     "metadata": {},
     "output_type": "execute_result"
    }
   ],
   "source": [
    "from sklearn.metrics import accuracy_score\n",
    "\n",
    "accuracy_score(y_test, y_pred)"
   ]
  },
  {
   "cell_type": "code",
   "execution_count": 72,
   "metadata": {},
   "outputs": [
    {
     "data": {
      "text/plain": [
       "array([[99,  2],\n",
       "       [ 2, 97]])"
      ]
     },
     "execution_count": 72,
     "metadata": {},
     "output_type": "execute_result"
    }
   ],
   "source": [
    "from sklearn.metrics import confusion_matrix\n",
    "\n",
    "confusion_matrix(y_test, y_pred)"
   ]
  },
  {
   "cell_type": "code",
   "execution_count": 73,
   "metadata": {},
   "outputs": [
    {
     "data": {
      "image/png": "[encoded data removed]",
      "text/plain": [
       "<matplotlib.figure.Figure at 0x7fce4e0fa908>"
      ]
     },
     "metadata": {},
     "output_type": "display_data"
    }
   ],
   "source": [
    "y_pred_idx = y_pred.reshape(-1) # a 1D array rather than a column vector\n",
    "plt.plot(X_test[y_pred_idx, 1], X_test[y_pred_idx, 2], 'go', label = \"Positive\")\n",
    "plt.plot(X_test[~y_pred_idx, 1], X_test[~y_pred_idx, 2], 'r^', label = \"Negative\")\n",
    "plt.legend()\n",
    "plt.show()"
   ]
  },
  {
   "cell_type": "markdown",
   "metadata": {},
   "source": [
    "Holy banana! This is so much better! Adding extra features helped out a lot."
   ]
  },
  {
   "cell_type": "markdown",
   "metadata": {},
   "source": [
    "Now, let's play with the hyperparameters (e.g., batch_size and learning_rate) and run training again and again, comparing the learning curves. This process can be automated by implementing the grid search or randomized search. "
   ]
  },
  {
   "cell_type": "code",
   "execution_count": 74,
   "metadata": {},
   "outputs": [
    {
     "name": "stdout",
     "output_type": "stream",
     "text": [
      "Iteration 0\n",
      " logdir: tf_logs/logreg-run-20180318225942/\n",
      " batch_size 54\n",
      " learning_rate 0.004430375245218265\n",
      " training.....................\n",
      " precision: 0.9797979797979798\n",
      " recall: 0.9797979797979798\n",
      "Iteration 1\n",
      " logdir: tf_logs/logreg-run-20180318230056/\n",
      " batch_size 22\n",
      " learning_rate 0.0017826497151386947\n",
      " training.....................\n",
      " precision: 0.9797979797979798\n",
      " recall: 0.9797979797979798\n",
      "Iteration 2\n",
      " logdir: tf_logs/logreg-run-20180318230339/\n",
      " batch_size 74\n",
      " learning_rate 0.00203228544324115\n",
      " training.....................\n",
      " precision: 0.9696969696969697\n",
      " recall: 0.9696969696969697\n",
      "Iteration 3\n",
      " logdir: tf_logs/logreg-run-20180318230436/\n",
      " batch_size 58\n",
      " learning_rate 0.004491523825137997\n",
      " training.....................\n",
      " precision: 0.9797979797979798\n",
      " recall: 0.9797979797979798\n",
      "Iteration 4\n",
      " logdir: tf_logs/logreg-run-20180318230548/\n",
      " batch_size 61\n",
      " learning_rate 0.07963234721775589\n",
      " training.....................\n",
      " precision: 0.9801980198019802\n",
      " recall: 1.0\n",
      "Iteration 5\n",
      " logdir: tf_logs/logreg-run-20180318230700/\n",
      " batch_size 92\n",
      " learning_rate 0.0004634250583294876\n",
      " training.....................\n",
      " precision: 0.912621359223301\n",
      " recall: 0.9494949494949495\n",
      "Iteration 6\n",
      " logdir: tf_logs/logreg-run-20180318230748/\n",
      " batch_size 74\n",
      " learning_rate 0.047706818419354494\n",
      " training.....................\n",
      " precision: 0.98\n",
      " recall: 0.98989898989899\n",
      "Iteration 7\n",
      " logdir: tf_logs/logreg-run-20180318230843/\n",
      " batch_size 58\n",
      " learning_rate 0.0001694044709524274\n",
      " training.....................\n",
      " precision: 0.9\n",
      " recall: 0.9090909090909091\n",
      "Iteration 8\n",
      " logdir: tf_logs/logreg-run-20180318230954/\n",
      " batch_size 61\n",
      " learning_rate 0.04171461199412461\n",
      " training.....................\n",
      " precision: 0.9801980198019802\n",
      " recall: 1.0\n",
      "Iteration 9\n",
      " logdir: tf_logs/logreg-run-20180318231112/\n",
      " batch_size 92\n",
      " learning_rate 0.00010742922968438615\n",
      " training.....................\n",
      " precision: 0.8823529411764706\n",
      " recall: 0.7575757575757576\n"
     ]
    }
   ],
   "source": [
    "from scipy.stats import reciprocal\n",
    "\n",
    "n_search_iterations = 10\n",
    "\n",
    "for search_iteration in range(n_search_iterations):\n",
    "    batch_size = np.random.randint(1, 100)\n",
    "    learning_rate = reciprocal(0.0001, 0.1).rvs(random_state = search_iteration)\n",
    "    \n",
    "    n_inputs = 2 + 4\n",
    "    logdir = log_dir(\"logreg\")\n",
    "    \n",
    "    print(\"Iteration\", search_iteration)\n",
    "    print(\" logdir:\", logdir)\n",
    "    print(\" batch_size\", batch_size)\n",
    "    print(\" learning_rate\", learning_rate)\n",
    "    print(\" training\", end = \"\")\n",
    "    \n",
    "    reset_graph()\n",
    "    \n",
    "    X = tf.placeholder(tf.float32, shape = (None, n_inputs + 1), name = \"X\")\n",
    "    y = tf.placeholder(tf.float32, shape = (None, 1), name = \"y\")\n",
    "    \n",
    "    y_proba, loss, training_op, loss_summary, init, saver = logistic_banana(X, y, learning_rate = learning_rate)\n",
    "    \n",
    "    file_writer = tf.summary.FileWriter(logdir, tf.get_default_graph())\n",
    "    \n",
    "    n_epochs = 10001\n",
    "    n_batches = int(np.ceil(m / batch_size))\n",
    "    \n",
    "    final_model_path = \"./my_logreg_model_%d\" % search_iteration\n",
    "    \n",
    "    with tf.Session() as sess:\n",
    "        sess.run(init)\n",
    "        \n",
    "        for epoch in range(n_epochs):\n",
    "            for batch_index in range(n_batches):\n",
    "                X_batch, y_batch = random_batch(X_train_poly, y_train, batch_size)\n",
    "                sess.run(training_op, feed_dict = {X : X_batch, y : y_batch})\n",
    "            loss_val, summary_str = sess.run([loss, loss_summary], feed_dict = {X : X_test_poly, y : y_test})\n",
    "            file_writer.add_summary(summary_str, epoch)\n",
    "            if epoch % 500 == 0:\n",
    "                print(\".\", end = \"\")\n",
    "                \n",
    "        saver.save(sess, final_model_path)\n",
    "        \n",
    "        print()\n",
    "        y_proba_val = y_proba.eval(feed_dict = {X: X_test_poly, y : y_test})\n",
    "        y_pred = (y_proba_val >= 0.5)\n",
    "        \n",
    "        print(\" precision:\", precision_score(y_test, y_pred))\n",
    "        print(\" recall:\", recall_score(y_test, y_pred))"
   ]
  },
  {
   "cell_type": "markdown",
   "metadata": {},
   "source": [
    "So, the best result is:\n",
    "\n",
    "Iteration 4\n",
    "\n",
    " logdir: tf_logs/logreg-run-20180318075632/\n",
    " \n",
    " batch_size 75\n",
    " \n",
    " learning_rate 0.07963234721775589\n",
    " \n",
    " training.....................\n",
    " \n",
    " precision: 0.9801980198019802\n",
    " \n",
    " recall: 1.0"
   ]
  },
  {
   "cell_type": "markdown",
   "metadata": {},
   "source": [
    "Q5. Similar to the linear regression implementation in class, write a lasso regression implementation. Use the same dataset, and choose a value for the penalty $\\alpha$:\n",
    "\n",
    "Using a Saver at regular intervals during training, and save the final model at the end of training.\n",
    "\n",
    "Restore the last checkpoint upon startup if training was interrupted.\n",
    "\n",
    "Define the graph using name scopes so the graph looks good in TensorBoard.\n",
    "\n",
    "Add summaries to visualize the learning curves in TensorBoard.\n",
    "\n",
    "Try tweaking some hyperparameters such as the learning rate or the mini-batch size and look at the shape of the learning curve."
   ]
  },
  {
   "cell_type": "code",
   "execution_count": 301,
   "metadata": {
    "collapsed": true
   },
   "outputs": [],
   "source": [
    "# Let's reset the default graph\n",
    "\n",
    "reset_graph()"
   ]
  },
  {
   "cell_type": "code",
   "execution_count": 361,
   "metadata": {
    "collapsed": true
   },
   "outputs": [],
   "source": [
    "X_train_poly = np.c_[X_train, X_train[:, 1] ** 2, X_train[:, 2] ** 2, X_train[:, 1] ** 3, X_train[:, 2] ** 3]\n",
    "\n",
    "X_test_poly = np.c_[X_test, X_test[:, 1] ** 2, X_test[:, 2] ** 2, X_test[:, 1] ** 3, X_test[:, 2] ** 3]"
   ]
  },
  {
   "cell_type": "code",
   "execution_count": 389,
   "metadata": {
    "collapsed": true
   },
   "outputs": [],
   "source": [
    "def lasso_reg(X, y, learning_rate, lasso_param, seed = 42):\n",
    "    n_inputs_including_bias = int(X.get_shape()[1]) # Need to get the number of columns to generate the number\n",
    "                                                    # of rows for the theta\n",
    "    lasso_param = tf.constant(lasso_param)\n",
    "    \n",
    "    with tf.name_scope(\"lasso_regression\"):\n",
    "        with tf.name_scope(\"model\"):\n",
    "            new_theta = tf.Variable(tf.random_uniform([n_inputs_including_bias, 1], -1.0, 1.0, seed=42), \n",
    "                                    name=\"new_theta\")\n",
    "            y_pred = tf.matmul(X, new_theta, name=\"predictions\")\n",
    "        with tf.name_scope(\"train\"):\n",
    "            #We add the loss function, which is a modified continuous heavyside step function.\n",
    "            \n",
    "            heavyside_step = tf.truediv(1., tf.add(1., tf.exp(tf.multiply(-100., tf.subtract(new_theta, lasso_param)))))\n",
    "            regularization_param = tf.multiply(heavyside_step, 99.)\n",
    "            loss = tf.add(tf.reduce_mean(tf.square(y - y_pred)), regularization_param) \n",
    "            \n",
    "            #heavyside_step = tf.truediv(1., tf.add(1., tf.exp(tf.multiply(-100., \n",
    "                                                                          #tf.subtract(new_theta, lasso_param)))))\n",
    "            #regularization_param = tf.multiply(heavyside_step, 99.)\n",
    "            #loss = tf.add(tf.reduce_mean(tf.square(y - y_pred)), regularization_param)\n",
    "            optimizer = tf.train.GradientDescentOptimizer(learning_rate=learning_rate)\n",
    "            training_op = optimizer.minimize(loss)\n",
    "            # tf.summary.scalar(value.op.name, value)\n",
    "            #loss_summary = tf.summary.scalar('lasso_loss', loss) # THE ORIGINAL. DO NOT DELETE!\n",
    "            #loss_summary = tf.summary.scalar('lasso_loss', tf.reduce_mean(loss)) # DO NOT DELETE!\n",
    "            loss = tf.reduce_mean(loss)\n",
    "            loss_summary = tf.summary.scalar('lasso_loss', loss)\n",
    "        with tf.name_scope(\"init\"):\n",
    "            init = tf.global_variables_initializer()\n",
    "        with tf.name_scope(\"save\"):\n",
    "            saver = tf.train.Saver(max_to_keep=None)\n",
    "    return y_pred, loss, training_op, loss_summary, init, saver"
   ]
  },
  {
   "cell_type": "code",
   "execution_count": 390,
   "metadata": {
    "collapsed": true
   },
   "outputs": [],
   "source": [
    "from datetime import datetime\n",
    "\n",
    "def lasso_dir(prefix=\"\"):\n",
    "    now = datetime.utcnow().strftime(\"%Y%m%d%H%M%S\")\n",
    "    root_logdir = \"tf_logs\"\n",
    "    if prefix:\n",
    "        prefix += \"-\"\n",
    "    name = prefix + \"run-\" + now\n",
    "    return \"{}/{}/\".format(root_logdir, name)"
   ]
  },
  {
   "cell_type": "code",
   "execution_count": 413,
   "metadata": {
    "collapsed": true
   },
   "outputs": [],
   "source": [
    "n_inputs = 2 + 4\n",
    "lassodir = lasso_dir(\"lassoreg\")\n",
    "\n",
    "learning_rate = 0.000001\n",
    "lasso_param = 0.01\n",
    "\n",
    "X = tf.placeholder(tf.float32, shape=(None, n_inputs + 1), name=\"X\")\n",
    "y = tf.placeholder(tf.float32, shape=(None, 1), name=\"y\")\n",
    "\n",
    "y_pred, loss, training_op, loss_summary, init, saver = lasso_reg(X, y, learning_rate, lasso_param)\n",
    "\n",
    "file_writer = tf.summary.FileWriter(lassodir, tf.get_default_graph())"
   ]
  },
  {
   "cell_type": "code",
   "execution_count": 414,
   "metadata": {},
   "outputs": [
    {
     "name": "stdout",
     "output_type": "stream",
     "text": [
      "Epoch: 0 \tLoss: 43.72359\n",
      "INFO:tensorflow:/tmp/my_logreg_model.ckpt is not in all_model_checkpoint_paths. Manually adding it.\n",
      "Epoch: 500 \tLoss: 43.083424\n",
      "INFO:tensorflow:/tmp/my_logreg_model.ckpt is not in all_model_checkpoint_paths. Manually adding it.\n",
      "Epoch: 1000 \tLoss: 43.05899\n",
      "INFO:tensorflow:/tmp/my_logreg_model.ckpt is not in all_model_checkpoint_paths. Manually adding it.\n",
      "Epoch: 1500 \tLoss: 43.01138\n",
      "INFO:tensorflow:/tmp/my_logreg_model.ckpt is not in all_model_checkpoint_paths. Manually adding it.\n",
      "Epoch: 2000 \tLoss: 42.97468\n",
      "INFO:tensorflow:/tmp/my_logreg_model.ckpt is not in all_model_checkpoint_paths. Manually adding it.\n",
      "Epoch: 2500 \tLoss: 42.948708\n",
      "INFO:tensorflow:/tmp/my_logreg_model.ckpt is not in all_model_checkpoint_paths. Manually adding it.\n",
      "Epoch: 3000 \tLoss: 42.92331\n",
      "INFO:tensorflow:/tmp/my_logreg_model.ckpt is not in all_model_checkpoint_paths. Manually adding it.\n",
      "Epoch: 3500 \tLoss: 28.739138\n",
      "INFO:tensorflow:/tmp/my_logreg_model.ckpt is not in all_model_checkpoint_paths. Manually adding it.\n",
      "Epoch: 4000 \tLoss: 28.717424\n",
      "INFO:tensorflow:/tmp/my_logreg_model.ckpt is not in all_model_checkpoint_paths. Manually adding it.\n",
      "Epoch: 4500 \tLoss: 28.701254\n",
      "INFO:tensorflow:/tmp/my_logreg_model.ckpt is not in all_model_checkpoint_paths. Manually adding it.\n",
      "Epoch: 5000 \tLoss: 28.687405\n",
      "INFO:tensorflow:/tmp/my_logreg_model.ckpt is not in all_model_checkpoint_paths. Manually adding it.\n",
      "Epoch: 5500 \tLoss: 28.674482\n",
      "INFO:tensorflow:/tmp/my_logreg_model.ckpt is not in all_model_checkpoint_paths. Manually adding it.\n",
      "Epoch: 6000 \tLoss: 28.66249\n",
      "INFO:tensorflow:/tmp/my_logreg_model.ckpt is not in all_model_checkpoint_paths. Manually adding it.\n",
      "Epoch: 6500 \tLoss: 28.651213\n",
      "INFO:tensorflow:/tmp/my_logreg_model.ckpt is not in all_model_checkpoint_paths. Manually adding it.\n",
      "Epoch: 7000 \tLoss: 28.640574\n",
      "INFO:tensorflow:/tmp/my_logreg_model.ckpt is not in all_model_checkpoint_paths. Manually adding it.\n",
      "Epoch: 7500 \tLoss: 28.630873\n",
      "INFO:tensorflow:/tmp/my_logreg_model.ckpt is not in all_model_checkpoint_paths. Manually adding it.\n",
      "Epoch: 8000 \tLoss: 28.62168\n",
      "INFO:tensorflow:/tmp/my_logreg_model.ckpt is not in all_model_checkpoint_paths. Manually adding it.\n",
      "Epoch: 8500 \tLoss: 28.613287\n",
      "INFO:tensorflow:/tmp/my_logreg_model.ckpt is not in all_model_checkpoint_paths. Manually adding it.\n",
      "Epoch: 9000 \tLoss: 28.605097\n",
      "INFO:tensorflow:/tmp/my_logreg_model.ckpt is not in all_model_checkpoint_paths. Manually adding it.\n",
      "Epoch: 9500 \tLoss: 28.59756\n",
      "INFO:tensorflow:/tmp/my_logreg_model.ckpt is not in all_model_checkpoint_paths. Manually adding it.\n",
      "Epoch: 10000 \tLoss: 28.590624\n",
      "INFO:tensorflow:/tmp/my_logreg_model.ckpt is not in all_model_checkpoint_paths. Manually adding it.\n",
      "INFO:tensorflow:./lassoreg_model is not in all_model_checkpoint_paths. Manually adding it.\n"
     ]
    }
   ],
   "source": [
    "#Code here\n",
    "\n",
    "n_epochs = 10001\n",
    "batch_size = 50\n",
    "n_batches = int(np.ceil(m / batch_size))\n",
    "\n",
    "new_checkpoint_path = \"/tmp/lassoreg_model.ckpt\"\n",
    "new_checkpoint_epoch_path = new_checkpoint_path + \".epoch\"\n",
    "final_model_path = \"./lassoreg_model\"\n",
    "\n",
    "with tf.Session() as sess:\n",
    "    if os.path.isfile(new_checkpoint_epoch_path):\n",
    "        # if the checkpoint file exists, restore the model and load the epoch number\n",
    "        with open(new_checkpoint_epoch_path, \"rb\") as f:\n",
    "            start_epoch = int(f.read())\n",
    "        print(\"Training was interrupted. Continuing at epoch\", start_epoch)\n",
    "        saver.restore(sess, new_checkpoint_path)\n",
    "    else:\n",
    "        start_epoch = 0\n",
    "        sess.run(init)\n",
    "    \n",
    "    for epoch in range(start_epoch, n_epochs):\n",
    "        for batch_index in range(n_batches):\n",
    "            X_batch, y_batch = random_batch(X_train_poly, y_train, batch_size)\n",
    "            sess.run(training_op, feed_dict = {X:X_batch, y:y_batch})\n",
    "        # tf.scalar_summary([loss.op.name], loss)\n",
    "        loss_val, summary_str = sess.run([loss, loss_summary], feed_dict = {X:X_test_poly, y:y_test}) # ORIGINAL\n",
    "        file_writer.add_summary(summary_str, epoch)\n",
    "        if epoch % 500 == 0:\n",
    "            print(\"Epoch:\", epoch, \"\\tLoss:\", loss_val)\n",
    "            saver.save(sess, checkpoint_path)\n",
    "            with open(checkpoint_epoch_path, \"wb\") as f:\n",
    "                f.write(b\"%d\" % (epoch + 1))\n",
    "    \n",
    "    saver.save(sess, final_model_path)\n",
    "    y_pred_val = y_pred.eval(feed_dict = {X:X_test_poly, y:y_test})\n",
    "    os.remove(checkpoint_epoch_path)"
   ]
  },
  {
   "cell_type": "code",
   "execution_count": 445,
   "metadata": {},
   "outputs": [
    {
     "name": "stdout",
     "output_type": "stream",
     "text": [
      "Iteration 0\n",
      " logdir: tf_logs/logreg-run-20180319025308/\n",
      " batch_size 61\n",
      " learning_rate 1.2520653814999462e-05\n",
      " training.....................INFO:tensorflow:./lassoreg_model_0 is not in all_model_checkpoint_paths. Manually adding it.\n",
      "\n",
      " precision: 0.495\n",
      " recall: 1.0\n",
      "Iteration 1\n",
      " logdir: tf_logs/logreg-run-20180319025308/\n",
      " batch_size 92\n",
      " learning_rate 6.82407842709883e-06\n",
      " training.....................INFO:tensorflow:./lassoreg_model_1 is not in all_model_checkpoint_paths. Manually adding it.\n",
      "\n",
      " precision: 0.495\n",
      " recall: 1.0\n",
      "Iteration 2\n",
      " logdir: tf_logs/logreg-run-20180319025308/\n",
      " batch_size 74\n",
      " learning_rate 7.447144904083069e-06\n",
      " training.....................INFO:tensorflow:./lassoreg_model_2 is not in all_model_checkpoint_paths. Manually adding it.\n",
      "\n",
      " precision: 0.495\n",
      " recall: 1.0\n",
      "Iteration 3\n",
      " logdir: tf_logs/logreg-run-20180319025308/\n",
      " batch_size 58\n",
      " learning_rate 1.263559813738166e-05\n",
      " training.....................INFO:tensorflow:./lassoreg_model_3 is not in all_model_checkpoint_paths. Manually adding it.\n",
      "\n",
      " precision: 0.495\n",
      " recall: 1.0\n",
      "Iteration 4\n",
      " logdir: tf_logs/logreg-run-20180319025308/\n",
      " batch_size 61\n",
      " learning_rate 8.591315698733484e-05\n",
      " training.....................INFO:tensorflow:./lassoreg_model_4 is not in all_model_checkpoint_paths. Manually adding it.\n",
      "\n",
      " precision: 0.0\n",
      " recall: 0.0\n",
      "Iteration 5\n",
      " logdir: tf_logs/logreg-run-20180319025308/\n",
      " batch_size 92\n",
      " learning_rate 2.7796258518939377e-06\n",
      " training."
     ]
    },
    {
     "name": "stderr",
     "output_type": "stream",
     "text": [
      "/home/isaac/anaconda3/lib/python3.6/site-packages/ipykernel_launcher.py:52: RuntimeWarning: invalid value encountered in greater_equal\n",
      "/home/isaac/anaconda3/lib/python3.6/site-packages/sklearn/metrics/classification.py:1135: UndefinedMetricWarning: Precision is ill-defined and being set to 0.0 due to no predicted samples.\n",
      "  'precision', 'predicted', average, warn_for)\n"
     ]
    },
    {
     "name": "stdout",
     "output_type": "stream",
     "text": [
      "....................INFO:tensorflow:./lassoreg_model_5 is not in all_model_checkpoint_paths. Manually adding it.\n",
      "\n",
      " precision: 0.495\n",
      " recall: 1.0\n",
      "Iteration 6\n",
      " logdir: tf_logs/logreg-run-20180319025308/\n",
      " batch_size 74\n",
      " learning_rate 6.105486887627989e-05\n",
      " training.....................INFO:tensorflow:./lassoreg_model_6 is not in all_model_checkpoint_paths. Manually adding it.\n",
      "\n",
      " precision: 0.0\n",
      " recall: 0.0\n",
      "Iteration 7\n",
      " logdir: tf_logs/logreg-run-20180319025308/\n",
      " batch_size 58\n",
      " learning_rate 1.4210736239935736e-06\n",
      " training.....................INFO:tensorflow:./lassoreg_model_7 is not in all_model_checkpoint_paths. Manually adding it.\n",
      "\n",
      " precision: 0.495\n",
      " recall: 1.0\n",
      "Iteration 8\n",
      " logdir: tf_logs/logreg-run-20180319025308/\n",
      " batch_size 61\n",
      " learning_rate 5.5828865879781986e-05\n",
      " training.....................INFO:tensorflow:./lassoreg_model_8 is not in all_model_checkpoint_paths. Manually adding it.\n",
      "\n",
      " precision: 0.0\n",
      " recall: 0.0\n",
      "Iteration 9\n",
      " logdir: tf_logs/logreg-run-20180319025308/\n",
      " batch_size 92\n",
      " learning_rate 1.0489343501429858e-06\n",
      " training.....................INFO:tensorflow:./lassoreg_model_9 is not in all_model_checkpoint_paths. Manually adding it.\n",
      "\n",
      " precision: 0.495\n",
      " recall: 1.0\n"
     ]
    }
   ],
   "source": [
    "# IT IS TWEAKING TIME!\n",
    "\n",
    "from scipy.stats import reciprocal\n",
    "\n",
    "n_search_iterations = 10\n",
    "\n",
    "for search_iteration in range(n_search_iterations):\n",
    "    batch_size = np.random.randint(1, 100)\n",
    "    learning_rate = reciprocal(0.000001, 0.0001).rvs(random_state = search_iteration)\n",
    "    \n",
    "    n_inputs = 2 + 4\n",
    "    lassodir = lasso_dir(\"lassoreg\")\n",
    "    \n",
    "    print(\"Iteration\", search_iteration)\n",
    "    print(\" logdir:\", logdir)\n",
    "    print(\" batch_size\", batch_size)\n",
    "    print(\" learning_rate\", learning_rate)\n",
    "    print(\" training\", end = \"\")\n",
    "    \n",
    "    reset_graph()\n",
    "    \n",
    "    X = tf.placeholder(tf.float32, shape = (None, n_inputs + 1), name = \"X\")\n",
    "    y = tf.placeholder(tf.float32, shape = (None, 1), name = \"y\")\n",
    "    \n",
    "    y_pred, loss, training_op, loss_summary, init, saver = lasso_reg(X, y, learning_rate, lasso_param)\n",
    "    \n",
    "    file_writer = tf.summary.FileWriter(lassodir, tf.get_default_graph())\n",
    "    \n",
    "    n_epochs = 10001\n",
    "    n_batches = int(np.ceil(m / batch_size))\n",
    "    \n",
    "    final_model_path = \"./lassoreg_model_%d\" % search_iteration\n",
    "    \n",
    "    with tf.Session() as sess:\n",
    "        sess.run(init)\n",
    "        \n",
    "        for epoch in range(n_epochs):\n",
    "            for batch_index in range(n_batches):\n",
    "                X_batch, y_batch = random_batch(X_train_poly, y_train, batch_size)\n",
    "                sess.run(training_op, feed_dict = {X : X_batch, y : y_batch})\n",
    "            loss_val, summary_str = sess.run([loss, loss_summary], feed_dict = {X : X_test_poly, y : y_test})\n",
    "            file_writer.add_summary(summary_str, epoch)\n",
    "            if epoch % 500 == 0:\n",
    "                print(\".\", end = \"\")\n",
    "                \n",
    "        saver.save(sess, final_model_path)\n",
    "        \n",
    "        # WORK WITH THINGS BELOW\n",
    "        \n",
    "        print()\n",
    "        y_pred_val = y_pred.eval(feed_dict = {X:X_test_poly, y:y_test})\n",
    "        y_pred = (y_pred_val >= -1.0)\n",
    "        \n",
    "        print(\" precision:\", precision_score(y_test, y_pred))\n",
    "        print(\" recall:\", recall_score(y_test, y_pred))\n"
   ]
  },
  {
   "cell_type": "markdown",
   "metadata": {},
   "source": [
    "From the above, we can see that the best result is the following:\n",
    "\n",
    "precision: 0.495\n",
    "\n",
    " recall: 1.0\n",
    " \n",
    "Iteration 1\n",
    "\n",
    " logdir: tf_logs/logreg-run-20180319025308/\n",
    " \n",
    " batch_size 92\n",
    " \n",
    " learning_rate 6.82407842709883e-06\n",
    " \n",
    " training.....................INFO:tensorflow:./lassoreg_model_1 is not in all_model_checkpoint_paths. Manually adding it."
   ]
  },
  {
   "cell_type": "markdown",
   "metadata": {},
   "source": [
    "So, one thing that stands out in regards to the learning curves between the LogReg and LassoReg is that LogReg has a smooth decreasing curve (similar to 1/x where x >0) and LassoReg looks like a step function."
   ]
  },
  {
   "cell_type": "code",
   "execution_count": null,
   "metadata": {
    "collapsed": true
   },
   "outputs": [],
   "source": []
  }
 ],
 "metadata": {
  "anaconda-cloud": {},
  "kernelspec": {
   "display_name": "Python 3",
   "language": "python",
   "name": "python3"
  },
  "language_info": {
   "codemirror_mode": {
    "name": "ipython",
    "version": 3
   },
   "file_extension": ".py",
   "mimetype": "text/x-python",
   "name": "python",
   "nbconvert_exporter": "python",
   "pygments_lexer": "ipython3",
   "version": "3.6.3"
  }
 },
 "nbformat": 4,
 "nbformat_minor": 2
}
