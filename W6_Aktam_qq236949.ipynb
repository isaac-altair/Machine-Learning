{
 "cells": [
  {
   "cell_type": "markdown",
   "metadata": {},
   "source": [
    "### Your name:\n",
    "\n",
    "<pre> Isaac Aktam</pre>\n",
    "\n",
    "### Collaborators:\n",
    "\n",
    "<pre> Ashish Gupta, Konrad Korzeniewski</pre>"
   ]
  },
  {
   "cell_type": "markdown",
   "metadata": {},
   "source": [
    "## Assignment for Module 6\n",
    "\n",
    "In this assignment you will continue working with the housing price per district from the previous module assignment, this time training SVM models, both for regression and classification.\n",
    "\n",
    "#### Getting the data for the assignment (similar to the notebook from chapter 2 of Hands-On...)"
   ]
  },
  {
   "cell_type": "code",
   "execution_count": 2,
   "metadata": {
    "collapsed": true
   },
   "outputs": [],
   "source": [
    "import os\n",
    "import tarfile\n",
    "from six.moves import urllib\n",
    "\n",
    "DOWNLOAD_ROOT = \"https://raw.githubusercontent.com/ageron/handson-ml/master/\"\n",
    "HOUSING_PATH = os.path.join(\"datasets\", \"housing\")\n",
    "HOUSING_URL = DOWNLOAD_ROOT + \"datasets/housing/housing.tgz\"\n",
    "\n",
    "def fetch_housing_data(housing_url=HOUSING_URL, housing_path=HOUSING_PATH):\n",
    "    if not os.path.isdir(housing_path):\n",
    "        os.makedirs(housing_path)\n",
    "    tgz_path = os.path.join(housing_path, \"housing.tgz\")\n",
    "    urllib.request.urlretrieve(housing_url, tgz_path)\n",
    "    housing_tgz = tarfile.open(tgz_path)\n",
    "    housing_tgz.extractall(path=housing_path)\n",
    "    housing_tgz.close()"
   ]
  },
  {
   "cell_type": "code",
   "execution_count": 3,
   "metadata": {
    "collapsed": true
   },
   "outputs": [],
   "source": [
    "fetch_housing_data()"
   ]
  },
  {
   "cell_type": "code",
   "execution_count": 4,
   "metadata": {
    "collapsed": true
   },
   "outputs": [],
   "source": [
    "import pandas as pd\n",
    "\n",
    "def load_housing_data(housing_path=HOUSING_PATH):\n",
    "    csv_path = os.path.join(housing_path, \"housing.csv\")\n",
    "    return pd.read_csv(csv_path)"
   ]
  },
  {
   "cell_type": "code",
   "execution_count": 5,
   "metadata": {
    "collapsed": true
   },
   "outputs": [],
   "source": [
    "housing = load_housing_data()"
   ]
  },
  {
   "cell_type": "markdown",
   "metadata": {},
   "source": [
    "### Fix the categories in the categorical variable"
   ]
  },
  {
   "cell_type": "code",
   "execution_count": 6,
   "metadata": {
    "collapsed": true
   },
   "outputs": [],
   "source": [
    "d = {'<1H OCEAN':'LESS_1H_OCEAN', 'INLAND':'INLAND', 'ISLAND':'ISLAND', 'NEAR BAY':'NEAR_BAY', 'NEAR OCEAN':'NEAR_OCEAN'}\n",
    "housing['ocean_proximity'] = housing['ocean_proximity'].map(lambda s: d[s])"
   ]
  },
  {
   "cell_type": "markdown",
   "metadata": {},
   "source": [
    "### Add 2 more features"
   ]
  },
  {
   "cell_type": "code",
   "execution_count": 7,
   "metadata": {
    "collapsed": true
   },
   "outputs": [],
   "source": [
    "housing[\"rooms_per_household\"] = housing[\"total_rooms\"]/housing[\"households\"]\n",
    "housing[\"population_per_household\"]=housing[\"population\"]/housing[\"households\"]"
   ]
  },
  {
   "cell_type": "markdown",
   "metadata": {},
   "source": [
    "### Fix missing data"
   ]
  },
  {
   "cell_type": "code",
   "execution_count": 8,
   "metadata": {
    "collapsed": true
   },
   "outputs": [],
   "source": [
    "median = housing[\"total_bedrooms\"].median()\n",
    "housing[\"total_bedrooms\"].fillna(median, inplace=True) "
   ]
  },
  {
   "cell_type": "markdown",
   "metadata": {},
   "source": [
    "### Create dummy variables based on the categorical variable"
   ]
  },
  {
   "cell_type": "code",
   "execution_count": 9,
   "metadata": {
    "collapsed": true
   },
   "outputs": [],
   "source": [
    "one_hot = pd.get_dummies(housing['ocean_proximity'])\n",
    "housing = housing.drop('ocean_proximity', axis=1)\n",
    "housing = housing.join(one_hot)"
   ]
  },
  {
   "cell_type": "markdown",
   "metadata": {},
   "source": [
    "### Check the data"
   ]
  },
  {
   "cell_type": "code",
   "execution_count": 10,
   "metadata": {},
   "outputs": [
    {
     "name": "stdout",
     "output_type": "stream",
     "text": [
      "<class 'pandas.core.frame.DataFrame'>\n",
      "RangeIndex: 20640 entries, 0 to 20639\n",
      "Data columns (total 16 columns):\n",
      "longitude                   20640 non-null float64\n",
      "latitude                    20640 non-null float64\n",
      "housing_median_age          20640 non-null float64\n",
      "total_rooms                 20640 non-null float64\n",
      "total_bedrooms              20640 non-null float64\n",
      "population                  20640 non-null float64\n",
      "households                  20640 non-null float64\n",
      "median_income               20640 non-null float64\n",
      "median_house_value          20640 non-null float64\n",
      "rooms_per_household         20640 non-null float64\n",
      "population_per_household    20640 non-null float64\n",
      "INLAND                      20640 non-null uint8\n",
      "ISLAND                      20640 non-null uint8\n",
      "LESS_1H_OCEAN               20640 non-null uint8\n",
      "NEAR_BAY                    20640 non-null uint8\n",
      "NEAR_OCEAN                  20640 non-null uint8\n",
      "dtypes: float64(11), uint8(5)\n",
      "memory usage: 1.8 MB\n"
     ]
    }
   ],
   "source": [
    "housing.info()"
   ]
  },
  {
   "cell_type": "markdown",
   "metadata": {},
   "source": [
    "### Partition into train and test\n",
    "\n",
    "Use train_test_split from sklearn.model_selection to partition the dataset into 70% for training and 30% for testing.\n",
    "\n",
    "You can use the 70% for training set as both training and validation by using cross-validation.\n"
   ]
  },
  {
   "cell_type": "code",
   "execution_count": 11,
   "metadata": {
    "collapsed": true
   },
   "outputs": [],
   "source": [
    "from sklearn.model_selection import train_test_split\n",
    "train_set, test_set = train_test_split(housing, test_size=0.3, random_state=42)"
   ]
  },
  {
   "cell_type": "markdown",
   "metadata": {},
   "source": [
    "### Features"
   ]
  },
  {
   "cell_type": "code",
   "execution_count": 12,
   "metadata": {
    "collapsed": true
   },
   "outputs": [],
   "source": [
    "target = 'median_house_value'\n",
    "features = list(train_set.columns)\n",
    "features = [f for f in features if f!=target]"
   ]
  },
  {
   "cell_type": "code",
   "execution_count": 13,
   "metadata": {
    "collapsed": true
   },
   "outputs": [],
   "source": [
    "X_tr = train_set[features]\n",
    "y_tr = train_set[[target]]\n",
    "\n",
    "X_te = test_set[features]\n",
    "y_te = test_set[[target]]"
   ]
  },
  {
   "cell_type": "markdown",
   "metadata": {},
   "source": [
    "### Scaling features"
   ]
  },
  {
   "cell_type": "markdown",
   "metadata": {},
   "source": [
    "Similarly, use StandardScaler from sklearn.preprocessing to normalize the training and testing data, using the training data"
   ]
  },
  {
   "cell_type": "code",
   "execution_count": 31,
   "metadata": {
    "collapsed": true
   },
   "outputs": [],
   "source": [
    "from sklearn.preprocessing import StandardScaler\n",
    "\n",
    "scaler = StandardScaler()\n",
    "scaler.fit(X_tr)\n",
    "X_tr = scaler.transform(X_tr)\n",
    "X_te = scaler.transform(X_te)"
   ]
  },
  {
   "cell_type": "markdown",
   "metadata": {},
   "source": [
    "#### Comparing models"
   ]
  },
  {
   "cell_type": "code",
   "execution_count": 16,
   "metadata": {
    "collapsed": true
   },
   "outputs": [],
   "source": [
    "from sklearn.model_selection import cross_val_score\n",
    "from sklearn.model_selection import GridSearchCV\n",
    "import numpy as np\n",
    "\n",
    "def display_scores(scores):\n",
    "    print(\"Scores:\", scores)\n",
    "    print(\"Mean:\", scores.mean())"
   ]
  },
  {
   "cell_type": "markdown",
   "metadata": {},
   "source": [
    "### Linear regression on original features (no transformations) --- benchmark"
   ]
  },
  {
   "cell_type": "code",
   "execution_count": 25,
   "metadata": {},
   "outputs": [
    {
     "name": "stdout",
     "output_type": "stream",
     "text": [
      "Scores: [70142.55721218 67456.39127204 67318.3258893  70866.26065275]\n",
      "Mean: 68945.88375656825\n"
     ]
    }
   ],
   "source": [
    "from sklearn.linear_model import LinearRegression\n",
    "lin_scores = cross_val_score(LinearRegression(), train_set[features], train_set[target], scoring=\"neg_mean_squared_error\", cv=4)\n",
    "lin_rmse_scores = np.sqrt(-lin_scores)\n",
    "display_scores(lin_rmse_scores)"
   ]
  },
  {
   "cell_type": "markdown",
   "metadata": {},
   "source": [
    "### 1. Support Vector Machines for Regression"
   ]
  },
  {
   "cell_type": "markdown",
   "metadata": {},
   "source": [
    "#### (a) In this exercise your goal is to tune SVR with FBR kernel, and make the average score mean_squared_error over 3-folds (cv=3) below 58000. \n",
    "\n",
    "You are encouraged to try optimizing any of the hyper-parameters of SVR\n",
    "\n",
    "See http://scikit-learn.org/stable/modules/generated/sklearn.svm.SVR.html for more details\n",
    "\n",
    "However, as a hint, you can focus on C and gamma. \n",
    "\n",
    "Hint 2: if when you try different values for a hyper-parameter, the optimal models corresponds to one of the extreme values in your range, that probably means you can keep improving your solution by considering values beyond the current range.\n",
    "\n"
   ]
  },
  {
   "cell_type": "code",
   "execution_count": 26,
   "metadata": {},
   "outputs": [
    {
     "data": {
      "text/plain": [
       "GridSearchCV(cv=3, error_score='raise',\n",
       "       estimator=SVR(C=1.0, cache_size=200, coef0=0.0, degree=3, epsilon=0.1, gamma='auto',\n",
       "  kernel='rbf', max_iter=-1, shrinking=True, tol=0.001, verbose=False),\n",
       "       fit_params=None, iid=True, n_jobs=1,\n",
       "       param_grid=[{'C': [100000, 1000000], 'gamma': [0.01, 0.1, 1]}],\n",
       "       pre_dispatch='2*n_jobs', refit=True, return_train_score='warn',\n",
       "       scoring='neg_mean_squared_error', verbose=0)"
      ]
     },
     "execution_count": 26,
     "metadata": {},
     "output_type": "execute_result"
    }
   ],
   "source": [
    "from sklearn.svm import SVR\n",
    "\n",
    "# C_vals = [0.0001, 0.001, 0.01, 0.1, 1, 10, 100, 1000, 10000] ## YOUR VALUES FOR C ##\n",
    "# gamma_vals = [0.0001, 0.001, 0.01, 0.1, 1, 10, 100, 1000, 10000] ## YOUR VALUES FOR gamma ## \n",
    "\n",
    "C_vals = [100000, 1000000] ## YOUR VALUES FOR C ##\n",
    "gamma_vals = [0.01, 0.1, 1] ## YOUR VALUES FOR gamma ## \n",
    "\n",
    "#C_vals = [100000, 1000000, 10000000, 100000000, 1000000000] ## YOUR VALUES FOR C ##\n",
    "#gamma_vals = [0.01, 0.1, 1] ## YOUR VALUES FOR gamma ## \n",
    "\n",
    "param_grid = [{'C':C_vals, 'gamma':gamma_vals}]\n",
    "grid_search_rbf = GridSearchCV(SVR(kernel='rbf'), param_grid, cv=3,scoring='neg_mean_squared_error')\n",
    "grid_search_rbf.fit(X_tr, np.ravel(y_tr))"
   ]
  },
  {
   "cell_type": "code",
   "execution_count": 27,
   "metadata": {},
   "outputs": [
    {
     "name": "stdout",
     "output_type": "stream",
     "text": [
      "{'C': 1000000, 'gamma': 0.1}\n",
      "55421.59987804083\n"
     ]
    }
   ],
   "source": [
    "print(grid_search_rbf.best_params_)\n",
    "print(np.sqrt(-grid_search_rbf.best_score_))\n",
    "\n",
    "# {'C': 10000, 'gamma': 0.1}\n",
    "# 62439.06054204476\n",
    "\n",
    "# {'C': 1000000, 'gamma': 0.1}\n",
    "# 55421.59987804083"
   ]
  },
  {
   "cell_type": "markdown",
   "metadata": {},
   "source": [
    "### Performance on Test Set"
   ]
  },
  {
   "cell_type": "code",
   "execution_count": 28,
   "metadata": {},
   "outputs": [
    {
     "name": "stdout",
     "output_type": "stream",
     "text": [
      "54175.05097778363\n"
     ]
    }
   ],
   "source": [
    "from sklearn.metrics import mean_squared_error\n",
    "\n",
    "final_model = grid_search_rbf.best_estimator_   ## THIS SHOULD BE THE BEST GRID_SEARCH ##\n",
    "\n",
    "y_te_estimation = final_model.predict(X_te)\n",
    "\n",
    "final_mse = mean_squared_error(y_te, y_te_estimation)\n",
    "final_rmse = np.sqrt(final_mse)\n",
    "print(final_rmse) # 54175.05097778363"
   ]
  },
  {
   "cell_type": "code",
   "execution_count": 29,
   "metadata": {},
   "outputs": [
    {
     "data": {
      "image/png": "[encoded data removed]",
      "text/plain": [
       "<matplotlib.figure.Figure at 0x7f698dda1198>"
      ]
     },
     "metadata": {},
     "output_type": "display_data"
    }
   ],
   "source": [
    "import matplotlib.pyplot as plt\n",
    "\n",
    "#plt.figure(figsize=(700,5))\n",
    "\n",
    "plt.scatter(x=np.array(y_te), y=y_te_estimation)\n",
    "#plt.xlim([-200000,800000])\n",
    "#plt.ylim([-200000,800000])\n",
    "#plt.xticks(x_axis, rotation='vertical') # New\n",
    "plt.tight_layout() # New\n",
    "\n",
    "plt.show()"
   ]
  },
  {
   "cell_type": "markdown",
   "metadata": {
    "collapsed": true
   },
   "source": [
    "### 2. SVM for Classification\n",
    "\n",
    "Now we transform the continuous target into a binary variable, indicating whether or not the price is above the average $179700\n"
   ]
  },
  {
   "cell_type": "code",
   "execution_count": 17,
   "metadata": {
    "collapsed": true
   },
   "outputs": [],
   "source": [
    "from sklearn.metrics import accuracy_score"
   ]
  },
  {
   "cell_type": "code",
   "execution_count": 18,
   "metadata": {},
   "outputs": [
    {
     "data": {
      "text/plain": [
       "179700.0"
      ]
     },
     "execution_count": 18,
     "metadata": {},
     "output_type": "execute_result"
    }
   ],
   "source": [
    "np.median(housing[['median_house_value']])"
   ]
  },
  {
   "cell_type": "markdown",
   "metadata": {},
   "source": [
    "#### Binary target variable"
   ]
  },
  {
   "cell_type": "code",
   "execution_count": 32,
   "metadata": {
    "collapsed": true
   },
   "outputs": [],
   "source": [
    "y_tr_b = 1*np.ravel(y_tr>=179700.0)\n",
    "y_te_b = 1*np.ravel(y_te>=179700.0)"
   ]
  },
  {
   "cell_type": "markdown",
   "metadata": {},
   "source": [
    "#### Linear SVM for classification"
   ]
  },
  {
   "cell_type": "code",
   "execution_count": 49,
   "metadata": {
    "collapsed": true
   },
   "outputs": [],
   "source": [
    "from sklearn.svm import LinearSVC"
   ]
  },
  {
   "cell_type": "code",
   "execution_count": 50,
   "metadata": {},
   "outputs": [
    {
     "data": {
      "text/plain": [
       "LinearSVC(C=1.0, class_weight=None, dual=True, fit_intercept=True,\n",
       "     intercept_scaling=1, loss='squared_hinge', max_iter=1000,\n",
       "     multi_class='ovr', penalty='l2', random_state=42, tol=0.0001,\n",
       "     verbose=0)"
      ]
     },
     "execution_count": 50,
     "metadata": {},
     "output_type": "execute_result"
    }
   ],
   "source": [
    "lin_clf = LinearSVC(random_state=42)\n",
    "lin_clf.fit(X_tr, y_tr_b)"
   ]
  },
  {
   "cell_type": "code",
   "execution_count": 51,
   "metadata": {},
   "outputs": [
    {
     "data": {
      "text/plain": [
       "0.8385243632336655"
      ]
     },
     "execution_count": 51,
     "metadata": {},
     "output_type": "execute_result"
    }
   ],
   "source": [
    "y_pred = lin_clf.predict(X_tr)\n",
    "accuracy_score(y_tr_b, y_pred)"
   ]
  },
  {
   "cell_type": "code",
   "execution_count": 52,
   "metadata": {},
   "outputs": [
    {
     "name": "stdout",
     "output_type": "stream",
     "text": [
      "0.401840312520203\n"
     ]
    }
   ],
   "source": [
    "# Calculate the RMSE\n",
    "\n",
    "final_mse_linearSVC = mean_squared_error(y_tr_b, y_pred)\n",
    "final_rmse_linearSVC = np.sqrt(final_mse_linearSVC)\n",
    "print(final_rmse_linearSVC)"
   ]
  },
  {
   "cell_type": "markdown",
   "metadata": {},
   "source": [
    "### (a) Does SVC (with default hyper-parameters) improve the performance of the linear SVM?"
   ]
  },
  {
   "cell_type": "code",
   "execution_count": 33,
   "metadata": {
    "collapsed": true
   },
   "outputs": [],
   "source": [
    "from sklearn.svm import SVC"
   ]
  },
  {
   "cell_type": "code",
   "execution_count": 34,
   "metadata": {},
   "outputs": [
    {
     "data": {
      "text/plain": [
       "0.866140642303433"
      ]
     },
     "execution_count": 34,
     "metadata": {},
     "output_type": "execute_result"
    }
   ],
   "source": [
    "svc_default = SVC(random_state = 42)## YOUR CODE HERE ##\n",
    "\n",
    "svc_default.fit(X_tr, y_tr_b)## YOUR CODE HERE ##\n",
    "\n",
    "y_pred_svc_default = svc_default.predict(X_tr)## YOUR CODE HERE ##\n",
    "accuracy_score(y_tr_b, y_pred_svc_default) ## YOUR CODE HERE ##"
   ]
  },
  {
   "cell_type": "code",
   "execution_count": 35,
   "metadata": {},
   "outputs": [
    {
     "name": "stdout",
     "output_type": "stream",
     "text": [
      "0.36586795117441895\n"
     ]
    }
   ],
   "source": [
    "from sklearn.metrics import mean_squared_error\n",
    "\n",
    "final_mse_svc_default = mean_squared_error(y_tr_b, y_pred_svc_default)\n",
    "final_rmse_svc_default = np.sqrt(final_mse_svc_default)\n",
    "print(final_rmse_svc_default)"
   ]
  },
  {
   "cell_type": "markdown",
   "metadata": {},
   "source": [
    "### (b) Use randomized search to tune hyper-parameters of SVC and improve its performance"
   ]
  },
  {
   "cell_type": "code",
   "execution_count": 36,
   "metadata": {
    "collapsed": true
   },
   "outputs": [],
   "source": [
    "from sklearn.model_selection import RandomizedSearchCV\n",
    "from scipy.stats import reciprocal, uniform"
   ]
  },
  {
   "cell_type": "code",
   "execution_count": 37,
   "metadata": {},
   "outputs": [
    {
     "name": "stdout",
     "output_type": "stream",
     "text": [
      "Fitting 3 folds for each of 10 candidates, totalling 30 fits\n",
      "[CV] C=28418.639408307423, gamma=0.007320816089928332 ................\n",
      "[CV] . C=28418.639408307423, gamma=0.007320816089928332, total=  40.9s\n",
      "[CV] C=28418.639408307423, gamma=0.007320816089928332 ................\n"
     ]
    },
    {
     "name": "stderr",
     "output_type": "stream",
     "text": [
      "[Parallel(n_jobs=1)]: Done   1 out of   1 | elapsed:   42.0s remaining:    0.0s\n"
     ]
    },
    {
     "name": "stdout",
     "output_type": "stream",
     "text": [
      "[CV] . C=28418.639408307423, gamma=0.007320816089928332, total=  45.8s\n",
      "[CV] C=28418.639408307423, gamma=0.007320816089928332 ................\n",
      "[CV] . C=28418.639408307423, gamma=0.007320816089928332, total=  47.4s\n",
      "[CV] C=42184.20647414537, gamma=0.013894437412325513 .................\n",
      "[CV] .. C=42184.20647414537, gamma=0.013894437412325513, total= 1.5min\n",
      "[CV] C=42184.20647414537, gamma=0.013894437412325513 .................\n",
      "[CV] .. C=42184.20647414537, gamma=0.013894437412325513, total= 1.4min\n",
      "[CV] C=42184.20647414537, gamma=0.013894437412325513 .................\n",
      "[CV] .. C=42184.20647414537, gamma=0.013894437412325513, total= 1.5min\n",
      "[CV] C=98312.81397744245, gamma=0.015617273693055161 .................\n",
      "[CV] .. C=98312.81397744245, gamma=0.015617273693055161, total= 3.4min\n",
      "[CV] C=98312.81397744245, gamma=0.015617273693055161 .................\n",
      "[CV] .. C=98312.81397744245, gamma=0.015617273693055161, total= 4.0min\n",
      "[CV] C=98312.81397744245, gamma=0.015617273693055161 .................\n",
      "[CV] .. C=98312.81397744245, gamma=0.015617273693055161, total= 3.4min\n",
      "[CV] C=56161.86803190405, gamma=0.0021853542936727316 ................\n",
      "[CV] . C=56161.86803190405, gamma=0.0021853542936727316, total=  31.5s\n",
      "[CV] C=56161.86803190405, gamma=0.0021853542936727316 ................\n",
      "[CV] . C=56161.86803190405, gamma=0.0021853542936727316, total=  34.6s\n",
      "[CV] C=56161.86803190405, gamma=0.0021853542936727316 ................\n",
      "[CV] . C=56161.86803190405, gamma=0.0021853542936727316, total=  32.6s\n",
      "[CV] C=88682.72288794158, gamma=0.0027711895912798596 ................\n",
      "[CV] . C=88682.72288794158, gamma=0.0027711895912798596, total=  59.8s\n",
      "[CV] C=88682.72288794158, gamma=0.0027711895912798596 ................\n",
      "[CV] . C=88682.72288794158, gamma=0.0027711895912798596, total= 1.3min\n",
      "[CV] C=88682.72288794158, gamma=0.0027711895912798596 ................\n",
      "[CV] . C=88682.72288794158, gamma=0.0027711895912798596, total=  55.4s\n",
      "[CV] C=69083.36180349202, gamma=0.0014798321933350994 ................\n",
      "[CV] . C=69083.36180349202, gamma=0.0014798321933350994, total=  32.1s\n",
      "[CV] C=69083.36180349202, gamma=0.0014798321933350994 ................\n",
      "[CV] . C=69083.36180349202, gamma=0.0014798321933350994, total=  35.9s\n",
      "[CV] C=69083.36180349202, gamma=0.0014798321933350994 ................\n",
      "[CV] . C=69083.36180349202, gamma=0.0014798321933350994, total=  32.5s\n",
      "[CV] C=37305.16735687374, gamma=0.0016936413550581026 ................\n",
      "[CV] . C=37305.16735687374, gamma=0.0016936413550581026, total=  20.6s\n",
      "[CV] C=37305.16735687374, gamma=0.0016936413550581026 ................\n",
      "[CV] . C=37305.16735687374, gamma=0.0016936413550581026, total=  22.7s\n",
      "[CV] C=37305.16735687374, gamma=0.0016936413550581026 ................\n",
      "[CV] . C=37305.16735687374, gamma=0.0016936413550581026, total=  21.4s\n",
      "[CV] C=14394.574340570345, gamma=0.002356547419590048 ................\n",
      "[CV] . C=14394.574340570345, gamma=0.002356547419590048, total=  12.6s\n",
      "[CV] C=14394.574340570345, gamma=0.002356547419590048 ................\n",
      "[CV] . C=14394.574340570345, gamma=0.002356547419590048, total=  13.5s\n",
      "[CV] C=14394.574340570345, gamma=0.002356547419590048 ................\n",
      "[CV] . C=14394.574340570345, gamma=0.002356547419590048, total=  13.0s\n",
      "[CV] C=87856.55212058542, gamma=0.021848996009358152 .................\n",
      "[CV] .. C=87856.55212058542, gamma=0.021848996009358152, total= 4.8min\n",
      "[CV] C=87856.55212058542, gamma=0.021848996009358152 .................\n",
      "[CV] .. C=87856.55212058542, gamma=0.021848996009358152, total= 5.4min\n",
      "[CV] C=87856.55212058542, gamma=0.021848996009358152 .................\n",
      "[CV] .. C=87856.55212058542, gamma=0.021848996009358152, total= 4.3min\n",
      "[CV] C=11901.841137312043, gamma=0.009250268230107883 ................\n",
      "[CV] . C=11901.841137312043, gamma=0.009250268230107883, total=  24.4s\n",
      "[CV] C=11901.841137312043, gamma=0.009250268230107883 ................\n",
      "[CV] . C=11901.841137312043, gamma=0.009250268230107883, total=  24.1s\n",
      "[CV] C=11901.841137312043, gamma=0.009250268230107883 ................\n",
      "[CV] . C=11901.841137312043, gamma=0.009250268230107883, total=  27.6s\n"
     ]
    },
    {
     "name": "stderr",
     "output_type": "stream",
     "text": [
      "[Parallel(n_jobs=1)]: Done  30 out of  30 | elapsed: 42.1min finished\n"
     ]
    },
    {
     "data": {
      "text/plain": [
       "RandomizedSearchCV(cv=None, error_score='raise',\n",
       "          estimator=SVC(C=1.0, cache_size=200, class_weight=None, coef0=0.0,\n",
       "  decision_function_shape='ovr', degree=3, gamma='auto', kernel='rbf',\n",
       "  max_iter=-1, probability=False, random_state=42, shrinking=True,\n",
       "  tol=0.001, verbose=False),\n",
       "          fit_params=None, iid=True, n_iter=10, n_jobs=1,\n",
       "          param_distributions={'gamma': <scipy.stats._distn_infrastructure.rv_frozen object at 0x7fe27208d240>, 'C': <scipy.stats._distn_infrastructure.rv_frozen object at 0x7fe27208d7b8>},\n",
       "          pre_dispatch='2*n_jobs', random_state=None, refit=True,\n",
       "          return_train_score='warn', scoring=None, verbose=2)"
      ]
     },
     "execution_count": 37,
     "metadata": {},
     "output_type": "execute_result"
    }
   ],
   "source": [
    "#param_distributions = {\"gamma\": reciprocal(0.001, 0.1), \"C\": uniform(100, 1000)}\n",
    "#param_distributions = {\"gamma\": reciprocal(0.001, 0.1), \"C\": uniform(100000, 1000000)}\n",
    "param_distributions = {\"gamma\": reciprocal(0.001, 0.1), \"C\": uniform(10000, 100000)}\n",
    "rnd_search_cv = RandomizedSearchCV(svc_default, param_distributions, n_iter=10, verbose=2)\n",
    "rnd_search_cv.fit(X_tr, y_tr_b)\n",
    "## YOUR CODE HERE ##\n",
    "## YOUR CODE HERE ##\n",
    "## YOUR CODE HERE ##\n",
    "## YOUR CODE HERE ##\n",
    "## YOUR CODE HERE ##\n",
    "## YOUR CODE HERE ##"
   ]
  },
  {
   "cell_type": "code",
   "execution_count": 38,
   "metadata": {},
   "outputs": [
    {
     "data": {
      "text/plain": [
       "SVC(C=28418.639408307423, cache_size=200, class_weight=None, coef0=0.0,\n",
       "  decision_function_shape='ovr', degree=3, gamma=0.007320816089928332,\n",
       "  kernel='rbf', max_iter=-1, probability=False, random_state=42,\n",
       "  shrinking=True, tol=0.001, verbose=False)"
      ]
     },
     "execution_count": 38,
     "metadata": {},
     "output_type": "execute_result"
    }
   ],
   "source": [
    "rnd_search_cv.best_estimator_"
   ]
  },
  {
   "cell_type": "code",
   "execution_count": 39,
   "metadata": {},
   "outputs": [
    {
     "data": {
      "text/plain": [
       "0.8771456256921373"
      ]
     },
     "execution_count": 39,
     "metadata": {},
     "output_type": "execute_result"
    }
   ],
   "source": [
    "rnd_search_cv.best_score_"
   ]
  },
  {
   "cell_type": "code",
   "execution_count": 50,
   "metadata": {},
   "outputs": [
    {
     "name": "stdout",
     "output_type": "stream",
     "text": [
      "Rmse is: 0.3267977791889581\n",
      "Best parameters are: {'C': 28418.639408307423, 'gamma': 0.007320816089928332}\n"
     ]
    }
   ],
   "source": [
    "# Let's calculate the RMSE\n",
    "\n",
    "svc_randomized = rnd_search_cv.best_estimator_ ## YOUR CODE HERE ##\n",
    "\n",
    "y_pred_svc_randomized = svc_randomized.predict(X_tr)## YOUR CODE HERE ## FIX THIS!\n",
    "accuracy_score(y_tr_b, y_pred_svc_randomized) ## YOUR CODE HERE ##\n",
    "\n",
    "final_mse_svc_randomized = mean_squared_error(y_tr_b, y_pred_svc_randomized)\n",
    "final_rmse_svc_randomized = np.sqrt(final_mse_svc_randomized)\n",
    "print(\"Rmse is:\",final_rmse_svc_randomized)\n",
    "print(\"Best parameters are:\", rnd_search_cv.best_params_) ## YOUR CODE HERE ##"
   ]
  },
  {
   "cell_type": "code",
   "execution_count": 43,
   "metadata": {},
   "outputs": [
    {
     "name": "stdout",
     "output_type": "stream",
     "text": [
      "0.3496491412313554\n"
     ]
    }
   ],
   "source": [
    "# Work with the test set\n",
    "\n",
    "final_model_rand_search = rnd_search_cv.best_estimator_   ## THIS SHOULD BE THE BEST GRID_SEARCH ##\n",
    "\n",
    "y_te_estimation_rand_search = final_model_rand_search.predict(X_te)\n",
    "\n",
    "final_mse = mean_squared_error(y_te_b, y_te_estimation_rand_search)\n",
    "final_rmse = np.sqrt(final_mse)\n",
    "print(final_rmse)"
   ]
  },
  {
   "cell_type": "markdown",
   "metadata": {},
   "source": [
    "As we can see, the rmse on the test set is 0.3496 compared to the rmse on the train set 0.3267. Given that the rmse on the test set is higher by around 0.023 units, this suggests that the SVC model (derived from the randomized search) fits the data well."
   ]
  },
  {
   "cell_type": "code",
   "execution_count": 48,
   "metadata": {},
   "outputs": [
    {
     "data": {
      "image/png": "[encoded data removed]",
      "text/plain": [
       "<matplotlib.figure.Figure at 0x7fe2720d1860>"
      ]
     },
     "metadata": {},
     "output_type": "display_data"
    }
   ],
   "source": [
    "# Draw y_te_b vs y_te_estimation_rand_search\n",
    "import matplotlib.pyplot as plt\n",
    "\n",
    "plt.scatter(x=y_te_b, y=y_te_estimation_rand_search)\n",
    "plt.show()"
   ]
  },
  {
   "cell_type": "code",
   "execution_count": 52,
   "metadata": {},
   "outputs": [
    {
     "name": "stdout",
     "output_type": "stream",
     "text": [
      "1000\n",
      "2000\n",
      "3000\n",
      "4000\n",
      "5000\n",
      "6000\n",
      "7000\n",
      "8000\n",
      "9000\n",
      "10000\n",
      "11000\n",
      "12000\n",
      "13000\n",
      "14000\n"
     ]
    }
   ],
   "source": [
    "# Let's draw the learning curve\n",
    "\n",
    "from sklearn.metrics import mean_squared_error\n",
    "\n",
    "svc_randomized = rnd_search_cv.best_estimator_\n",
    "\n",
    "train_errors, val_errors = [], []\n",
    "for m in range(1000, len(X_tr), 1000):\n",
    "    svc_randomized.fit(X_tr[:m], y_tr_b[:m]) # DO NOT DELETE\n",
    "    y_train_predict = svc_randomized.predict(X_tr[:m])\n",
    "    y_val_predict = svc_randomized.predict(X_te[:m])\n",
    "    train_errors.append(mean_squared_error(y_train_predict, y_tr_b[:m]))\n",
    "    val_errors.append(mean_squared_error(y_val_predict, y_te_b[:m]))\n",
    "    print(m)"
   ]
  },
  {
   "cell_type": "code",
   "execution_count": 53,
   "metadata": {},
   "outputs": [
    {
     "data": {
      "image/png": "[encoded data removed]",
      "text/plain": [
       "<matplotlib.figure.Figure at 0x7fe26cb4f400>"
      ]
     },
     "metadata": {},
     "output_type": "display_data"
    }
   ],
   "source": [
    "#plt.figure(figsize=(20,10))\n",
    "import matplotlib.pyplot as plt\n",
    "plt.plot(np.sqrt(train_errors), \"r-+\", linewidth=2, label=\"train\")\n",
    "plt.plot(np.sqrt(val_errors), \"b-\", linewidth=3, label=\"val\")\n",
    "plt.show()"
   ]
  },
  {
   "cell_type": "markdown",
   "metadata": {},
   "source": [
    "As we can see from the above \"Learning Curves\" graph, validation error seems to be minimally greater than the training error suggesting that the model fits the data well. What a nice graph indeed."
   ]
  }
 ],
 "metadata": {
  "kernelspec": {
   "display_name": "Python 3",
   "language": "python",
   "name": "python3"
  },
  "language_info": {
   "codemirror_mode": {
    "name": "ipython",
    "version": 3
   },
   "file_extension": ".py",
   "mimetype": "text/x-python",
   "name": "python",
   "nbconvert_exporter": "python",
   "pygments_lexer": "ipython3",
   "version": "3.6.3"
  }
 },
 "nbformat": 4,
 "nbformat_minor": 2
}
