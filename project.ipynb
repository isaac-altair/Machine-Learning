{
 "cells": [
  {
   "cell_type": "code",
   "execution_count": 1,
   "metadata": {},
   "outputs": [
    {
     "name": "stderr",
     "output_type": "stream",
     "text": [
      "/home/isaac/anaconda3/lib/python3.6/importlib/_bootstrap.py:219: RuntimeWarning: compiletime version 3.5 of module 'tensorflow.python.framework.fast_tensor_util' does not match runtime version 3.6\n",
      "  return f(*args, **kwds)\n",
      "/home/isaac/anaconda3/lib/python3.6/site-packages/h5py/__init__.py:34: FutureWarning: Conversion of the second argument of issubdtype from `float` to `np.floating` is deprecated. In future, it will be treated as `np.float64 == np.dtype(float).type`.\n",
      "  from ._conv import register_converters as _register_converters\n"
     ]
    }
   ],
   "source": [
    "# Import the necessary libraries\n",
    "\n",
    "import numpy as np\n",
    "import pandas as pd\n",
    "import tensorflow as tf\n",
    "import os\n",
    "\n",
    "# to make this notebook's output stable across runs\n",
    "np.random.seed(123)\n",
    "\n",
    "# To plot pretty figures\n",
    "%matplotlib inline\n",
    "import matplotlib\n",
    "import matplotlib.pyplot as plt\n",
    "plt.rcParams['axes.labelsize'] = 14\n",
    "plt.rcParams['xtick.labelsize'] = 12\n",
    "plt.rcParams['ytick.labelsize'] = 12"
   ]
  },
  {
   "cell_type": "code",
   "execution_count": 2,
   "metadata": {
    "collapsed": true
   },
   "outputs": [],
   "source": [
    "import time"
   ]
  },
  {
   "cell_type": "code",
   "execution_count": 3,
   "metadata": {},
   "outputs": [
    {
     "name": "stderr",
     "output_type": "stream",
     "text": [
      "/home/isaac/anaconda3/lib/python3.6/site-packages/pandas/io/parsers.py:709: UserWarning: Duplicate names specified. This will raise an error in the future.\n",
      "  return _read(filepath_or_buffer, kwds)\n"
     ]
    }
   ],
   "source": [
    "#####################################\n",
    "# Import the train and test datasets#\n",
    "#####################################\n",
    "\n",
    "#with open('/home/isaac/Fundamentals_of_Data_Science_Certificate/3253 - Machine_Learning/Project/Dataset/Catagory_File - Feature 4_4.txt', 'r') as f:\n",
    "#    features = [line.strip() for line in f]\n",
    "\n",
    "features_empty = ['' for i in range(54)]\n",
    "features = ['Page Likes', 'Page Checkins', 'Page Talking About', 'Page Category', \n",
    "            'Min CC1', 'Max CC1', 'Average CC1', 'Median CC1', 'Standard Deviation CC1', \n",
    "            'Min CC2', 'Max CC2', 'Average CC2', 'Median CC2', 'Standard Deviation CC2', \n",
    "            'Min CC3', 'Max CC3', 'Average CC3', 'Median CC3', 'Standard Deviation CC3', \n",
    "            'Min CC4', 'Max CC4', 'Average CC4', 'Median CC4', 'Standard Deviation CC4', \n",
    "            'Min CC5', 'Max CC5', 'Average CC5', 'Median CC5', 'Standard Deviation CC5', \n",
    "            'CC1', 'CC2', 'CC3', 'CC4', 'CC5', \n",
    "            'Base Time', 'Post Length', 'Post Share Count', 'Post Promotion Status', 'H Local', \n",
    "            'Sunday', 'Monday', 'Tuesday', 'Wednesday', 'Thursday', 'Friday', 'Saturday', \n",
    "            'Sunday', 'Monday', 'Tuesday', 'Wednesday', 'Thursday', 'Friday', 'Saturday',\n",
    "            'Number of Comments in the Next H Hours']\n",
    "\n",
    "# NOTE: We are going to take a subset of the training data since my laptop memory crashes on the whole dataset\n",
    "\n",
    "train_data_1 = pd.read_csv(\"/home/isaac/Fundamentals_of_Data_Science_Certificate/3253 - Machine_Learning/Project/Dataset/Training/Features_Variant_1.csv\",\n",
    "                        names = features)\n",
    "\n",
    "#m_1 = int(0.7 * len(train_data_1))\n",
    "#idx_1 = np.random.permutation(len(train_data_1))[:m_1]\n",
    "\n",
    "#train_data_1 = train_data_1.loc[idx_1]\n",
    "\n",
    "test_data_1 = pd.read_csv(\"/home/isaac/Fundamentals_of_Data_Science_Certificate/3253 - Machine_Learning/Project/Dataset/Testing/TestSet/Test_Case_1.csv\",\n",
    "                       names = features)\n",
    "\n",
    "train_data_2 = pd.read_csv(\"/home/isaac/Fundamentals_of_Data_Science_Certificate/3253 - Machine_Learning/Project/Dataset/Training/Features_Variant_2.csv\",\n",
    "                        names = features)\n",
    "\n",
    "#m_2 = int(0.7 * len(train_data_2))\n",
    "#idx_2 = np.random.permutation(len(train_data_1))[:m_2]\n",
    "\n",
    "#train_data_2 = train_data_2.loc[idx_2]\n",
    "\n",
    "test_data_2 = pd.read_csv(\"/home/isaac/Fundamentals_of_Data_Science_Certificate/3253 - Machine_Learning/Project/Dataset/Testing/TestSet/Test_Case_2.csv\",\n",
    "                       names = features)\n",
    "\n",
    "train_data_3 = pd.read_csv(\"/home/isaac/Fundamentals_of_Data_Science_Certificate/3253 - Machine_Learning/Project/Dataset/Training/Features_Variant_3.csv\",\n",
    "                        names = features)\n",
    "\n",
    "#m_3 = int(0.7 * len(train_data_3))\n",
    "#idx_3 = np.random.permutation(len(train_data_1))[:m_3]\n",
    "\n",
    "#train_data_3 = train_data_3.loc[idx_3]\n",
    "\n",
    "test_data_3 = pd.read_csv(\"/home/isaac/Fundamentals_of_Data_Science_Certificate/3253 - Machine_Learning/Project/Dataset/Testing/TestSet/Test_Case_3.csv\",\n",
    "                       names = features)\n",
    "\n",
    "train_data_4 = pd.read_csv(\"/home/isaac/Fundamentals_of_Data_Science_Certificate/3253 - Machine_Learning/Project/Dataset/Training/Features_Variant_4.csv\",\n",
    "                        names = features)\n",
    "\n",
    "#m_4 = int(0.7 * len(train_data_4))\n",
    "#idx_4 = np.random.permutation(len(train_data_1))[:m_4]\n",
    "\n",
    "#train_data_4 = train_data_4.loc[idx_4]\n",
    "\n",
    "test_data_4 = pd.read_csv(\"/home/isaac/Fundamentals_of_Data_Science_Certificate/3253 - Machine_Learning/Project/Dataset/Testing/TestSet/Test_Case_4.csv\",\n",
    "                       names = features)\n",
    "\n",
    "train_data_5 = pd.read_csv(\"/home/isaac/Fundamentals_of_Data_Science_Certificate/3253 - Machine_Learning/Project/Dataset/Training/Features_Variant_5.csv\",\n",
    "                        names = features)\n",
    "\n",
    "#m_5 = int(0.7 * len(train_data_5))\n",
    "#idx_5 = np.random.permutation(len(train_data_1))[:m_5]\n",
    "\n",
    "#train_data_5 = train_data_5.loc[idx_5]\n",
    "\n",
    "test_data_5 = pd.read_csv(\"/home/isaac/Fundamentals_of_Data_Science_Certificate/3253 - Machine_Learning/Project/Dataset/Testing/TestSet/Test_Case_5.csv\",\n",
    "                       names = features)\n",
    "\n",
    "test_data_6 = pd.read_csv(\"/home/isaac/Fundamentals_of_Data_Science_Certificate/3253 - Machine_Learning/Project/Dataset/Testing/TestSet/Test_Case_6.csv\",\n",
    "                       names = features)\n",
    "\n",
    "test_data_7 = pd.read_csv(\"/home/isaac/Fundamentals_of_Data_Science_Certificate/3253 - Machine_Learning/Project/Dataset/Testing/TestSet/Test_Case_7.csv\",\n",
    "                       names = features)\n",
    "\n",
    "test_data_8 = pd.read_csv(\"/home/isaac/Fundamentals_of_Data_Science_Certificate/3253 - Machine_Learning/Project/Dataset/Testing/TestSet/Test_Case_8.csv\",\n",
    "                       names = features)\n",
    "\n",
    "test_data_9 = pd.read_csv(\"/home/isaac/Fundamentals_of_Data_Science_Certificate/3253 - Machine_Learning/Project/Dataset/Testing/TestSet/Test_Case_9.csv\",\n",
    "                       names = features)\n",
    "\n",
    "test_data_10 = pd.read_csv(\"/home/isaac/Fundamentals_of_Data_Science_Certificate/3253 - Machine_Learning/Project/Dataset/Testing/TestSet/Test_Case_10.csv\",\n",
    "                       names = features)"
   ]
  },
  {
   "cell_type": "code",
   "execution_count": 4,
   "metadata": {
    "collapsed": true
   },
   "outputs": [],
   "source": [
    "list_of_train_data = [train_data_1, train_data_2, train_data_3, train_data_4, train_data_5]\n",
    "list_of_test_data = [test_data_1, test_data_2, test_data_3, test_data_4, test_data_5, test_data_6, test_data_7,\n",
    "                    test_data_8, test_data_9, test_data_10]"
   ]
  },
  {
   "cell_type": "code",
   "execution_count": 5,
   "metadata": {
    "collapsed": true
   },
   "outputs": [],
   "source": [
    "#######################\n",
    "# Standardize the data#\n",
    "#######################\n",
    "\n",
    "from sklearn.preprocessing import StandardScaler\n",
    "\n",
    "scaler = StandardScaler()\n",
    "\n",
    "# Run a for loop to go throug the each instace of train and test data. This should result in 50 new train sets\n",
    "\n",
    "# Train data 1\n",
    "\n",
    "first_fit = scaler.fit(list_of_train_data[0])\n",
    "train_data_1_prepared = first_fit.transform(list_of_train_data[0])\n",
    "#list_train_data_1_prepared = [np.array(train_data_1_prepared) for i in range(10)]\n",
    "\n",
    "test_data_1_prepared = []\n",
    "\n",
    "for i in range(10):\n",
    "    test_data_1_prepared.append(first_fit.transform(np.array(list_of_test_data[i])))\n",
    "\n",
    "# Train data 2\n",
    "\n",
    "second_fit = scaler.fit(list_of_train_data[1])\n",
    "train_data_2_prepared = second_fit.transform(list_of_train_data[1])\n",
    "#list_train_data_2_prepared = [np.array(train_data_2_prepared) for i in range(10)]\n",
    "\n",
    "test_data_2_prepared = []\n",
    "\n",
    "for i in range(10):\n",
    "    test_data_2_prepared.append(second_fit.transform(np.array(list_of_test_data[i])))\n",
    "\n",
    "# Train data 3\n",
    "\n",
    "third_fit = scaler.fit(list_of_train_data[2])\n",
    "train_data_3_prepared = third_fit.transform(list_of_train_data[2])\n",
    "#list_train_data_3_prepared = [np.array(train_data_3_prepared) for i in range(10)]\n",
    "\n",
    "test_data_3_prepared = []\n",
    "\n",
    "for i in range(10):\n",
    "    test_data_3_prepared.append(third_fit.transform(np.array(list_of_test_data[i])))\n",
    "\n",
    "# Train data 4\n",
    "\n",
    "fourth_fit = scaler.fit(list_of_train_data[3])\n",
    "train_data_4_prepared = fourth_fit.transform(list_of_train_data[3])\n",
    "#list_train_data_2_prepared = [np.array(train_data_4_prepared) for i in range(10)]\n",
    "\n",
    "test_data_4_prepared = []\n",
    "\n",
    "for i in range(10):\n",
    "    test_data_4_prepared.append(fourth_fit.transform(np.array(list_of_test_data[i])))\n",
    "\n",
    "# Train data 5\n",
    "\n",
    "fifth_fit = scaler.fit(list_of_train_data[4])\n",
    "train_data_5_prepared = fifth_fit.transform(list_of_train_data[4])\n",
    "#list_train_data_5_prepared = [np.array(train_data_5_prepared) for i in range(10)]\n",
    "\n",
    "test_data_5_prepared = []\n",
    "\n",
    "for i in range(10):\n",
    "    test_data_5_prepared.append(fifth_fit.transform(np.array(list_of_test_data[i])))"
   ]
  },
  {
   "cell_type": "code",
   "execution_count": 6,
   "metadata": {
    "collapsed": true
   },
   "outputs": [],
   "source": [
    "#################################\n",
    "# Drop the target labels: TRAIN # \n",
    "#################################\n",
    "\n",
    "# TRAIN LABELS 1\n",
    "\n",
    "train_data_1_features = np.array(train_data_1_prepared)[:, 0:53]\n",
    "train_data_1_label = np.array(train_data_1_prepared)[:, 53]\n",
    "\n",
    "# TRAIN LABELS 2\n",
    "\n",
    "train_data_2_features = np.array(train_data_2_prepared)[:, 0:53]\n",
    "train_data_2_label = np.array(train_data_2_prepared)[:, 53]\n",
    "\n",
    "# TRAIN LABELS 3\n",
    "\n",
    "train_data_3_features = np.array(train_data_3_prepared)[:, 0:53]\n",
    "train_data_3_label = np.array(train_data_3_prepared)[:, 53]\n",
    "\n",
    "# TRAIN LABELS 4\n",
    "\n",
    "train_data_4_features = np.array(train_data_4_prepared)[:, 0:53]\n",
    "train_data_4_label = np.array(train_data_4_prepared)[:, 53]\n",
    "\n",
    "# TRAIN LABELS 5\n",
    "\n",
    "train_data_5_features = np.array(train_data_5_prepared)[:, 0:53]\n",
    "train_data_5_label = np.array(train_data_5_prepared)[:, 53]"
   ]
  },
  {
   "cell_type": "code",
   "execution_count": 7,
   "metadata": {
    "collapsed": true
   },
   "outputs": [],
   "source": [
    "################################\n",
    "# Drop the target labels: TEST # \n",
    "################################\n",
    "\n",
    "# TEST LABELS 1\n",
    "\n",
    "test_data_1_features = [np.array(test_data_1_prepared[i][: , 0:53]) for i in range(len(test_data_1_prepared))]\n",
    "test_data_1_label = [np.array(test_data_1_prepared[i][: , 53]) for i in range(len(test_data_1_prepared))]\n",
    "\n",
    "# TEST LABELS 2\n",
    "\n",
    "test_data_2_features = [np.array(test_data_2_prepared[i][: , 0:53]) for i in range(len(test_data_2_prepared))]\n",
    "test_data_2_label = [np.array(test_data_2_prepared[i][: , 53]) for i in range(len(test_data_2_prepared))]\n",
    "\n",
    "# TEST LABELS 3\n",
    "\n",
    "test_data_3_features = [np.array(test_data_3_prepared[i][: , 0:53]) for i in range(len(test_data_3_prepared))]\n",
    "test_data_3_label = [np.array(test_data_3_prepared[i][: , 53]) for i in range(len(test_data_3_prepared))]\n",
    "\n",
    "# TEST LABELS 4\n",
    "\n",
    "test_data_4_features = [np.array(test_data_4_prepared[i][: , 0:53]) for i in range(len(test_data_4_prepared))]\n",
    "test_data_4_label = [np.array(test_data_4_prepared[i][: , 53]) for i in range(len(test_data_4_prepared))]\n",
    "\n",
    "# TEST LABELS 5\n",
    "\n",
    "test_data_5_features = [np.array(test_data_5_prepared[i][: , 0:53]) for i in range(len(test_data_5_prepared))]\n",
    "test_data_5_label = [np.array(test_data_5_prepared[i][: , 53]) for i in range(len(test_data_5_prepared))]"
   ]
  },
  {
   "cell_type": "code",
   "execution_count": 8,
   "metadata": {
    "collapsed": true
   },
   "outputs": [],
   "source": [
    "#from sklearn.model_selection import GridSearchCV\n",
    "from sklearn.model_selection import RandomizedSearchCV"
   ]
  },
  {
   "cell_type": "code",
   "execution_count": 248,
   "metadata": {
    "collapsed": true
   },
   "outputs": [],
   "source": [
    "from sklearn.ensemble import RandomForestRegressor\n",
    "\n",
    "rnd_reg = RandomForestRegressor(random_state=42)\n",
    "\n",
    "n_estimators = [10, 200, 500]\n",
    "max_features = [0.1, 0.5]\n",
    "max_depth = [2, 10, 20] \n",
    "#oob_score = [True, False]\n",
    "min_samples_split = [0.1, 0.5]\n",
    "min_samples_leaf = [0.1, 0.5]\n",
    "max_leaf_nodes = [2, 10, 100]\n",
    "\n",
    "\"\"\"\n",
    "param_grid_forest = {'n_estimators' : n_estimators, 'max_features' : max_features,\n",
    "                     'max_depth' : max_depth, 'min_samples_split' : min_samples_split,\n",
    "                    'oob_score' : oob_score, 'min_samples_leaf': min_samples_leaf, \n",
    "                     'max_leaf_nodes' : max_leaf_nodes}\n",
    "\"\"\"\n",
    "\n",
    "param_grid_forest = {'n_estimators' : n_estimators, 'max_features' : max_features, 'max_depth': max_depth,\n",
    "                    'min_samples_split' : min_samples_split, 'min_samples_leaf' : min_samples_leaf,\n",
    "                    'max_leaf_nodes' : max_leaf_nodes}\n",
    "\n",
    "\n",
    "grid_search_forest = RandomizedSearchCV(rnd_reg, param_grid_forest, cv = 4, scoring='neg_mean_absolute_error', \n",
    "                                  refit = True, n_jobs = 1, verbose = 2)"
   ]
  },
  {
   "cell_type": "code",
   "execution_count": 249,
   "metadata": {
    "scrolled": true
   },
   "outputs": [
    {
     "name": "stdout",
     "output_type": "stream",
     "text": [
      "Fitting 4 folds for each of 10 candidates, totalling 40 fits\n",
      "[CV] n_estimators=10, min_samples_split=0.1, min_samples_leaf=0.1, max_leaf_nodes=10, max_features=0.1, max_depth=2 \n",
      "[CV]  n_estimators=10, min_samples_split=0.1, min_samples_leaf=0.1, max_leaf_nodes=10, max_features=0.1, max_depth=2, total=   0.1s\n",
      "[CV] n_estimators=10, min_samples_split=0.1, min_samples_leaf=0.1, max_leaf_nodes=10, max_features=0.1, max_depth=2 \n"
     ]
    },
    {
     "name": "stderr",
     "output_type": "stream",
     "text": [
      "[Parallel(n_jobs=1)]: Done   1 out of   1 | elapsed:    0.1s remaining:    0.0s\n"
     ]
    },
    {
     "name": "stdout",
     "output_type": "stream",
     "text": [
      "[CV]  n_estimators=10, min_samples_split=0.1, min_samples_leaf=0.1, max_leaf_nodes=10, max_features=0.1, max_depth=2, total=   0.1s\n",
      "[CV] n_estimators=10, min_samples_split=0.1, min_samples_leaf=0.1, max_leaf_nodes=10, max_features=0.1, max_depth=2 \n",
      "[CV]  n_estimators=10, min_samples_split=0.1, min_samples_leaf=0.1, max_leaf_nodes=10, max_features=0.1, max_depth=2, total=   0.1s\n",
      "[CV] n_estimators=10, min_samples_split=0.1, min_samples_leaf=0.1, max_leaf_nodes=10, max_features=0.1, max_depth=2 \n",
      "[CV]  n_estimators=10, min_samples_split=0.1, min_samples_leaf=0.1, max_leaf_nodes=10, max_features=0.1, max_depth=2, total=   0.1s\n",
      "[CV] n_estimators=500, min_samples_split=0.5, min_samples_leaf=0.5, max_leaf_nodes=100, max_features=0.5, max_depth=20 \n",
      "[CV]  n_estimators=500, min_samples_split=0.5, min_samples_leaf=0.5, max_leaf_nodes=100, max_features=0.5, max_depth=20, total=   0.7s\n",
      "[CV] n_estimators=500, min_samples_split=0.5, min_samples_leaf=0.5, max_leaf_nodes=100, max_features=0.5, max_depth=20 \n",
      "[CV]  n_estimators=500, min_samples_split=0.5, min_samples_leaf=0.5, max_leaf_nodes=100, max_features=0.5, max_depth=20, total=   0.7s\n",
      "[CV] n_estimators=500, min_samples_split=0.5, min_samples_leaf=0.5, max_leaf_nodes=100, max_features=0.5, max_depth=20 \n",
      "[CV]  n_estimators=500, min_samples_split=0.5, min_samples_leaf=0.5, max_leaf_nodes=100, max_features=0.5, max_depth=20, total=   0.8s\n",
      "[CV] n_estimators=500, min_samples_split=0.5, min_samples_leaf=0.5, max_leaf_nodes=100, max_features=0.5, max_depth=20 \n",
      "[CV]  n_estimators=500, min_samples_split=0.5, min_samples_leaf=0.5, max_leaf_nodes=100, max_features=0.5, max_depth=20, total=   0.9s\n",
      "[CV] n_estimators=200, min_samples_split=0.1, min_samples_leaf=0.1, max_leaf_nodes=2, max_features=0.5, max_depth=2 \n",
      "[CV]  n_estimators=200, min_samples_split=0.1, min_samples_leaf=0.1, max_leaf_nodes=2, max_features=0.5, max_depth=2, total=   5.3s\n",
      "[CV] n_estimators=200, min_samples_split=0.1, min_samples_leaf=0.1, max_leaf_nodes=2, max_features=0.5, max_depth=2 \n",
      "[CV]  n_estimators=200, min_samples_split=0.1, min_samples_leaf=0.1, max_leaf_nodes=2, max_features=0.5, max_depth=2, total=   5.2s\n",
      "[CV] n_estimators=200, min_samples_split=0.1, min_samples_leaf=0.1, max_leaf_nodes=2, max_features=0.5, max_depth=2 \n",
      "[CV]  n_estimators=200, min_samples_split=0.1, min_samples_leaf=0.1, max_leaf_nodes=2, max_features=0.5, max_depth=2, total=   5.2s\n",
      "[CV] n_estimators=200, min_samples_split=0.1, min_samples_leaf=0.1, max_leaf_nodes=2, max_features=0.5, max_depth=2 \n",
      "[CV]  n_estimators=200, min_samples_split=0.1, min_samples_leaf=0.1, max_leaf_nodes=2, max_features=0.5, max_depth=2, total=   5.1s\n",
      "[CV] n_estimators=500, min_samples_split=0.1, min_samples_leaf=0.5, max_leaf_nodes=100, max_features=0.5, max_depth=10 \n",
      "[CV]  n_estimators=500, min_samples_split=0.1, min_samples_leaf=0.5, max_leaf_nodes=100, max_features=0.5, max_depth=10, total=   0.7s\n",
      "[CV] n_estimators=500, min_samples_split=0.1, min_samples_leaf=0.5, max_leaf_nodes=100, max_features=0.5, max_depth=10 \n",
      "[CV]  n_estimators=500, min_samples_split=0.1, min_samples_leaf=0.5, max_leaf_nodes=100, max_features=0.5, max_depth=10, total=   0.7s\n",
      "[CV] n_estimators=500, min_samples_split=0.1, min_samples_leaf=0.5, max_leaf_nodes=100, max_features=0.5, max_depth=10 \n",
      "[CV]  n_estimators=500, min_samples_split=0.1, min_samples_leaf=0.5, max_leaf_nodes=100, max_features=0.5, max_depth=10, total=   0.7s\n",
      "[CV] n_estimators=500, min_samples_split=0.1, min_samples_leaf=0.5, max_leaf_nodes=100, max_features=0.5, max_depth=10 \n",
      "[CV]  n_estimators=500, min_samples_split=0.1, min_samples_leaf=0.5, max_leaf_nodes=100, max_features=0.5, max_depth=10, total=   0.7s\n",
      "[CV] n_estimators=200, min_samples_split=0.5, min_samples_leaf=0.1, max_leaf_nodes=100, max_features=0.5, max_depth=2 \n",
      "[CV]  n_estimators=200, min_samples_split=0.5, min_samples_leaf=0.1, max_leaf_nodes=100, max_features=0.5, max_depth=2, total=   5.1s\n",
      "[CV] n_estimators=200, min_samples_split=0.5, min_samples_leaf=0.1, max_leaf_nodes=100, max_features=0.5, max_depth=2 \n",
      "[CV]  n_estimators=200, min_samples_split=0.5, min_samples_leaf=0.1, max_leaf_nodes=100, max_features=0.5, max_depth=2, total=   5.2s\n",
      "[CV] n_estimators=200, min_samples_split=0.5, min_samples_leaf=0.1, max_leaf_nodes=100, max_features=0.5, max_depth=2 \n",
      "[CV]  n_estimators=200, min_samples_split=0.5, min_samples_leaf=0.1, max_leaf_nodes=100, max_features=0.5, max_depth=2, total=   5.2s\n",
      "[CV] n_estimators=200, min_samples_split=0.5, min_samples_leaf=0.1, max_leaf_nodes=100, max_features=0.5, max_depth=2 \n",
      "[CV]  n_estimators=200, min_samples_split=0.5, min_samples_leaf=0.1, max_leaf_nodes=100, max_features=0.5, max_depth=2, total=   5.9s\n",
      "[CV] n_estimators=500, min_samples_split=0.1, min_samples_leaf=0.5, max_leaf_nodes=2, max_features=0.5, max_depth=10 \n",
      "[CV]  n_estimators=500, min_samples_split=0.1, min_samples_leaf=0.5, max_leaf_nodes=2, max_features=0.5, max_depth=10, total=   0.8s\n",
      "[CV] n_estimators=500, min_samples_split=0.1, min_samples_leaf=0.5, max_leaf_nodes=2, max_features=0.5, max_depth=10 \n",
      "[CV]  n_estimators=500, min_samples_split=0.1, min_samples_leaf=0.5, max_leaf_nodes=2, max_features=0.5, max_depth=10, total=   0.8s\n",
      "[CV] n_estimators=500, min_samples_split=0.1, min_samples_leaf=0.5, max_leaf_nodes=2, max_features=0.5, max_depth=10 \n",
      "[CV]  n_estimators=500, min_samples_split=0.1, min_samples_leaf=0.5, max_leaf_nodes=2, max_features=0.5, max_depth=10, total=   0.8s\n",
      "[CV] n_estimators=500, min_samples_split=0.1, min_samples_leaf=0.5, max_leaf_nodes=2, max_features=0.5, max_depth=10 \n",
      "[CV]  n_estimators=500, min_samples_split=0.1, min_samples_leaf=0.5, max_leaf_nodes=2, max_features=0.5, max_depth=10, total=   0.8s\n",
      "[CV] n_estimators=10, min_samples_split=0.1, min_samples_leaf=0.1, max_leaf_nodes=2, max_features=0.5, max_depth=2 \n",
      "[CV]  n_estimators=10, min_samples_split=0.1, min_samples_leaf=0.1, max_leaf_nodes=2, max_features=0.5, max_depth=2, total=   0.4s\n",
      "[CV] n_estimators=10, min_samples_split=0.1, min_samples_leaf=0.1, max_leaf_nodes=2, max_features=0.5, max_depth=2 \n",
      "[CV]  n_estimators=10, min_samples_split=0.1, min_samples_leaf=0.1, max_leaf_nodes=2, max_features=0.5, max_depth=2, total=   0.4s\n",
      "[CV] n_estimators=10, min_samples_split=0.1, min_samples_leaf=0.1, max_leaf_nodes=2, max_features=0.5, max_depth=2 \n",
      "[CV]  n_estimators=10, min_samples_split=0.1, min_samples_leaf=0.1, max_leaf_nodes=2, max_features=0.5, max_depth=2, total=   0.4s\n",
      "[CV] n_estimators=10, min_samples_split=0.1, min_samples_leaf=0.1, max_leaf_nodes=2, max_features=0.5, max_depth=2 \n",
      "[CV]  n_estimators=10, min_samples_split=0.1, min_samples_leaf=0.1, max_leaf_nodes=2, max_features=0.5, max_depth=2, total=   0.4s\n",
      "[CV] n_estimators=500, min_samples_split=0.5, min_samples_leaf=0.5, max_leaf_nodes=10, max_features=0.1, max_depth=20 \n",
      "[CV]  n_estimators=500, min_samples_split=0.5, min_samples_leaf=0.5, max_leaf_nodes=10, max_features=0.1, max_depth=20, total=   0.8s\n",
      "[CV] n_estimators=500, min_samples_split=0.5, min_samples_leaf=0.5, max_leaf_nodes=10, max_features=0.1, max_depth=20 \n",
      "[CV]  n_estimators=500, min_samples_split=0.5, min_samples_leaf=0.5, max_leaf_nodes=10, max_features=0.1, max_depth=20, total=   0.8s\n",
      "[CV] n_estimators=500, min_samples_split=0.5, min_samples_leaf=0.5, max_leaf_nodes=10, max_features=0.1, max_depth=20 \n",
      "[CV]  n_estimators=500, min_samples_split=0.5, min_samples_leaf=0.5, max_leaf_nodes=10, max_features=0.1, max_depth=20, total=   0.9s\n",
      "[CV] n_estimators=500, min_samples_split=0.5, min_samples_leaf=0.5, max_leaf_nodes=10, max_features=0.1, max_depth=20 \n",
      "[CV]  n_estimators=500, min_samples_split=0.5, min_samples_leaf=0.5, max_leaf_nodes=10, max_features=0.1, max_depth=20, total=   0.8s\n",
      "[CV] n_estimators=200, min_samples_split=0.1, min_samples_leaf=0.1, max_leaf_nodes=100, max_features=0.5, max_depth=2 \n",
      "[CV]  n_estimators=200, min_samples_split=0.1, min_samples_leaf=0.1, max_leaf_nodes=100, max_features=0.5, max_depth=2, total=   6.9s\n",
      "[CV] n_estimators=200, min_samples_split=0.1, min_samples_leaf=0.1, max_leaf_nodes=100, max_features=0.5, max_depth=2 \n",
      "[CV]  n_estimators=200, min_samples_split=0.1, min_samples_leaf=0.1, max_leaf_nodes=100, max_features=0.5, max_depth=2, total=   6.7s\n",
      "[CV] n_estimators=200, min_samples_split=0.1, min_samples_leaf=0.1, max_leaf_nodes=100, max_features=0.5, max_depth=2 \n"
     ]
    },
    {
     "name": "stdout",
     "output_type": "stream",
     "text": [
      "[CV]  n_estimators=200, min_samples_split=0.1, min_samples_leaf=0.1, max_leaf_nodes=100, max_features=0.5, max_depth=2, total=   7.2s\n",
      "[CV] n_estimators=200, min_samples_split=0.1, min_samples_leaf=0.1, max_leaf_nodes=100, max_features=0.5, max_depth=2 \n",
      "[CV]  n_estimators=200, min_samples_split=0.1, min_samples_leaf=0.1, max_leaf_nodes=100, max_features=0.5, max_depth=2, total=   6.7s\n",
      "[CV] n_estimators=10, min_samples_split=0.5, min_samples_leaf=0.1, max_leaf_nodes=100, max_features=0.1, max_depth=10 \n",
      "[CV]  n_estimators=10, min_samples_split=0.5, min_samples_leaf=0.1, max_leaf_nodes=100, max_features=0.1, max_depth=10, total=   0.1s\n",
      "[CV] n_estimators=10, min_samples_split=0.5, min_samples_leaf=0.1, max_leaf_nodes=100, max_features=0.1, max_depth=10 \n",
      "[CV]  n_estimators=10, min_samples_split=0.5, min_samples_leaf=0.1, max_leaf_nodes=100, max_features=0.1, max_depth=10, total=   0.1s\n",
      "[CV] n_estimators=10, min_samples_split=0.5, min_samples_leaf=0.1, max_leaf_nodes=100, max_features=0.1, max_depth=10 \n",
      "[CV]  n_estimators=10, min_samples_split=0.5, min_samples_leaf=0.1, max_leaf_nodes=100, max_features=0.1, max_depth=10, total=   0.1s\n",
      "[CV] n_estimators=10, min_samples_split=0.5, min_samples_leaf=0.1, max_leaf_nodes=100, max_features=0.1, max_depth=10 \n",
      "[CV]  n_estimators=10, min_samples_split=0.5, min_samples_leaf=0.1, max_leaf_nodes=100, max_features=0.1, max_depth=10, total=   0.1s\n"
     ]
    },
    {
     "name": "stderr",
     "output_type": "stream",
     "text": [
      "[Parallel(n_jobs=1)]: Done  40 out of  40 | elapsed:  1.5min finished\n"
     ]
    },
    {
     "name": "stdout",
     "output_type": "stream",
     "text": [
      "{'n_estimators': 200, 'min_samples_split': 0.1, 'min_samples_leaf': 0.1, 'max_leaf_nodes': 100, 'max_features': 0.5, 'max_depth': 2}\n",
      "RandomForestRegressor(bootstrap=True, criterion='mse', max_depth=2,\n",
      "           max_features=0.5, max_leaf_nodes=100, min_impurity_decrease=0.0,\n",
      "           min_impurity_split=None, min_samples_leaf=0.1,\n",
      "           min_samples_split=0.1, min_weight_fraction_leaf=0.0,\n",
      "           n_estimators=200, n_jobs=1, oob_score=False, random_state=42,\n",
      "           verbose=0, warm_start=False)\n"
     ]
    }
   ],
   "source": [
    "# 1st Data Train\n",
    "\n",
    "grid_search_data_1 = grid_search_forest.fit(train_data_1_features, train_data_1_label)\n",
    "\n",
    "forest_best_params_1 = grid_search_data_1.best_params_\n",
    "\n",
    "forest_best_estimators_1 = grid_search_data_1.best_estimator_\n",
    "\n",
    "print(forest_best_params_1)\n",
    "\n",
    "print(forest_best_estimators_1)"
   ]
  },
  {
   "cell_type": "code",
   "execution_count": 297,
   "metadata": {},
   "outputs": [
    {
     "name": "stdout",
     "output_type": "stream",
     "text": [
      "Prediction time for Train_set_1 took 0.2s.\n"
     ]
    }
   ],
   "source": [
    "final_model_rand_forest_reg_1 = forest_best_estimators_1\n",
    "\n",
    "t0_train_set_1 = time.time()\n",
    "y_pred_rand_forest_reg_1 = final_model_rand_forest_reg_1.predict(train_data_1_features)\n",
    "t1_train_set_1 = time.time()\n",
    "\n",
    "print(\"Prediction time for Train_set_1 took {:.1f}s.\".format(t1_train_set_1 - t0_train_set_1))"
   ]
  },
  {
   "cell_type": "code",
   "execution_count": 298,
   "metadata": {},
   "outputs": [
    {
     "data": {
      "text/plain": [
       "0"
      ]
     },
     "execution_count": 298,
     "metadata": {},
     "output_type": "execute_result"
    }
   ],
   "source": [
    "# Hits @ 10. 1.\n",
    "\n",
    "indexes_train_1 = np.array([i for i in range(len(train_data_1_label))])\n",
    "\n",
    "top_10_indexes_pred_train_y_1 = pd.DataFrame(data = {'indexes_train_1' : indexes_train_1, 'y_pred_rand_forest_reg_1' : y_pred_rand_forest_reg_1}).sort_values(by=['y_pred_rand_forest_reg_1'])['indexes_train_1'][0:10,]\n",
    "\n",
    "top_10_indexes_actual_train_y_1 = pd.DataFrame(data = {'indexes_train_1' : indexes_train_1, 'train_data_1_label' : train_data_1_label}).sort_values(by=['train_data_1_label'])['indexes_train_1'][0:10,]\n",
    "    \n",
    "\n",
    "hits_1 = np.intersect1d(top_10_indexes_pred_train_y_1, top_10_indexes_actual_train_y_1).shape[0]\n",
    "hits_1"
   ]
  },
  {
   "cell_type": "code",
   "execution_count": 252,
   "metadata": {
    "collapsed": true
   },
   "outputs": [],
   "source": [
    "from sklearn.metrics import roc_auc_score"
   ]
  },
  {
   "cell_type": "code",
   "execution_count": 253,
   "metadata": {},
   "outputs": [
    {
     "data": {
      "text/plain": [
       "0.8222234065704679"
      ]
     },
     "execution_count": 253,
     "metadata": {},
     "output_type": "execute_result"
    }
   ],
   "source": [
    "# AUC_1\n",
    "\n",
    "top_10_pred_1 = np.sort(y_pred_rand_forest_reg_1)[-10:].astype(int)\n",
    "top_10_actual_1 = np.sort(train_data_1_label)[-10:].astype(int)\n",
    "\n",
    "pred_1_binary = (y_pred_rand_forest_reg_1 >= top_10_pred_1[0])\n",
    "pred_1_binary = pred_1_binary * 1\n",
    "\n",
    "acutal_1_binary = (train_data_1_label >= top_10_actual_1[0])\n",
    "acutal_1_binary = acutal_1_binary  * 1\n",
    "\n",
    "roc_auc_score(acutal_1_binary, pred_1_binary)"
   ]
  },
  {
   "cell_type": "code",
   "execution_count": 254,
   "metadata": {
    "collapsed": true
   },
   "outputs": [],
   "source": [
    "from sklearn.metrics import mean_absolute_error"
   ]
  },
  {
   "cell_type": "code",
   "execution_count": 255,
   "metadata": {},
   "outputs": [
    {
     "data": {
      "text/plain": [
       "0.22308845098363322"
      ]
     },
     "execution_count": 255,
     "metadata": {},
     "output_type": "execute_result"
    }
   ],
   "source": [
    "# MAE_1\n",
    "\n",
    "mae_1 = mean_absolute_error(train_data_1_label, y_pred_rand_forest_reg_1)\n",
    "mae_1"
   ]
  },
  {
   "cell_type": "code",
   "execution_count": 311,
   "metadata": {},
   "outputs": [
    {
     "name": "stdout",
     "output_type": "stream",
     "text": [
      "The mean time to predict 10 test_data_1 datasets is 0.0s.\n"
     ]
    },
    {
     "data": {
      "text/plain": [
       "2.9"
      ]
     },
     "execution_count": 311,
     "metadata": {},
     "output_type": "execute_result"
    }
   ],
   "source": [
    "# Let's go over the test data associated with the data_train_1. We need to traverse through 10 100X53 test sets.\n",
    "\n",
    "# SO, for the hits 10, we need to find the the indexes (aka facebook pages). So, put indexes and predictions\n",
    "# into one pandas dataframe; and, put indexes and actual labels into another pandas dataframe\n",
    "\n",
    "# HITS_TEST_1_DATASET\n",
    "\n",
    "indexes = np.array([i for i in range(100)])\n",
    "\n",
    "predicted_test_y_1 = []\n",
    "eval_time_test_1 = []\n",
    "\n",
    "for i in range(len(test_data_1_features)):\n",
    "    t0_test_1 = time.time()\n",
    "    predicted_y_test_set_1 = final_model_rand_forest_reg_1.predict(test_data_1_features[i])\n",
    "    t1_test_1 = time.time()\n",
    "    predicted_test_y_1.append(predicted_y_test_set_1)\n",
    "    eval_time_test_1.append(t1_test_1 - t0_test_1)\n",
    "\n",
    "eval_time_test_1 = np.array(eval_time_test_1)\n",
    "eval_time_test_1_mean = np.mean(eval_time_test_1)\n",
    "\n",
    "print(\"The mean time to predict 10 test_data_1 datasets is {:.1f}s.\".format(eval_time_test_1_mean))\n",
    "\n",
    "# Turn every element in predicted_test_y_1 and test_data_1_label[i] into a 100x2 pandas dataframe, reorder\n",
    "# w.r.t. either predicted value or actual value, slice out the top 10 indexes\n",
    "\n",
    "top_10_indexes_pred_test_y_1 = [pd.DataFrame(data = {'indexes' : indexes, 'pred_test_y_1' : predicted_test_y_1[i]}).sort_values(by=['pred_test_y_1'])['indexes'][0:10,] for i in range(10)]\n",
    "\n",
    "top_10_indexes_actual_test_y_1 = [pd.DataFrame(data = {'indexes' : indexes, 'actual_test_y_1' : test_data_1_label[i]}).sort_values(by=['actual_test_y_1'])['indexes'][0:10,] for i in range(10)]\n",
    "\n",
    "# Determine the intersection of top 10 indexes for every test set and find the mean of those intersections.\n",
    "\n",
    "#hits_test_set_1 = [np.intersect1d(top_10_indexes_pred_test_y_1[i], top_10_indexes_actual_test_y_1[i]).shape[0] for i in range(10)]\n",
    "hits_test_set_1 = [np.intersect1d(top_10_indexes_pred_test_y_1[i], top_10_indexes_actual_test_y_1[i]).shape[0] for i in range(10)]\n",
    "\n",
    "hits_test_set_1_mean = np.mean(np.array(hits_test_set_1))\n",
    "hits_test_set_1_mean\n",
    "\n",
    "# Same is done for four other test sets"
   ]
  },
  {
   "cell_type": "code",
   "execution_count": 257,
   "metadata": {},
   "outputs": [
    {
     "data": {
      "text/plain": [
       "0.6374217111583541"
      ]
     },
     "execution_count": 257,
     "metadata": {},
     "output_type": "execute_result"
    }
   ],
   "source": [
    "# AUC_TEST_1_DATASET\n",
    "\n",
    "top_10_test_pred_1 = [np.sort(predicted_test_y_1[i])[-10:].astype(int) for i in range(len(predicted_test_y_1))]\n",
    "top_10_test_actual_1 = [np.sort(test_data_1_label[i])[-10:].astype(int) for i in range(len(test_data_1_label))]\n",
    "\n",
    "predicted_test_y_1_binary = [(predicted_test_y_1[i] >= top_10_test_pred_1[i][0]) for i in range(10)]\n",
    "#pred_1_binary = pred_1_binary * 1\n",
    "\n",
    "test_data_1_label_binary = [(test_data_1_label[i] >= top_10_test_actual_1[i][0]) for i in range(10)]\n",
    "#acutal_1_binary = acutal_1_binary  * 1\n",
    "\n",
    "\n",
    "\n",
    "roc_auc_score_test_set_1 = [roc_auc_score(predicted_test_y_1_binary[i], test_data_1_label_binary[i]) for i in range(10)]\n",
    "roc_auc_score_test_set_1_mean = np.mean(np.array(roc_auc_score_test_set_1))\n",
    "roc_auc_score_test_set_1_mean"
   ]
  },
  {
   "cell_type": "code",
   "execution_count": 258,
   "metadata": {},
   "outputs": [
    {
     "data": {
      "text/plain": [
       "0.7573234872341877"
      ]
     },
     "execution_count": 258,
     "metadata": {},
     "output_type": "execute_result"
    }
   ],
   "source": [
    "# MAE_TEST_1_DATASET\n",
    "\n",
    "mae_test_set_1 = [mean_absolute_error(test_data_1_label[i], predicted_test_y_1[i]) for i in range(10)]\n",
    "mae_test_set_1_mean = np.mean(np.array(mae_test_set_1))\n",
    "mae_test_set_1_mean"
   ]
  },
  {
   "cell_type": "code",
   "execution_count": 259,
   "metadata": {},
   "outputs": [
    {
     "name": "stdout",
     "output_type": "stream",
     "text": [
      "Fitting 4 folds for each of 10 candidates, totalling 40 fits\n",
      "[CV] n_estimators=500, min_samples_split=0.1, min_samples_leaf=0.5, max_leaf_nodes=2, max_features=0.1, max_depth=20 \n",
      "[CV]  n_estimators=500, min_samples_split=0.1, min_samples_leaf=0.5, max_leaf_nodes=2, max_features=0.1, max_depth=20, total=   1.0s\n",
      "[CV] n_estimators=500, min_samples_split=0.1, min_samples_leaf=0.5, max_leaf_nodes=2, max_features=0.1, max_depth=20 \n"
     ]
    },
    {
     "name": "stderr",
     "output_type": "stream",
     "text": [
      "[Parallel(n_jobs=1)]: Done   1 out of   1 | elapsed:    1.1s remaining:    0.0s\n"
     ]
    },
    {
     "name": "stdout",
     "output_type": "stream",
     "text": [
      "[CV]  n_estimators=500, min_samples_split=0.1, min_samples_leaf=0.5, max_leaf_nodes=2, max_features=0.1, max_depth=20, total=   1.0s\n",
      "[CV] n_estimators=500, min_samples_split=0.1, min_samples_leaf=0.5, max_leaf_nodes=2, max_features=0.1, max_depth=20 \n",
      "[CV]  n_estimators=500, min_samples_split=0.1, min_samples_leaf=0.5, max_leaf_nodes=2, max_features=0.1, max_depth=20, total=   1.1s\n",
      "[CV] n_estimators=500, min_samples_split=0.1, min_samples_leaf=0.5, max_leaf_nodes=2, max_features=0.1, max_depth=20 \n",
      "[CV]  n_estimators=500, min_samples_split=0.1, min_samples_leaf=0.5, max_leaf_nodes=2, max_features=0.1, max_depth=20, total=   1.2s\n",
      "[CV] n_estimators=200, min_samples_split=0.1, min_samples_leaf=0.5, max_leaf_nodes=10, max_features=0.1, max_depth=2 \n",
      "[CV]  n_estimators=200, min_samples_split=0.1, min_samples_leaf=0.5, max_leaf_nodes=10, max_features=0.1, max_depth=2, total=   0.5s\n",
      "[CV] n_estimators=200, min_samples_split=0.1, min_samples_leaf=0.5, max_leaf_nodes=10, max_features=0.1, max_depth=2 \n",
      "[CV]  n_estimators=200, min_samples_split=0.1, min_samples_leaf=0.5, max_leaf_nodes=10, max_features=0.1, max_depth=2, total=   0.5s\n",
      "[CV] n_estimators=200, min_samples_split=0.1, min_samples_leaf=0.5, max_leaf_nodes=10, max_features=0.1, max_depth=2 \n",
      "[CV]  n_estimators=200, min_samples_split=0.1, min_samples_leaf=0.5, max_leaf_nodes=10, max_features=0.1, max_depth=2, total=   0.5s\n",
      "[CV] n_estimators=200, min_samples_split=0.1, min_samples_leaf=0.5, max_leaf_nodes=10, max_features=0.1, max_depth=2 \n",
      "[CV]  n_estimators=200, min_samples_split=0.1, min_samples_leaf=0.5, max_leaf_nodes=10, max_features=0.1, max_depth=2, total=   0.4s\n",
      "[CV] n_estimators=200, min_samples_split=0.5, min_samples_leaf=0.1, max_leaf_nodes=100, max_features=0.5, max_depth=2 \n",
      "[CV]  n_estimators=200, min_samples_split=0.5, min_samples_leaf=0.1, max_leaf_nodes=100, max_features=0.5, max_depth=2, total=  11.1s\n",
      "[CV] n_estimators=200, min_samples_split=0.5, min_samples_leaf=0.1, max_leaf_nodes=100, max_features=0.5, max_depth=2 \n",
      "[CV]  n_estimators=200, min_samples_split=0.5, min_samples_leaf=0.1, max_leaf_nodes=100, max_features=0.5, max_depth=2, total=  11.1s\n",
      "[CV] n_estimators=200, min_samples_split=0.5, min_samples_leaf=0.1, max_leaf_nodes=100, max_features=0.5, max_depth=2 \n",
      "[CV]  n_estimators=200, min_samples_split=0.5, min_samples_leaf=0.1, max_leaf_nodes=100, max_features=0.5, max_depth=2, total=  11.1s\n",
      "[CV] n_estimators=200, min_samples_split=0.5, min_samples_leaf=0.1, max_leaf_nodes=100, max_features=0.5, max_depth=2 \n",
      "[CV]  n_estimators=200, min_samples_split=0.5, min_samples_leaf=0.1, max_leaf_nodes=100, max_features=0.5, max_depth=2, total=  11.1s\n",
      "[CV] n_estimators=500, min_samples_split=0.5, min_samples_leaf=0.5, max_leaf_nodes=2, max_features=0.1, max_depth=2 \n",
      "[CV]  n_estimators=500, min_samples_split=0.5, min_samples_leaf=0.5, max_leaf_nodes=2, max_features=0.1, max_depth=2, total=   1.0s\n",
      "[CV] n_estimators=500, min_samples_split=0.5, min_samples_leaf=0.5, max_leaf_nodes=2, max_features=0.1, max_depth=2 \n",
      "[CV]  n_estimators=500, min_samples_split=0.5, min_samples_leaf=0.5, max_leaf_nodes=2, max_features=0.1, max_depth=2, total=   1.0s\n",
      "[CV] n_estimators=500, min_samples_split=0.5, min_samples_leaf=0.5, max_leaf_nodes=2, max_features=0.1, max_depth=2 \n",
      "[CV]  n_estimators=500, min_samples_split=0.5, min_samples_leaf=0.5, max_leaf_nodes=2, max_features=0.1, max_depth=2, total=   1.0s\n",
      "[CV] n_estimators=500, min_samples_split=0.5, min_samples_leaf=0.5, max_leaf_nodes=2, max_features=0.1, max_depth=2 \n",
      "[CV]  n_estimators=500, min_samples_split=0.5, min_samples_leaf=0.5, max_leaf_nodes=2, max_features=0.1, max_depth=2, total=   1.0s\n",
      "[CV] n_estimators=10, min_samples_split=0.1, min_samples_leaf=0.1, max_leaf_nodes=10, max_features=0.5, max_depth=20 \n",
      "[CV]  n_estimators=10, min_samples_split=0.1, min_samples_leaf=0.1, max_leaf_nodes=10, max_features=0.5, max_depth=20, total=   0.9s\n",
      "[CV] n_estimators=10, min_samples_split=0.1, min_samples_leaf=0.1, max_leaf_nodes=10, max_features=0.5, max_depth=20 \n",
      "[CV]  n_estimators=10, min_samples_split=0.1, min_samples_leaf=0.1, max_leaf_nodes=10, max_features=0.5, max_depth=20, total=   0.9s\n",
      "[CV] n_estimators=10, min_samples_split=0.1, min_samples_leaf=0.1, max_leaf_nodes=10, max_features=0.5, max_depth=20 \n",
      "[CV]  n_estimators=10, min_samples_split=0.1, min_samples_leaf=0.1, max_leaf_nodes=10, max_features=0.5, max_depth=20, total=   0.9s\n",
      "[CV] n_estimators=10, min_samples_split=0.1, min_samples_leaf=0.1, max_leaf_nodes=10, max_features=0.5, max_depth=20 \n",
      "[CV]  n_estimators=10, min_samples_split=0.1, min_samples_leaf=0.1, max_leaf_nodes=10, max_features=0.5, max_depth=20, total=   0.9s\n",
      "[CV] n_estimators=500, min_samples_split=0.5, min_samples_leaf=0.5, max_leaf_nodes=2, max_features=0.5, max_depth=20 \n",
      "[CV]  n_estimators=500, min_samples_split=0.5, min_samples_leaf=0.5, max_leaf_nodes=2, max_features=0.5, max_depth=20, total=   1.0s\n",
      "[CV] n_estimators=500, min_samples_split=0.5, min_samples_leaf=0.5, max_leaf_nodes=2, max_features=0.5, max_depth=20 \n",
      "[CV]  n_estimators=500, min_samples_split=0.5, min_samples_leaf=0.5, max_leaf_nodes=2, max_features=0.5, max_depth=20, total=   1.0s\n",
      "[CV] n_estimators=500, min_samples_split=0.5, min_samples_leaf=0.5, max_leaf_nodes=2, max_features=0.5, max_depth=20 \n",
      "[CV]  n_estimators=500, min_samples_split=0.5, min_samples_leaf=0.5, max_leaf_nodes=2, max_features=0.5, max_depth=20, total=   1.0s\n",
      "[CV] n_estimators=500, min_samples_split=0.5, min_samples_leaf=0.5, max_leaf_nodes=2, max_features=0.5, max_depth=20 \n",
      "[CV]  n_estimators=500, min_samples_split=0.5, min_samples_leaf=0.5, max_leaf_nodes=2, max_features=0.5, max_depth=20, total=   1.0s\n",
      "[CV] n_estimators=10, min_samples_split=0.5, min_samples_leaf=0.1, max_leaf_nodes=100, max_features=0.1, max_depth=20 \n",
      "[CV]  n_estimators=10, min_samples_split=0.5, min_samples_leaf=0.1, max_leaf_nodes=100, max_features=0.1, max_depth=20, total=   0.2s\n",
      "[CV] n_estimators=10, min_samples_split=0.5, min_samples_leaf=0.1, max_leaf_nodes=100, max_features=0.1, max_depth=20 \n",
      "[CV]  n_estimators=10, min_samples_split=0.5, min_samples_leaf=0.1, max_leaf_nodes=100, max_features=0.1, max_depth=20, total=   0.2s\n",
      "[CV] n_estimators=10, min_samples_split=0.5, min_samples_leaf=0.1, max_leaf_nodes=100, max_features=0.1, max_depth=20 \n",
      "[CV]  n_estimators=10, min_samples_split=0.5, min_samples_leaf=0.1, max_leaf_nodes=100, max_features=0.1, max_depth=20, total=   0.2s\n",
      "[CV] n_estimators=10, min_samples_split=0.5, min_samples_leaf=0.1, max_leaf_nodes=100, max_features=0.1, max_depth=20 \n",
      "[CV]  n_estimators=10, min_samples_split=0.5, min_samples_leaf=0.1, max_leaf_nodes=100, max_features=0.1, max_depth=20, total=   0.2s\n",
      "[CV] n_estimators=500, min_samples_split=0.1, min_samples_leaf=0.5, max_leaf_nodes=2, max_features=0.5, max_depth=2 \n",
      "[CV]  n_estimators=500, min_samples_split=0.1, min_samples_leaf=0.5, max_leaf_nodes=2, max_features=0.5, max_depth=2, total=   1.0s\n",
      "[CV] n_estimators=500, min_samples_split=0.1, min_samples_leaf=0.5, max_leaf_nodes=2, max_features=0.5, max_depth=2 \n",
      "[CV]  n_estimators=500, min_samples_split=0.1, min_samples_leaf=0.5, max_leaf_nodes=2, max_features=0.5, max_depth=2, total=   1.0s\n",
      "[CV] n_estimators=500, min_samples_split=0.1, min_samples_leaf=0.5, max_leaf_nodes=2, max_features=0.5, max_depth=2 \n",
      "[CV]  n_estimators=500, min_samples_split=0.1, min_samples_leaf=0.5, max_leaf_nodes=2, max_features=0.5, max_depth=2, total=   1.0s\n",
      "[CV] n_estimators=500, min_samples_split=0.1, min_samples_leaf=0.5, max_leaf_nodes=2, max_features=0.5, max_depth=2 \n",
      "[CV]  n_estimators=500, min_samples_split=0.1, min_samples_leaf=0.5, max_leaf_nodes=2, max_features=0.5, max_depth=2, total=   1.0s\n",
      "[CV] n_estimators=500, min_samples_split=0.1, min_samples_leaf=0.1, max_leaf_nodes=2, max_features=0.1, max_depth=2 \n",
      "[CV]  n_estimators=500, min_samples_split=0.1, min_samples_leaf=0.1, max_leaf_nodes=2, max_features=0.1, max_depth=2, total=   7.2s\n",
      "[CV] n_estimators=500, min_samples_split=0.1, min_samples_leaf=0.1, max_leaf_nodes=2, max_features=0.1, max_depth=2 \n",
      "[CV]  n_estimators=500, min_samples_split=0.1, min_samples_leaf=0.1, max_leaf_nodes=2, max_features=0.1, max_depth=2, total=   7.0s\n",
      "[CV] n_estimators=500, min_samples_split=0.1, min_samples_leaf=0.1, max_leaf_nodes=2, max_features=0.1, max_depth=2 \n"
     ]
    },
    {
     "name": "stdout",
     "output_type": "stream",
     "text": [
      "[CV]  n_estimators=500, min_samples_split=0.1, min_samples_leaf=0.1, max_leaf_nodes=2, max_features=0.1, max_depth=2, total=   6.8s\n",
      "[CV] n_estimators=500, min_samples_split=0.1, min_samples_leaf=0.1, max_leaf_nodes=2, max_features=0.1, max_depth=2 \n",
      "[CV]  n_estimators=500, min_samples_split=0.1, min_samples_leaf=0.1, max_leaf_nodes=2, max_features=0.1, max_depth=2, total=   6.8s\n",
      "[CV] n_estimators=10, min_samples_split=0.1, min_samples_leaf=0.5, max_leaf_nodes=2, max_features=0.1, max_depth=20 \n",
      "[CV]  n_estimators=10, min_samples_split=0.1, min_samples_leaf=0.5, max_leaf_nodes=2, max_features=0.1, max_depth=20, total=   0.1s\n",
      "[CV] n_estimators=10, min_samples_split=0.1, min_samples_leaf=0.5, max_leaf_nodes=2, max_features=0.1, max_depth=20 \n",
      "[CV]  n_estimators=10, min_samples_split=0.1, min_samples_leaf=0.5, max_leaf_nodes=2, max_features=0.1, max_depth=20, total=   0.1s\n",
      "[CV] n_estimators=10, min_samples_split=0.1, min_samples_leaf=0.5, max_leaf_nodes=2, max_features=0.1, max_depth=20 \n",
      "[CV]  n_estimators=10, min_samples_split=0.1, min_samples_leaf=0.5, max_leaf_nodes=2, max_features=0.1, max_depth=20, total=   0.1s\n",
      "[CV] n_estimators=10, min_samples_split=0.1, min_samples_leaf=0.5, max_leaf_nodes=2, max_features=0.1, max_depth=20 \n",
      "[CV]  n_estimators=10, min_samples_split=0.1, min_samples_leaf=0.5, max_leaf_nodes=2, max_features=0.1, max_depth=20, total=   0.1s\n"
     ]
    },
    {
     "name": "stderr",
     "output_type": "stream",
     "text": [
      "[Parallel(n_jobs=1)]: Done  40 out of  40 | elapsed:  1.7min finished\n"
     ]
    },
    {
     "name": "stdout",
     "output_type": "stream",
     "text": [
      "{'n_estimators': 10, 'min_samples_split': 0.1, 'min_samples_leaf': 0.1, 'max_leaf_nodes': 10, 'max_features': 0.5, 'max_depth': 20}\n",
      "RandomForestRegressor(bootstrap=True, criterion='mse', max_depth=20,\n",
      "           max_features=0.5, max_leaf_nodes=10, min_impurity_decrease=0.0,\n",
      "           min_impurity_split=None, min_samples_leaf=0.1,\n",
      "           min_samples_split=0.1, min_weight_fraction_leaf=0.0,\n",
      "           n_estimators=10, n_jobs=1, oob_score=False, random_state=42,\n",
      "           verbose=0, warm_start=False)\n"
     ]
    }
   ],
   "source": [
    "# 2nd Data Train\n",
    "\n",
    "grid_search_data_2 = grid_search_forest.fit(train_data_2_features, train_data_2_label)\n",
    "\n",
    "forest_best_params_2 = grid_search_data_2.best_params_\n",
    "\n",
    "forest_best_estimators_2 = grid_search_data_2.best_estimator_\n",
    "\n",
    "print(forest_best_params_2)\n",
    "\n",
    "print(forest_best_estimators_2)"
   ]
  },
  {
   "cell_type": "code",
   "execution_count": 299,
   "metadata": {},
   "outputs": [
    {
     "name": "stdout",
     "output_type": "stream",
     "text": [
      "Prediction time for Train_set_2 took 0.0s.\n"
     ]
    }
   ],
   "source": [
    "final_model_rand_forest_reg_2 = forest_best_estimators_2\n",
    "\n",
    "t0_train_set_2 = time.time()\n",
    "y_pred_rand_forest_reg_2 = final_model_rand_forest_reg_2.predict(train_data_2_features)\n",
    "t1_train_set_2 = time.time()\n",
    "\n",
    "print(\"Prediction time for Train_set_2 took {:.1f}s.\".format(t1_train_set_2 - t0_train_set_2))"
   ]
  },
  {
   "cell_type": "code",
   "execution_count": 262,
   "metadata": {},
   "outputs": [
    {
     "data": {
      "text/plain": [
       "0"
      ]
     },
     "execution_count": 262,
     "metadata": {},
     "output_type": "execute_result"
    }
   ],
   "source": [
    "# Hits @ 10. 2.\n",
    "\n",
    "indexes_train_2 = np.array([i for i in range(len(train_data_2_label))])\n",
    "\n",
    "top_10_indexes_pred_train_y_2 = pd.DataFrame(data = {'indexes_train_2' : indexes_train_2, 'y_pred_rand_forest_reg_2' : y_pred_rand_forest_reg_2}).sort_values(by=['y_pred_rand_forest_reg_2'])['indexes_train_2'][0:10,]\n",
    "\n",
    "top_10_indexes_actual_train_y_2 = pd.DataFrame(data = {'indexes_train_2' : indexes_train_2, 'train_data_2_label' : train_data_2_label}).sort_values(by=['train_data_2_label'])['indexes_train_2'][0:10,]\n",
    "    \n",
    "\n",
    "hits_2 = np.intersect1d(top_10_indexes_pred_train_y_2, top_10_indexes_actual_train_y_2).shape[0]\n",
    "hits_2\n",
    "\n",
    "#top_10_pred_2 = np.sort(y_pred_rand_forest_reg_2)[-10:].astype(int)\n",
    "#top_10_actual_2 = np.sort(train_data_2_label)[-10:].astype(int)"
   ]
  },
  {
   "cell_type": "code",
   "execution_count": 263,
   "metadata": {},
   "outputs": [
    {
     "data": {
      "text/plain": [
       "0.8728613424189124"
      ]
     },
     "execution_count": 263,
     "metadata": {},
     "output_type": "execute_result"
    }
   ],
   "source": [
    "# AUC_2\n",
    "\n",
    "top_10_pred_2 = np.sort(y_pred_rand_forest_reg_2)[-10:].astype(int)\n",
    "top_10_actual_2 = np.sort(train_data_2_label)[-10:].astype(int)\n",
    "\n",
    "pred_2_binary = (y_pred_rand_forest_reg_2 >= top_10_pred_2[0])\n",
    "pred_2_binary = pred_2_binary * 1\n",
    "\n",
    "acutal_2_binary = (train_data_2_label >= top_10_actual_2[0])\n",
    "acutal_2_binary = acutal_2_binary  * 1\n",
    "\n",
    "roc_auc_score(acutal_2_binary, pred_2_binary)"
   ]
  },
  {
   "cell_type": "code",
   "execution_count": 264,
   "metadata": {},
   "outputs": [
    {
     "data": {
      "text/plain": [
       "0.2174772688740657"
      ]
     },
     "execution_count": 264,
     "metadata": {},
     "output_type": "execute_result"
    }
   ],
   "source": [
    "# MAE_2\n",
    "\n",
    "mae_2 = mean_absolute_error(train_data_2_label, y_pred_rand_forest_reg_2)\n",
    "mae_2"
   ]
  },
  {
   "cell_type": "code",
   "execution_count": 309,
   "metadata": {},
   "outputs": [
    {
     "name": "stdout",
     "output_type": "stream",
     "text": [
      "The mean time to predict 10 test_data_2 datasets is 0.0s.\n"
     ]
    },
    {
     "data": {
      "text/plain": [
       "2.6"
      ]
     },
     "execution_count": 309,
     "metadata": {},
     "output_type": "execute_result"
    }
   ],
   "source": [
    "# HITS_TEST_2_DATASET\n",
    "\n",
    "predicted_test_y_2 = []\n",
    "eval_time_test_2 = []\n",
    "\n",
    "for i in range(len(test_data_2_features)):\n",
    "    t0_test_2 = time.time()\n",
    "    predicted_y_test_set_2 = final_model_rand_forest_reg_2.predict(test_data_2_features[i])\n",
    "    t1_test_2 = time.time()\n",
    "    predicted_test_y_2.append(predicted_y_test_set_2)\n",
    "    eval_time_test_2.append(t1_test_2 - t0_test_2)\n",
    "\n",
    "eval_time_test_2 = np.array(eval_time_test_2)\n",
    "eval_time_test_2_mean = np.mean(eval_time_test_2)\n",
    "\n",
    "print(\"The mean time to predict 10 test_data_2 datasets is {:.1f}s.\".format(eval_time_test_2_mean))\n",
    "\n",
    "top_10_indexes_pred_test_y_2 = [pd.DataFrame(data = {'indexes' : indexes, 'pred_test_y_2' : predicted_test_y_2[i]}).sort_values(by=['pred_test_y_2'])['indexes'][0:10,] for i in range(10)]\n",
    "\n",
    "top_10_indexes_actual_test_y_2 = [pd.DataFrame(data = {'indexes' : indexes, 'actual_test_y_2' : test_data_2_label[i]}).sort_values(by=['actual_test_y_2'])['indexes'][0:10,] for i in range(10)]\n",
    "\n",
    "# Determine the intersection of top 10 indexes for every test set and find the mean of those intersections.\n",
    "\n",
    "hits_test_set_2 = [np.intersect1d(top_10_indexes_pred_test_y_2[i], top_10_indexes_actual_test_y_2[i]).shape[0] for i in range(10)]\n",
    "hits_test_set_2_mean = np.mean(np.array(hits_test_set_2))\n",
    "hits_test_set_2_mean"
   ]
  },
  {
   "cell_type": "code",
   "execution_count": 266,
   "metadata": {},
   "outputs": [
    {
     "data": {
      "text/plain": [
       "0.6384568680390126"
      ]
     },
     "execution_count": 266,
     "metadata": {},
     "output_type": "execute_result"
    }
   ],
   "source": [
    "# AUC_TEST_2_DATASET\n",
    "\n",
    "top_10_test_pred_2 = [np.sort(predicted_test_y_2[i])[-10:].astype(int) for i in range(len(predicted_test_y_2))]\n",
    "top_10_test_actual_2 = [np.sort(test_data_2_label[i])[-10:].astype(int) for i in range(len(test_data_2_label))]\n",
    "\n",
    "predicted_test_y_2_binary = [(predicted_test_y_2[i] >= top_10_test_pred_2[i][0]) for i in range(10)]\n",
    "#pred_1_binary = pred_1_binary * 1\n",
    "\n",
    "test_data_2_label_binary = [(test_data_2_label[i] >= top_10_test_actual_2[i][0]) for i in range(10)]\n",
    "#acutal_1_binary = acutal_1_binary  * 1\n",
    "\n",
    "roc_auc_score_test_set_2 = [roc_auc_score(predicted_test_y_2_binary[i], test_data_2_label_binary[i]) for i in range(10)]\n",
    "roc_auc_score_test_set_2_mean = np.mean(np.array(roc_auc_score_test_set_2))\n",
    "roc_auc_score_test_set_2_mean"
   ]
  },
  {
   "cell_type": "code",
   "execution_count": 267,
   "metadata": {},
   "outputs": [
    {
     "data": {
      "text/plain": [
       "0.7534890141645081"
      ]
     },
     "execution_count": 267,
     "metadata": {},
     "output_type": "execute_result"
    }
   ],
   "source": [
    "# MAE_TEST_2_DATASET\n",
    "\n",
    "mae_test_set_2 = [mean_absolute_error(test_data_2_label[i], predicted_test_y_2[i]) for i in range(10)]\n",
    "mae_test_set_2_mean = np.mean(np.array(mae_test_set_2))\n",
    "mae_test_set_2_mean"
   ]
  },
  {
   "cell_type": "code",
   "execution_count": 268,
   "metadata": {},
   "outputs": [
    {
     "name": "stdout",
     "output_type": "stream",
     "text": [
      "Fitting 4 folds for each of 10 candidates, totalling 40 fits\n",
      "[CV] n_estimators=500, min_samples_split=0.5, min_samples_leaf=0.5, max_leaf_nodes=10, max_features=0.1, max_depth=10 \n",
      "[CV]  n_estimators=500, min_samples_split=0.5, min_samples_leaf=0.5, max_leaf_nodes=10, max_features=0.1, max_depth=10, total=   1.7s\n",
      "[CV] n_estimators=500, min_samples_split=0.5, min_samples_leaf=0.5, max_leaf_nodes=10, max_features=0.1, max_depth=10 \n"
     ]
    },
    {
     "name": "stderr",
     "output_type": "stream",
     "text": [
      "[Parallel(n_jobs=1)]: Done   1 out of   1 | elapsed:    1.8s remaining:    0.0s\n"
     ]
    },
    {
     "name": "stdout",
     "output_type": "stream",
     "text": [
      "[CV]  n_estimators=500, min_samples_split=0.5, min_samples_leaf=0.5, max_leaf_nodes=10, max_features=0.1, max_depth=10, total=   1.6s\n",
      "[CV] n_estimators=500, min_samples_split=0.5, min_samples_leaf=0.5, max_leaf_nodes=10, max_features=0.1, max_depth=10 \n",
      "[CV]  n_estimators=500, min_samples_split=0.5, min_samples_leaf=0.5, max_leaf_nodes=10, max_features=0.1, max_depth=10, total=   1.7s\n",
      "[CV] n_estimators=500, min_samples_split=0.5, min_samples_leaf=0.5, max_leaf_nodes=10, max_features=0.1, max_depth=10 \n",
      "[CV]  n_estimators=500, min_samples_split=0.5, min_samples_leaf=0.5, max_leaf_nodes=10, max_features=0.1, max_depth=10, total=   1.6s\n",
      "[CV] n_estimators=200, min_samples_split=0.5, min_samples_leaf=0.1, max_leaf_nodes=100, max_features=0.1, max_depth=10 \n",
      "[CV]  n_estimators=200, min_samples_split=0.5, min_samples_leaf=0.1, max_leaf_nodes=100, max_features=0.1, max_depth=10, total=   4.1s\n",
      "[CV] n_estimators=200, min_samples_split=0.5, min_samples_leaf=0.1, max_leaf_nodes=100, max_features=0.1, max_depth=10 \n",
      "[CV]  n_estimators=200, min_samples_split=0.5, min_samples_leaf=0.1, max_leaf_nodes=100, max_features=0.1, max_depth=10, total=   4.1s\n",
      "[CV] n_estimators=200, min_samples_split=0.5, min_samples_leaf=0.1, max_leaf_nodes=100, max_features=0.1, max_depth=10 \n",
      "[CV]  n_estimators=200, min_samples_split=0.5, min_samples_leaf=0.1, max_leaf_nodes=100, max_features=0.1, max_depth=10, total=   3.9s\n",
      "[CV] n_estimators=200, min_samples_split=0.5, min_samples_leaf=0.1, max_leaf_nodes=100, max_features=0.1, max_depth=10 \n",
      "[CV]  n_estimators=200, min_samples_split=0.5, min_samples_leaf=0.1, max_leaf_nodes=100, max_features=0.1, max_depth=10, total=   4.0s\n",
      "[CV] n_estimators=500, min_samples_split=0.1, min_samples_leaf=0.1, max_leaf_nodes=2, max_features=0.1, max_depth=2 \n",
      "[CV]  n_estimators=500, min_samples_split=0.1, min_samples_leaf=0.1, max_leaf_nodes=2, max_features=0.1, max_depth=2, total=  10.5s\n",
      "[CV] n_estimators=500, min_samples_split=0.1, min_samples_leaf=0.1, max_leaf_nodes=2, max_features=0.1, max_depth=2 \n",
      "[CV]  n_estimators=500, min_samples_split=0.1, min_samples_leaf=0.1, max_leaf_nodes=2, max_features=0.1, max_depth=2, total=  10.4s\n",
      "[CV] n_estimators=500, min_samples_split=0.1, min_samples_leaf=0.1, max_leaf_nodes=2, max_features=0.1, max_depth=2 \n",
      "[CV]  n_estimators=500, min_samples_split=0.1, min_samples_leaf=0.1, max_leaf_nodes=2, max_features=0.1, max_depth=2, total=  10.5s\n",
      "[CV] n_estimators=500, min_samples_split=0.1, min_samples_leaf=0.1, max_leaf_nodes=2, max_features=0.1, max_depth=2 \n",
      "[CV]  n_estimators=500, min_samples_split=0.1, min_samples_leaf=0.1, max_leaf_nodes=2, max_features=0.1, max_depth=2, total=  10.4s\n",
      "[CV] n_estimators=10, min_samples_split=0.1, min_samples_leaf=0.5, max_leaf_nodes=10, max_features=0.1, max_depth=2 \n",
      "[CV]  n_estimators=10, min_samples_split=0.1, min_samples_leaf=0.5, max_leaf_nodes=10, max_features=0.1, max_depth=2, total=   0.1s\n",
      "[CV] n_estimators=10, min_samples_split=0.1, min_samples_leaf=0.5, max_leaf_nodes=10, max_features=0.1, max_depth=2 \n",
      "[CV]  n_estimators=10, min_samples_split=0.1, min_samples_leaf=0.5, max_leaf_nodes=10, max_features=0.1, max_depth=2, total=   0.1s\n",
      "[CV] n_estimators=10, min_samples_split=0.1, min_samples_leaf=0.5, max_leaf_nodes=10, max_features=0.1, max_depth=2 \n",
      "[CV]  n_estimators=10, min_samples_split=0.1, min_samples_leaf=0.5, max_leaf_nodes=10, max_features=0.1, max_depth=2, total=   0.1s\n",
      "[CV] n_estimators=10, min_samples_split=0.1, min_samples_leaf=0.5, max_leaf_nodes=10, max_features=0.1, max_depth=2 \n",
      "[CV]  n_estimators=10, min_samples_split=0.1, min_samples_leaf=0.5, max_leaf_nodes=10, max_features=0.1, max_depth=2, total=   0.1s\n",
      "[CV] n_estimators=10, min_samples_split=0.5, min_samples_leaf=0.1, max_leaf_nodes=2, max_features=0.5, max_depth=20 \n",
      "[CV]  n_estimators=10, min_samples_split=0.5, min_samples_leaf=0.1, max_leaf_nodes=2, max_features=0.5, max_depth=20, total=   0.9s\n",
      "[CV] n_estimators=10, min_samples_split=0.5, min_samples_leaf=0.1, max_leaf_nodes=2, max_features=0.5, max_depth=20 \n",
      "[CV]  n_estimators=10, min_samples_split=0.5, min_samples_leaf=0.1, max_leaf_nodes=2, max_features=0.5, max_depth=20, total=   0.9s\n",
      "[CV] n_estimators=10, min_samples_split=0.5, min_samples_leaf=0.1, max_leaf_nodes=2, max_features=0.5, max_depth=20 \n",
      "[CV]  n_estimators=10, min_samples_split=0.5, min_samples_leaf=0.1, max_leaf_nodes=2, max_features=0.5, max_depth=20, total=   0.9s\n",
      "[CV] n_estimators=10, min_samples_split=0.5, min_samples_leaf=0.1, max_leaf_nodes=2, max_features=0.5, max_depth=20 \n",
      "[CV]  n_estimators=10, min_samples_split=0.5, min_samples_leaf=0.1, max_leaf_nodes=2, max_features=0.5, max_depth=20, total=   0.9s\n",
      "[CV] n_estimators=10, min_samples_split=0.1, min_samples_leaf=0.1, max_leaf_nodes=2, max_features=0.5, max_depth=2 \n",
      "[CV]  n_estimators=10, min_samples_split=0.1, min_samples_leaf=0.1, max_leaf_nodes=2, max_features=0.5, max_depth=2, total=   0.9s\n",
      "[CV] n_estimators=10, min_samples_split=0.1, min_samples_leaf=0.1, max_leaf_nodes=2, max_features=0.5, max_depth=2 \n",
      "[CV]  n_estimators=10, min_samples_split=0.1, min_samples_leaf=0.1, max_leaf_nodes=2, max_features=0.5, max_depth=2, total=   0.9s\n",
      "[CV] n_estimators=10, min_samples_split=0.1, min_samples_leaf=0.1, max_leaf_nodes=2, max_features=0.5, max_depth=2 \n",
      "[CV]  n_estimators=10, min_samples_split=0.1, min_samples_leaf=0.1, max_leaf_nodes=2, max_features=0.5, max_depth=2, total=   0.9s\n",
      "[CV] n_estimators=10, min_samples_split=0.1, min_samples_leaf=0.1, max_leaf_nodes=2, max_features=0.5, max_depth=2 \n",
      "[CV]  n_estimators=10, min_samples_split=0.1, min_samples_leaf=0.1, max_leaf_nodes=2, max_features=0.5, max_depth=2, total=   0.9s\n",
      "[CV] n_estimators=500, min_samples_split=0.5, min_samples_leaf=0.1, max_leaf_nodes=100, max_features=0.1, max_depth=10 \n",
      "[CV]  n_estimators=500, min_samples_split=0.5, min_samples_leaf=0.1, max_leaf_nodes=100, max_features=0.1, max_depth=10, total=  10.2s\n",
      "[CV] n_estimators=500, min_samples_split=0.5, min_samples_leaf=0.1, max_leaf_nodes=100, max_features=0.1, max_depth=10 \n",
      "[CV]  n_estimators=500, min_samples_split=0.5, min_samples_leaf=0.1, max_leaf_nodes=100, max_features=0.1, max_depth=10, total=  10.2s\n",
      "[CV] n_estimators=500, min_samples_split=0.5, min_samples_leaf=0.1, max_leaf_nodes=100, max_features=0.1, max_depth=10 \n",
      "[CV]  n_estimators=500, min_samples_split=0.5, min_samples_leaf=0.1, max_leaf_nodes=100, max_features=0.1, max_depth=10, total=   9.6s\n",
      "[CV] n_estimators=500, min_samples_split=0.5, min_samples_leaf=0.1, max_leaf_nodes=100, max_features=0.1, max_depth=10 \n",
      "[CV]  n_estimators=500, min_samples_split=0.5, min_samples_leaf=0.1, max_leaf_nodes=100, max_features=0.1, max_depth=10, total=  10.0s\n",
      "[CV] n_estimators=10, min_samples_split=0.1, min_samples_leaf=0.1, max_leaf_nodes=2, max_features=0.5, max_depth=20 \n",
      "[CV]  n_estimators=10, min_samples_split=0.1, min_samples_leaf=0.1, max_leaf_nodes=2, max_features=0.5, max_depth=20, total=   0.9s\n",
      "[CV] n_estimators=10, min_samples_split=0.1, min_samples_leaf=0.1, max_leaf_nodes=2, max_features=0.5, max_depth=20 \n",
      "[CV]  n_estimators=10, min_samples_split=0.1, min_samples_leaf=0.1, max_leaf_nodes=2, max_features=0.5, max_depth=20, total=   0.9s\n",
      "[CV] n_estimators=10, min_samples_split=0.1, min_samples_leaf=0.1, max_leaf_nodes=2, max_features=0.5, max_depth=20 \n",
      "[CV]  n_estimators=10, min_samples_split=0.1, min_samples_leaf=0.1, max_leaf_nodes=2, max_features=0.5, max_depth=20, total=   0.9s\n",
      "[CV] n_estimators=10, min_samples_split=0.1, min_samples_leaf=0.1, max_leaf_nodes=2, max_features=0.5, max_depth=20 \n",
      "[CV]  n_estimators=10, min_samples_split=0.1, min_samples_leaf=0.1, max_leaf_nodes=2, max_features=0.5, max_depth=20, total=   0.9s\n",
      "[CV] n_estimators=500, min_samples_split=0.5, min_samples_leaf=0.1, max_leaf_nodes=2, max_features=0.1, max_depth=20 \n",
      "[CV]  n_estimators=500, min_samples_split=0.5, min_samples_leaf=0.1, max_leaf_nodes=2, max_features=0.1, max_depth=20, total=  10.1s\n",
      "[CV] n_estimators=500, min_samples_split=0.5, min_samples_leaf=0.1, max_leaf_nodes=2, max_features=0.1, max_depth=20 \n",
      "[CV]  n_estimators=500, min_samples_split=0.5, min_samples_leaf=0.1, max_leaf_nodes=2, max_features=0.1, max_depth=20, total=  10.1s\n",
      "[CV] n_estimators=500, min_samples_split=0.5, min_samples_leaf=0.1, max_leaf_nodes=2, max_features=0.1, max_depth=20 \n"
     ]
    },
    {
     "name": "stdout",
     "output_type": "stream",
     "text": [
      "[CV]  n_estimators=500, min_samples_split=0.5, min_samples_leaf=0.1, max_leaf_nodes=2, max_features=0.1, max_depth=20, total=   9.5s\n",
      "[CV] n_estimators=500, min_samples_split=0.5, min_samples_leaf=0.1, max_leaf_nodes=2, max_features=0.1, max_depth=20 \n",
      "[CV]  n_estimators=500, min_samples_split=0.5, min_samples_leaf=0.1, max_leaf_nodes=2, max_features=0.1, max_depth=20, total=   9.9s\n",
      "[CV] n_estimators=200, min_samples_split=0.1, min_samples_leaf=0.1, max_leaf_nodes=100, max_features=0.1, max_depth=10 \n",
      "[CV]  n_estimators=200, min_samples_split=0.1, min_samples_leaf=0.1, max_leaf_nodes=100, max_features=0.1, max_depth=10, total=   6.1s\n",
      "[CV] n_estimators=200, min_samples_split=0.1, min_samples_leaf=0.1, max_leaf_nodes=100, max_features=0.1, max_depth=10 \n",
      "[CV]  n_estimators=200, min_samples_split=0.1, min_samples_leaf=0.1, max_leaf_nodes=100, max_features=0.1, max_depth=10, total=   6.3s\n",
      "[CV] n_estimators=200, min_samples_split=0.1, min_samples_leaf=0.1, max_leaf_nodes=100, max_features=0.1, max_depth=10 \n",
      "[CV]  n_estimators=200, min_samples_split=0.1, min_samples_leaf=0.1, max_leaf_nodes=100, max_features=0.1, max_depth=10, total=   6.2s\n",
      "[CV] n_estimators=200, min_samples_split=0.1, min_samples_leaf=0.1, max_leaf_nodes=100, max_features=0.1, max_depth=10 \n",
      "[CV]  n_estimators=200, min_samples_split=0.1, min_samples_leaf=0.1, max_leaf_nodes=100, max_features=0.1, max_depth=10, total=   6.7s\n"
     ]
    },
    {
     "name": "stderr",
     "output_type": "stream",
     "text": [
      "[Parallel(n_jobs=1)]: Done  40 out of  40 | elapsed:  3.4min finished\n"
     ]
    },
    {
     "name": "stdout",
     "output_type": "stream",
     "text": [
      "{'n_estimators': 10, 'min_samples_split': 0.5, 'min_samples_leaf': 0.1, 'max_leaf_nodes': 2, 'max_features': 0.5, 'max_depth': 20}\n",
      "RandomForestRegressor(bootstrap=True, criterion='mse', max_depth=20,\n",
      "           max_features=0.5, max_leaf_nodes=2, min_impurity_decrease=0.0,\n",
      "           min_impurity_split=None, min_samples_leaf=0.1,\n",
      "           min_samples_split=0.5, min_weight_fraction_leaf=0.0,\n",
      "           n_estimators=10, n_jobs=1, oob_score=False, random_state=42,\n",
      "           verbose=0, warm_start=False)\n"
     ]
    }
   ],
   "source": [
    "# 3rd Data Train\n",
    "\n",
    "grid_search_data_3 = grid_search_forest.fit(train_data_3_features, train_data_3_label)\n",
    "\n",
    "forest_best_params_3 = grid_search_data_3.best_params_\n",
    "\n",
    "forest_best_estimators_3 = grid_search_data_3.best_estimator_\n",
    "\n",
    "print(forest_best_params_3)\n",
    "\n",
    "print(forest_best_estimators_3)"
   ]
  },
  {
   "cell_type": "code",
   "execution_count": 300,
   "metadata": {},
   "outputs": [
    {
     "name": "stdout",
     "output_type": "stream",
     "text": [
      "Prediction time for Train_set_3 took 0.0s.\n"
     ]
    }
   ],
   "source": [
    "final_model_rand_forest_reg_3 = forest_best_estimators_3\n",
    "\n",
    "t0_train_set_3 = time.time()\n",
    "y_pred_rand_forest_reg_3 = final_model_rand_forest_reg_3.predict(train_data_3_features)\n",
    "t1_train_set_3 = time.time()\n",
    "\n",
    "print(\"Prediction time for Train_set_3 took {:.1f}s.\".format(t1_train_set_3 - t0_train_set_3))"
   ]
  },
  {
   "cell_type": "code",
   "execution_count": 270,
   "metadata": {},
   "outputs": [
    {
     "data": {
      "text/plain": [
       "1"
      ]
     },
     "execution_count": 270,
     "metadata": {},
     "output_type": "execute_result"
    }
   ],
   "source": [
    "# Hits @ 10. 3.\n",
    "\n",
    "indexes_train_3 = np.array([i for i in range(len(train_data_3_label))])\n",
    "\n",
    "top_10_indexes_pred_train_y_3 = pd.DataFrame(data = {'indexes_train_3' : indexes_train_3, 'y_pred_rand_forest_reg_3' : y_pred_rand_forest_reg_3}).sort_values(by=['y_pred_rand_forest_reg_3'])['indexes_train_3'][0:10,]\n",
    "\n",
    "top_10_indexes_actual_train_y_3 = pd.DataFrame(data = {'indexes_train_3' : indexes_train_3, 'train_data_3_label' : train_data_3_label}).sort_values(by=['train_data_3_label'])['indexes_train_3'][0:10,]\n",
    "    \n",
    "\n",
    "hits_3 = np.intersect1d(top_10_indexes_pred_train_y_3, top_10_indexes_actual_train_y_3).shape[0]\n",
    "hits_3"
   ]
  },
  {
   "cell_type": "code",
   "execution_count": 271,
   "metadata": {},
   "outputs": [
    {
     "data": {
      "text/plain": [
       "0.6486753216722"
      ]
     },
     "execution_count": 271,
     "metadata": {},
     "output_type": "execute_result"
    }
   ],
   "source": [
    "# AUC_3\n",
    "\n",
    "top_10_pred_3 = np.sort(y_pred_rand_forest_reg_3)[-10:].astype(int)\n",
    "top_10_actual_3 = np.sort(train_data_3_label)[-10:].astype(int)\n",
    "\n",
    "pred_3_binary = (y_pred_rand_forest_reg_3 >= top_10_pred_3[0])\n",
    "pred_3_binary = pred_3_binary * 1\n",
    "\n",
    "acutal_3_binary = (train_data_3_label >= top_10_actual_3[0])\n",
    "acutal_3_binary = acutal_3_binary  * 1\n",
    "\n",
    "roc_auc_score(acutal_3_binary, pred_3_binary)"
   ]
  },
  {
   "cell_type": "code",
   "execution_count": 272,
   "metadata": {},
   "outputs": [
    {
     "data": {
      "text/plain": [
       "0.23685195059307385"
      ]
     },
     "execution_count": 272,
     "metadata": {},
     "output_type": "execute_result"
    }
   ],
   "source": [
    "# MAE_3\n",
    "\n",
    "mae_3 = mean_absolute_error(train_data_3_label, y_pred_rand_forest_reg_3)\n",
    "mae_3"
   ]
  },
  {
   "cell_type": "code",
   "execution_count": 308,
   "metadata": {},
   "outputs": [
    {
     "name": "stdout",
     "output_type": "stream",
     "text": [
      "The mean time to predict 10 test_data_3 datasets is 0.0s.\n"
     ]
    },
    {
     "data": {
      "text/plain": [
       "3.1"
      ]
     },
     "execution_count": 308,
     "metadata": {},
     "output_type": "execute_result"
    }
   ],
   "source": [
    "# HITS_TEST_3_DATASET\n",
    "\n",
    "predicted_test_y_3 = []\n",
    "eval_time_test_3 = []\n",
    "\n",
    "for i in range(len(test_data_3_features)):\n",
    "    t0_test_3 = time.time()\n",
    "    predicted_y_test_set_3 = final_model_rand_forest_reg_3.predict(test_data_3_features[i])\n",
    "    t1_test_3 = time.time()\n",
    "    predicted_test_y_3.append(predicted_y_test_set_3)\n",
    "    eval_time_test_3.append(t1_test_3 - t0_test_3)\n",
    "\n",
    "eval_time_test_3 = np.array(eval_time_test_3)\n",
    "eval_time_test_3_mean = np.mean(eval_time_test_3)\n",
    "\n",
    "print(\"The mean time to predict 10 test_data_3 datasets is {:.1f}s.\".format(eval_time_test_3_mean))\n",
    "\n",
    "#for i in range(len(test_data_3_features)):\n",
    "#    predicted_test_y_3.append(final_model_rand_forest_reg_3.predict(test_data_3_features[i])) \n",
    "# The above is a list of 10 instances of y_pred_val for a test set\n",
    "\n",
    "top_10_indexes_pred_test_y_3 = [pd.DataFrame(data = {'indexes' : indexes, 'pred_test_y_3' : predicted_test_y_3[i]}).sort_values(by=['pred_test_y_3'])['indexes'][0:10,] for i in range(10)]\n",
    "\n",
    "top_10_indexes_actual_test_y_3 = [pd.DataFrame(data = {'indexes' : indexes, 'actual_test_y_3' : test_data_3_label[i]}).sort_values(by=['actual_test_y_3'])['indexes'][0:10,] for i in range(10)]\n",
    "\n",
    "# Determine the intersection of top 10 indexes for every test set and find the mean of those intersections.\n",
    "\n",
    "hits_test_set_3 = [np.intersect1d(top_10_indexes_pred_test_y_3[i], top_10_indexes_actual_test_y_3[i]).shape[0] for i in range(10)]\n",
    "hits_test_set_3_mean = np.mean(np.array(hits_test_set_3))\n",
    "hits_test_set_3_mean"
   ]
  },
  {
   "cell_type": "code",
   "execution_count": 274,
   "metadata": {},
   "outputs": [
    {
     "data": {
      "text/plain": [
       "0.6099501116874395"
      ]
     },
     "execution_count": 274,
     "metadata": {},
     "output_type": "execute_result"
    }
   ],
   "source": [
    "# AUC_TEST_3_DATASET\n",
    "\n",
    "top_10_test_pred_3 = [np.sort(predicted_test_y_3[i])[-10:].astype(int) for i in range(len(predicted_test_y_3))]\n",
    "top_10_test_actual_3 = [np.sort(test_data_3_label[i])[-10:].astype(int) for i in range(len(test_data_3_label))]\n",
    "\n",
    "predicted_test_y_3_binary = [(predicted_test_y_3[i] >= top_10_test_pred_3[i][0]) for i in range(10)]\n",
    "#pred_1_binary = pred_1_binary * 1\n",
    "\n",
    "test_data_3_label_binary = [(test_data_3_label[i] >= top_10_test_actual_3[i][0]) for i in range(10)]\n",
    "#acutal_1_binary = acutal_1_binary  * 1\n",
    "\n",
    "roc_auc_score_test_set_3 = [roc_auc_score(predicted_test_y_3_binary[i], test_data_3_label_binary[i]) for i in range(10)]\n",
    "roc_auc_score_test_set_3_mean = np.mean(np.array(roc_auc_score_test_set_3))\n",
    "roc_auc_score_test_set_3_mean"
   ]
  },
  {
   "cell_type": "code",
   "execution_count": 275,
   "metadata": {},
   "outputs": [
    {
     "data": {
      "text/plain": [
       "0.7952766945224282"
      ]
     },
     "execution_count": 275,
     "metadata": {},
     "output_type": "execute_result"
    }
   ],
   "source": [
    "# MAE_TEST_3_DATASET\n",
    "\n",
    "mae_test_set_3 = [mean_absolute_error(test_data_3_label[i], predicted_test_y_3[i]) for i in range(10)]\n",
    "mae_test_set_3_mean = np.mean(np.array(mae_test_set_3))\n",
    "mae_test_set_3_mean"
   ]
  },
  {
   "cell_type": "code",
   "execution_count": 276,
   "metadata": {},
   "outputs": [
    {
     "name": "stdout",
     "output_type": "stream",
     "text": [
      "Fitting 4 folds for each of 10 candidates, totalling 40 fits\n",
      "[CV] n_estimators=10, min_samples_split=0.5, min_samples_leaf=0.1, max_leaf_nodes=100, max_features=0.5, max_depth=20 \n",
      "[CV]  n_estimators=10, min_samples_split=0.5, min_samples_leaf=0.1, max_leaf_nodes=100, max_features=0.5, max_depth=20, total=   1.3s\n",
      "[CV] n_estimators=10, min_samples_split=0.5, min_samples_leaf=0.1, max_leaf_nodes=100, max_features=0.5, max_depth=20 \n"
     ]
    },
    {
     "name": "stderr",
     "output_type": "stream",
     "text": [
      "[Parallel(n_jobs=1)]: Done   1 out of   1 | elapsed:    1.4s remaining:    0.0s\n"
     ]
    },
    {
     "name": "stdout",
     "output_type": "stream",
     "text": [
      "[CV]  n_estimators=10, min_samples_split=0.5, min_samples_leaf=0.1, max_leaf_nodes=100, max_features=0.5, max_depth=20, total=   1.5s\n",
      "[CV] n_estimators=10, min_samples_split=0.5, min_samples_leaf=0.1, max_leaf_nodes=100, max_features=0.5, max_depth=20 \n",
      "[CV]  n_estimators=10, min_samples_split=0.5, min_samples_leaf=0.1, max_leaf_nodes=100, max_features=0.5, max_depth=20, total=   1.3s\n",
      "[CV] n_estimators=10, min_samples_split=0.5, min_samples_leaf=0.1, max_leaf_nodes=100, max_features=0.5, max_depth=20 \n",
      "[CV]  n_estimators=10, min_samples_split=0.5, min_samples_leaf=0.1, max_leaf_nodes=100, max_features=0.5, max_depth=20, total=   1.6s\n",
      "[CV] n_estimators=10, min_samples_split=0.5, min_samples_leaf=0.1, max_leaf_nodes=2, max_features=0.5, max_depth=10 \n",
      "[CV]  n_estimators=10, min_samples_split=0.5, min_samples_leaf=0.1, max_leaf_nodes=2, max_features=0.5, max_depth=10, total=   1.7s\n",
      "[CV] n_estimators=10, min_samples_split=0.5, min_samples_leaf=0.1, max_leaf_nodes=2, max_features=0.5, max_depth=10 \n",
      "[CV]  n_estimators=10, min_samples_split=0.5, min_samples_leaf=0.1, max_leaf_nodes=2, max_features=0.5, max_depth=10, total=   1.9s\n",
      "[CV] n_estimators=10, min_samples_split=0.5, min_samples_leaf=0.1, max_leaf_nodes=2, max_features=0.5, max_depth=10 \n",
      "[CV]  n_estimators=10, min_samples_split=0.5, min_samples_leaf=0.1, max_leaf_nodes=2, max_features=0.5, max_depth=10, total=   1.5s\n",
      "[CV] n_estimators=10, min_samples_split=0.5, min_samples_leaf=0.1, max_leaf_nodes=2, max_features=0.5, max_depth=10 \n",
      "[CV]  n_estimators=10, min_samples_split=0.5, min_samples_leaf=0.1, max_leaf_nodes=2, max_features=0.5, max_depth=10, total=   1.7s\n",
      "[CV] n_estimators=10, min_samples_split=0.5, min_samples_leaf=0.5, max_leaf_nodes=2, max_features=0.5, max_depth=2 \n",
      "[CV]  n_estimators=10, min_samples_split=0.5, min_samples_leaf=0.5, max_leaf_nodes=2, max_features=0.5, max_depth=2, total=   0.2s\n",
      "[CV] n_estimators=10, min_samples_split=0.5, min_samples_leaf=0.5, max_leaf_nodes=2, max_features=0.5, max_depth=2 \n",
      "[CV]  n_estimators=10, min_samples_split=0.5, min_samples_leaf=0.5, max_leaf_nodes=2, max_features=0.5, max_depth=2, total=   0.2s\n",
      "[CV] n_estimators=10, min_samples_split=0.5, min_samples_leaf=0.5, max_leaf_nodes=2, max_features=0.5, max_depth=2 \n",
      "[CV]  n_estimators=10, min_samples_split=0.5, min_samples_leaf=0.5, max_leaf_nodes=2, max_features=0.5, max_depth=2, total=   0.2s\n",
      "[CV] n_estimators=10, min_samples_split=0.5, min_samples_leaf=0.5, max_leaf_nodes=2, max_features=0.5, max_depth=2 \n",
      "[CV]  n_estimators=10, min_samples_split=0.5, min_samples_leaf=0.5, max_leaf_nodes=2, max_features=0.5, max_depth=2, total=   0.2s\n",
      "[CV] n_estimators=10, min_samples_split=0.5, min_samples_leaf=0.5, max_leaf_nodes=10, max_features=0.5, max_depth=2 \n",
      "[CV]  n_estimators=10, min_samples_split=0.5, min_samples_leaf=0.5, max_leaf_nodes=10, max_features=0.5, max_depth=2, total=   0.2s\n",
      "[CV] n_estimators=10, min_samples_split=0.5, min_samples_leaf=0.5, max_leaf_nodes=10, max_features=0.5, max_depth=2 \n",
      "[CV]  n_estimators=10, min_samples_split=0.5, min_samples_leaf=0.5, max_leaf_nodes=10, max_features=0.5, max_depth=2, total=   0.1s\n",
      "[CV] n_estimators=10, min_samples_split=0.5, min_samples_leaf=0.5, max_leaf_nodes=10, max_features=0.5, max_depth=2 \n",
      "[CV]  n_estimators=10, min_samples_split=0.5, min_samples_leaf=0.5, max_leaf_nodes=10, max_features=0.5, max_depth=2, total=   0.1s\n",
      "[CV] n_estimators=10, min_samples_split=0.5, min_samples_leaf=0.5, max_leaf_nodes=10, max_features=0.5, max_depth=2 \n",
      "[CV]  n_estimators=10, min_samples_split=0.5, min_samples_leaf=0.5, max_leaf_nodes=10, max_features=0.5, max_depth=2, total=   0.1s\n",
      "[CV] n_estimators=200, min_samples_split=0.1, min_samples_leaf=0.1, max_leaf_nodes=2, max_features=0.5, max_depth=2 \n",
      "[CV]  n_estimators=200, min_samples_split=0.1, min_samples_leaf=0.1, max_leaf_nodes=2, max_features=0.5, max_depth=2, total=  25.1s\n",
      "[CV] n_estimators=200, min_samples_split=0.1, min_samples_leaf=0.1, max_leaf_nodes=2, max_features=0.5, max_depth=2 \n",
      "[CV]  n_estimators=200, min_samples_split=0.1, min_samples_leaf=0.1, max_leaf_nodes=2, max_features=0.5, max_depth=2, total=  27.3s\n",
      "[CV] n_estimators=200, min_samples_split=0.1, min_samples_leaf=0.1, max_leaf_nodes=2, max_features=0.5, max_depth=2 \n",
      "[CV]  n_estimators=200, min_samples_split=0.1, min_samples_leaf=0.1, max_leaf_nodes=2, max_features=0.5, max_depth=2, total=  29.6s\n",
      "[CV] n_estimators=200, min_samples_split=0.1, min_samples_leaf=0.1, max_leaf_nodes=2, max_features=0.5, max_depth=2 \n",
      "[CV]  n_estimators=200, min_samples_split=0.1, min_samples_leaf=0.1, max_leaf_nodes=2, max_features=0.5, max_depth=2, total=  30.1s\n",
      "[CV] n_estimators=200, min_samples_split=0.1, min_samples_leaf=0.1, max_leaf_nodes=10, max_features=0.5, max_depth=10 \n",
      "[CV]  n_estimators=200, min_samples_split=0.1, min_samples_leaf=0.1, max_leaf_nodes=10, max_features=0.5, max_depth=10, total=  47.8s\n",
      "[CV] n_estimators=200, min_samples_split=0.1, min_samples_leaf=0.1, max_leaf_nodes=10, max_features=0.5, max_depth=10 \n",
      "[CV]  n_estimators=200, min_samples_split=0.1, min_samples_leaf=0.1, max_leaf_nodes=10, max_features=0.5, max_depth=10, total=  46.3s\n",
      "[CV] n_estimators=200, min_samples_split=0.1, min_samples_leaf=0.1, max_leaf_nodes=10, max_features=0.5, max_depth=10 \n",
      "[CV]  n_estimators=200, min_samples_split=0.1, min_samples_leaf=0.1, max_leaf_nodes=10, max_features=0.5, max_depth=10, total=  48.3s\n",
      "[CV] n_estimators=200, min_samples_split=0.1, min_samples_leaf=0.1, max_leaf_nodes=10, max_features=0.5, max_depth=10 \n",
      "[CV]  n_estimators=200, min_samples_split=0.1, min_samples_leaf=0.1, max_leaf_nodes=10, max_features=0.5, max_depth=10, total=  48.8s\n",
      "[CV] n_estimators=10, min_samples_split=0.1, min_samples_leaf=0.1, max_leaf_nodes=100, max_features=0.5, max_depth=20 \n",
      "[CV]  n_estimators=10, min_samples_split=0.1, min_samples_leaf=0.1, max_leaf_nodes=100, max_features=0.5, max_depth=20, total=   2.7s\n",
      "[CV] n_estimators=10, min_samples_split=0.1, min_samples_leaf=0.1, max_leaf_nodes=100, max_features=0.5, max_depth=20 \n",
      "[CV]  n_estimators=10, min_samples_split=0.1, min_samples_leaf=0.1, max_leaf_nodes=100, max_features=0.5, max_depth=20, total=   2.8s\n",
      "[CV] n_estimators=10, min_samples_split=0.1, min_samples_leaf=0.1, max_leaf_nodes=100, max_features=0.5, max_depth=20 \n",
      "[CV]  n_estimators=10, min_samples_split=0.1, min_samples_leaf=0.1, max_leaf_nodes=100, max_features=0.5, max_depth=20, total=   2.8s\n",
      "[CV] n_estimators=10, min_samples_split=0.1, min_samples_leaf=0.1, max_leaf_nodes=100, max_features=0.5, max_depth=20 \n",
      "[CV]  n_estimators=10, min_samples_split=0.1, min_samples_leaf=0.1, max_leaf_nodes=100, max_features=0.5, max_depth=20, total=   2.7s\n",
      "[CV] n_estimators=200, min_samples_split=0.5, min_samples_leaf=0.5, max_leaf_nodes=2, max_features=0.5, max_depth=2 \n",
      "[CV]  n_estimators=200, min_samples_split=0.5, min_samples_leaf=0.5, max_leaf_nodes=2, max_features=0.5, max_depth=2, total=   1.3s\n",
      "[CV] n_estimators=200, min_samples_split=0.5, min_samples_leaf=0.5, max_leaf_nodes=2, max_features=0.5, max_depth=2 \n",
      "[CV]  n_estimators=200, min_samples_split=0.5, min_samples_leaf=0.5, max_leaf_nodes=2, max_features=0.5, max_depth=2, total=   1.5s\n",
      "[CV] n_estimators=200, min_samples_split=0.5, min_samples_leaf=0.5, max_leaf_nodes=2, max_features=0.5, max_depth=2 \n",
      "[CV]  n_estimators=200, min_samples_split=0.5, min_samples_leaf=0.5, max_leaf_nodes=2, max_features=0.5, max_depth=2, total=   1.4s\n",
      "[CV] n_estimators=200, min_samples_split=0.5, min_samples_leaf=0.5, max_leaf_nodes=2, max_features=0.5, max_depth=2 \n",
      "[CV]  n_estimators=200, min_samples_split=0.5, min_samples_leaf=0.5, max_leaf_nodes=2, max_features=0.5, max_depth=2, total=   1.0s\n",
      "[CV] n_estimators=10, min_samples_split=0.1, min_samples_leaf=0.5, max_leaf_nodes=2, max_features=0.5, max_depth=20 \n",
      "[CV]  n_estimators=10, min_samples_split=0.1, min_samples_leaf=0.5, max_leaf_nodes=2, max_features=0.5, max_depth=20, total=   0.1s\n",
      "[CV] n_estimators=10, min_samples_split=0.1, min_samples_leaf=0.5, max_leaf_nodes=2, max_features=0.5, max_depth=20 \n",
      "[CV]  n_estimators=10, min_samples_split=0.1, min_samples_leaf=0.5, max_leaf_nodes=2, max_features=0.5, max_depth=20, total=   0.2s\n",
      "[CV] n_estimators=10, min_samples_split=0.1, min_samples_leaf=0.5, max_leaf_nodes=2, max_features=0.5, max_depth=20 \n",
      "[CV]  n_estimators=10, min_samples_split=0.1, min_samples_leaf=0.5, max_leaf_nodes=2, max_features=0.5, max_depth=20, total=   0.1s\n",
      "[CV] n_estimators=10, min_samples_split=0.1, min_samples_leaf=0.5, max_leaf_nodes=2, max_features=0.5, max_depth=20 \n"
     ]
    },
    {
     "name": "stdout",
     "output_type": "stream",
     "text": [
      "[CV]  n_estimators=10, min_samples_split=0.1, min_samples_leaf=0.5, max_leaf_nodes=2, max_features=0.5, max_depth=20, total=   0.2s\n",
      "[CV] n_estimators=10, min_samples_split=0.5, min_samples_leaf=0.1, max_leaf_nodes=2, max_features=0.5, max_depth=20 \n",
      "[CV]  n_estimators=10, min_samples_split=0.5, min_samples_leaf=0.1, max_leaf_nodes=2, max_features=0.5, max_depth=20, total=   1.8s\n",
      "[CV] n_estimators=10, min_samples_split=0.5, min_samples_leaf=0.1, max_leaf_nodes=2, max_features=0.5, max_depth=20 \n",
      "[CV]  n_estimators=10, min_samples_split=0.5, min_samples_leaf=0.1, max_leaf_nodes=2, max_features=0.5, max_depth=20, total=   1.8s\n",
      "[CV] n_estimators=10, min_samples_split=0.5, min_samples_leaf=0.1, max_leaf_nodes=2, max_features=0.5, max_depth=20 \n",
      "[CV]  n_estimators=10, min_samples_split=0.5, min_samples_leaf=0.1, max_leaf_nodes=2, max_features=0.5, max_depth=20, total=   1.8s\n",
      "[CV] n_estimators=10, min_samples_split=0.5, min_samples_leaf=0.1, max_leaf_nodes=2, max_features=0.5, max_depth=20 \n",
      "[CV]  n_estimators=10, min_samples_split=0.5, min_samples_leaf=0.1, max_leaf_nodes=2, max_features=0.5, max_depth=20, total=   1.8s\n"
     ]
    },
    {
     "name": "stderr",
     "output_type": "stream",
     "text": [
      "[Parallel(n_jobs=1)]: Done  40 out of  40 | elapsed:  5.9min finished\n"
     ]
    },
    {
     "name": "stdout",
     "output_type": "stream",
     "text": [
      "{'n_estimators': 200, 'min_samples_split': 0.1, 'min_samples_leaf': 0.1, 'max_leaf_nodes': 10, 'max_features': 0.5, 'max_depth': 10}\n",
      "RandomForestRegressor(bootstrap=True, criterion='mse', max_depth=10,\n",
      "           max_features=0.5, max_leaf_nodes=10, min_impurity_decrease=0.0,\n",
      "           min_impurity_split=None, min_samples_leaf=0.1,\n",
      "           min_samples_split=0.1, min_weight_fraction_leaf=0.0,\n",
      "           n_estimators=200, n_jobs=1, oob_score=False, random_state=42,\n",
      "           verbose=0, warm_start=False)\n"
     ]
    }
   ],
   "source": [
    "# 4th Data Train\n",
    "\n",
    "grid_search_data_4 = grid_search_forest.fit(train_data_4_features, train_data_4_label)\n",
    "\n",
    "forest_best_params_4 = grid_search_data_4.best_params_\n",
    "\n",
    "forest_best_estimators_4 = grid_search_data_4.best_estimator_\n",
    "\n",
    "print(forest_best_params_4)\n",
    "\n",
    "print(forest_best_estimators_4)"
   ]
  },
  {
   "cell_type": "code",
   "execution_count": 301,
   "metadata": {},
   "outputs": [
    {
     "name": "stdout",
     "output_type": "stream",
     "text": [
      "Prediction time for Train_set_4 took 1.0s.\n"
     ]
    }
   ],
   "source": [
    "final_model_rand_forest_reg_4 = forest_best_estimators_4\n",
    "\n",
    "t0_train_set_4 = time.time()\n",
    "y_pred_rand_forest_reg_4 = final_model_rand_forest_reg_4.predict(train_data_4_features)\n",
    "t1_train_set_4 = time.time()\n",
    "\n",
    "print(\"Prediction time for Train_set_4 took {:.1f}s.\".format(t1_train_set_4 - t0_train_set_4))"
   ]
  },
  {
   "cell_type": "code",
   "execution_count": 278,
   "metadata": {},
   "outputs": [
    {
     "data": {
      "text/plain": [
       "0"
      ]
     },
     "execution_count": 278,
     "metadata": {},
     "output_type": "execute_result"
    }
   ],
   "source": [
    "# Hits @ 10. 4.\n",
    "\n",
    "indexes_train_4 = np.array([i for i in range(len(train_data_4_label))])\n",
    "\n",
    "top_10_indexes_pred_train_y_4 = pd.DataFrame(data = {'indexes_train_4' : indexes_train_4, 'y_pred_rand_forest_reg_4' : y_pred_rand_forest_reg_4}).sort_values(by=['y_pred_rand_forest_reg_4'])['indexes_train_4'][0:10,]\n",
    "\n",
    "top_10_indexes_actual_train_y_4 = pd.DataFrame(data = {'indexes_train_4' : indexes_train_4, 'train_data_4_label' : train_data_4_label}).sort_values(by=['train_data_4_label'])['indexes_train_4'][0:10,]\n",
    "    \n",
    "\n",
    "hits_4 = np.intersect1d(top_10_indexes_pred_train_y_4, top_10_indexes_actual_train_y_4).shape[0]\n",
    "hits_4"
   ]
  },
  {
   "cell_type": "code",
   "execution_count": 279,
   "metadata": {},
   "outputs": [
    {
     "data": {
      "text/plain": [
       "0.8537244487666211"
      ]
     },
     "execution_count": 279,
     "metadata": {},
     "output_type": "execute_result"
    }
   ],
   "source": [
    "# AUC_4\n",
    "\n",
    "top_10_pred_4 = np.sort(y_pred_rand_forest_reg_4)[-10:].astype(int)\n",
    "top_10_actual_4 = np.sort(train_data_4_label)[-10:].astype(int)\n",
    "\n",
    "pred_4_binary = (y_pred_rand_forest_reg_4 >= top_10_pred_4[0])\n",
    "pred_4_binary = pred_4_binary * 1\n",
    "\n",
    "acutal_4_binary = (train_data_4_label >= top_10_actual_4[0])\n",
    "acutal_4_binary = acutal_4_binary  * 1\n",
    "\n",
    "roc_auc_score(acutal_4_binary, pred_4_binary)"
   ]
  },
  {
   "cell_type": "code",
   "execution_count": 280,
   "metadata": {},
   "outputs": [
    {
     "data": {
      "text/plain": [
       "0.22736883955871426"
      ]
     },
     "execution_count": 280,
     "metadata": {},
     "output_type": "execute_result"
    }
   ],
   "source": [
    "# MAE_4\n",
    "\n",
    "mae_4 = mean_absolute_error(train_data_4_label, y_pred_rand_forest_reg_4)\n",
    "mae_4"
   ]
  },
  {
   "cell_type": "code",
   "execution_count": 307,
   "metadata": {},
   "outputs": [
    {
     "name": "stdout",
     "output_type": "stream",
     "text": [
      "The mean time to predict 10 test_data_4 datasets is 0.0s.\n"
     ]
    },
    {
     "data": {
      "text/plain": [
       "3.0"
      ]
     },
     "execution_count": 307,
     "metadata": {},
     "output_type": "execute_result"
    }
   ],
   "source": [
    "# HITS_TEST_4_DATASET\n",
    "\n",
    "predicted_test_y_4 = []\n",
    "eval_time_test_4 = []\n",
    "\n",
    "for i in range(len(test_data_4_features)):\n",
    "    t0_test_4 = time.time()\n",
    "    predicted_y_test_set_4 = final_model_rand_forest_reg_4.predict(test_data_4_features[i])\n",
    "    t1_test_4 = time.time()\n",
    "    predicted_test_y_4.append(predicted_y_test_set_4)\n",
    "    eval_time_test_4.append(t1_test_4 - t0_test_4)\n",
    "\n",
    "eval_time_test_4 = np.array(eval_time_test_4)\n",
    "eval_time_test_4_mean = np.mean(eval_time_test_4)\n",
    "\n",
    "print(\"The mean time to predict 10 test_data_4 datasets is {:.1f}s.\".format(eval_time_test_4_mean))\n",
    "\n",
    "#for i in range(len(test_data_4_features)):\n",
    "#    predicted_test_y_4.append(final_model_rand_forest_reg_4.predict(test_data_4_features[i])) \n",
    "# The above is a list of 10 instances of y_pred_val for a test set\n",
    "\n",
    "top_10_indexes_pred_test_y_4 = [pd.DataFrame(data = {'indexes' : indexes, 'pred_test_y_4' : predicted_test_y_4[i]}).sort_values(by=['pred_test_y_4'])['indexes'][0:10,] for i in range(10)]\n",
    "\n",
    "top_10_indexes_actual_test_y_4 = [pd.DataFrame(data = {'indexes' : indexes, 'actual_test_y_4' : test_data_4_label[i]}).sort_values(by=['actual_test_y_4'])['indexes'][0:10,] for i in range(10)]\n",
    "\n",
    "# Determine the intersection of top 10 indexes for every test set and find the mean of those intersections.\n",
    "\n",
    "hits_test_set_4 = [np.intersect1d(top_10_indexes_pred_test_y_4[i], top_10_indexes_actual_test_y_4[i]).shape[0] for i in range(10)]\n",
    "hits_test_set_4_mean = np.mean(np.array(hits_test_set_4))\n",
    "hits_test_set_4_mean"
   ]
  },
  {
   "cell_type": "code",
   "execution_count": 282,
   "metadata": {},
   "outputs": [
    {
     "data": {
      "text/plain": [
       "0.6260736838194785"
      ]
     },
     "execution_count": 282,
     "metadata": {},
     "output_type": "execute_result"
    }
   ],
   "source": [
    "# AUC_TEST_4_DATASET\n",
    "\n",
    "top_10_test_pred_4 = [np.sort(predicted_test_y_4[i])[-10:].astype(int) for i in range(len(predicted_test_y_4))]\n",
    "top_10_test_actual_4 = [np.sort(test_data_4_label[i])[-10:].astype(int) for i in range(len(test_data_4_label))]\n",
    "\n",
    "predicted_test_y_4_binary = [(predicted_test_y_4[i] >= top_10_test_pred_4[i][0]) for i in range(10)]\n",
    "#pred_1_binary = pred_1_binary * 1\n",
    "\n",
    "test_data_4_label_binary = [(test_data_4_label[i] >= top_10_test_actual_4[i][0]) for i in range(10)]\n",
    "#acutal_1_binary = acutal_1_binary  * 1\n",
    "\n",
    "roc_auc_score_test_set_4 = [roc_auc_score(predicted_test_y_4_binary[i], test_data_4_label_binary[i]) for i in range(10)]\n",
    "roc_auc_score_test_set_4_mean = np.mean(np.array(roc_auc_score_test_set_4))\n",
    "roc_auc_score_test_set_4_mean"
   ]
  },
  {
   "cell_type": "code",
   "execution_count": 283,
   "metadata": {},
   "outputs": [
    {
     "data": {
      "text/plain": [
       "0.7876080799502688"
      ]
     },
     "execution_count": 283,
     "metadata": {},
     "output_type": "execute_result"
    }
   ],
   "source": [
    "# MAE_TEST_4_DATASET\n",
    "\n",
    "mae_test_set_4 = [mean_absolute_error(test_data_4_label[i], predicted_test_y_4[i]) for i in range(10)]\n",
    "mae_test_set_4_mean = np.mean(np.array(mae_test_set_4))\n",
    "mae_test_set_4_mean"
   ]
  },
  {
   "cell_type": "code",
   "execution_count": 284,
   "metadata": {},
   "outputs": [
    {
     "name": "stdout",
     "output_type": "stream",
     "text": [
      "Fitting 4 folds for each of 10 candidates, totalling 40 fits\n",
      "[CV] n_estimators=10, min_samples_split=0.1, min_samples_leaf=0.1, max_leaf_nodes=10, max_features=0.5, max_depth=2 \n",
      "[CV]  n_estimators=10, min_samples_split=0.1, min_samples_leaf=0.1, max_leaf_nodes=10, max_features=0.5, max_depth=2, total=   2.3s\n",
      "[CV] n_estimators=10, min_samples_split=0.1, min_samples_leaf=0.1, max_leaf_nodes=10, max_features=0.5, max_depth=2 \n"
     ]
    },
    {
     "name": "stderr",
     "output_type": "stream",
     "text": [
      "[Parallel(n_jobs=1)]: Done   1 out of   1 | elapsed:    2.4s remaining:    0.0s\n"
     ]
    },
    {
     "name": "stdout",
     "output_type": "stream",
     "text": [
      "[CV]  n_estimators=10, min_samples_split=0.1, min_samples_leaf=0.1, max_leaf_nodes=10, max_features=0.5, max_depth=2, total=   2.4s\n",
      "[CV] n_estimators=10, min_samples_split=0.1, min_samples_leaf=0.1, max_leaf_nodes=10, max_features=0.5, max_depth=2 \n",
      "[CV]  n_estimators=10, min_samples_split=0.1, min_samples_leaf=0.1, max_leaf_nodes=10, max_features=0.5, max_depth=2, total=   2.5s\n",
      "[CV] n_estimators=10, min_samples_split=0.1, min_samples_leaf=0.1, max_leaf_nodes=10, max_features=0.5, max_depth=2 \n",
      "[CV]  n_estimators=10, min_samples_split=0.1, min_samples_leaf=0.1, max_leaf_nodes=10, max_features=0.5, max_depth=2, total=   2.4s\n",
      "[CV] n_estimators=500, min_samples_split=0.1, min_samples_leaf=0.1, max_leaf_nodes=10, max_features=0.1, max_depth=20 \n",
      "[CV]  n_estimators=500, min_samples_split=0.1, min_samples_leaf=0.1, max_leaf_nodes=10, max_features=0.1, max_depth=20, total=  35.9s\n",
      "[CV] n_estimators=500, min_samples_split=0.1, min_samples_leaf=0.1, max_leaf_nodes=10, max_features=0.1, max_depth=20 \n",
      "[CV]  n_estimators=500, min_samples_split=0.1, min_samples_leaf=0.1, max_leaf_nodes=10, max_features=0.1, max_depth=20, total=  38.0s\n",
      "[CV] n_estimators=500, min_samples_split=0.1, min_samples_leaf=0.1, max_leaf_nodes=10, max_features=0.1, max_depth=20 \n",
      "[CV]  n_estimators=500, min_samples_split=0.1, min_samples_leaf=0.1, max_leaf_nodes=10, max_features=0.1, max_depth=20, total=  37.1s\n",
      "[CV] n_estimators=500, min_samples_split=0.1, min_samples_leaf=0.1, max_leaf_nodes=10, max_features=0.1, max_depth=20 \n",
      "[CV]  n_estimators=500, min_samples_split=0.1, min_samples_leaf=0.1, max_leaf_nodes=10, max_features=0.1, max_depth=20, total=  35.6s\n",
      "[CV] n_estimators=500, min_samples_split=0.1, min_samples_leaf=0.5, max_leaf_nodes=100, max_features=0.5, max_depth=2 \n",
      "[CV]  n_estimators=500, min_samples_split=0.1, min_samples_leaf=0.5, max_leaf_nodes=100, max_features=0.5, max_depth=2, total=   3.4s\n",
      "[CV] n_estimators=500, min_samples_split=0.1, min_samples_leaf=0.5, max_leaf_nodes=100, max_features=0.5, max_depth=2 \n",
      "[CV]  n_estimators=500, min_samples_split=0.1, min_samples_leaf=0.5, max_leaf_nodes=100, max_features=0.5, max_depth=2, total=   3.5s\n",
      "[CV] n_estimators=500, min_samples_split=0.1, min_samples_leaf=0.5, max_leaf_nodes=100, max_features=0.5, max_depth=2 \n",
      "[CV]  n_estimators=500, min_samples_split=0.1, min_samples_leaf=0.5, max_leaf_nodes=100, max_features=0.5, max_depth=2, total=   3.7s\n",
      "[CV] n_estimators=500, min_samples_split=0.1, min_samples_leaf=0.5, max_leaf_nodes=100, max_features=0.5, max_depth=2 \n",
      "[CV]  n_estimators=500, min_samples_split=0.1, min_samples_leaf=0.5, max_leaf_nodes=100, max_features=0.5, max_depth=2, total=   3.4s\n",
      "[CV] n_estimators=200, min_samples_split=0.1, min_samples_leaf=0.1, max_leaf_nodes=2, max_features=0.1, max_depth=2 \n",
      "[CV]  n_estimators=200, min_samples_split=0.1, min_samples_leaf=0.1, max_leaf_nodes=2, max_features=0.1, max_depth=2, total=   8.2s\n",
      "[CV] n_estimators=200, min_samples_split=0.1, min_samples_leaf=0.1, max_leaf_nodes=2, max_features=0.1, max_depth=2 \n",
      "[CV]  n_estimators=200, min_samples_split=0.1, min_samples_leaf=0.1, max_leaf_nodes=2, max_features=0.1, max_depth=2, total=   8.5s\n",
      "[CV] n_estimators=200, min_samples_split=0.1, min_samples_leaf=0.1, max_leaf_nodes=2, max_features=0.1, max_depth=2 \n",
      "[CV]  n_estimators=200, min_samples_split=0.1, min_samples_leaf=0.1, max_leaf_nodes=2, max_features=0.1, max_depth=2, total=  10.1s\n",
      "[CV] n_estimators=200, min_samples_split=0.1, min_samples_leaf=0.1, max_leaf_nodes=2, max_features=0.1, max_depth=2 \n",
      "[CV]  n_estimators=200, min_samples_split=0.1, min_samples_leaf=0.1, max_leaf_nodes=2, max_features=0.1, max_depth=2, total=   8.6s\n",
      "[CV] n_estimators=500, min_samples_split=0.5, min_samples_leaf=0.1, max_leaf_nodes=10, max_features=0.1, max_depth=2 \n",
      "[CV]  n_estimators=500, min_samples_split=0.5, min_samples_leaf=0.1, max_leaf_nodes=10, max_features=0.1, max_depth=2, total=  20.4s\n",
      "[CV] n_estimators=500, min_samples_split=0.5, min_samples_leaf=0.1, max_leaf_nodes=10, max_features=0.1, max_depth=2 \n",
      "[CV]  n_estimators=500, min_samples_split=0.5, min_samples_leaf=0.1, max_leaf_nodes=10, max_features=0.1, max_depth=2, total=  20.2s\n",
      "[CV] n_estimators=500, min_samples_split=0.5, min_samples_leaf=0.1, max_leaf_nodes=10, max_features=0.1, max_depth=2 \n",
      "[CV]  n_estimators=500, min_samples_split=0.5, min_samples_leaf=0.1, max_leaf_nodes=10, max_features=0.1, max_depth=2, total=  21.1s\n",
      "[CV] n_estimators=500, min_samples_split=0.5, min_samples_leaf=0.1, max_leaf_nodes=10, max_features=0.1, max_depth=2 \n",
      "[CV]  n_estimators=500, min_samples_split=0.5, min_samples_leaf=0.1, max_leaf_nodes=10, max_features=0.1, max_depth=2, total=  20.8s\n",
      "[CV] n_estimators=10, min_samples_split=0.5, min_samples_leaf=0.1, max_leaf_nodes=10, max_features=0.5, max_depth=20 \n",
      "[CV]  n_estimators=10, min_samples_split=0.5, min_samples_leaf=0.1, max_leaf_nodes=10, max_features=0.5, max_depth=20, total=   1.8s\n",
      "[CV] n_estimators=10, min_samples_split=0.5, min_samples_leaf=0.1, max_leaf_nodes=10, max_features=0.5, max_depth=20 \n",
      "[CV]  n_estimators=10, min_samples_split=0.5, min_samples_leaf=0.1, max_leaf_nodes=10, max_features=0.5, max_depth=20, total=   1.8s\n",
      "[CV] n_estimators=10, min_samples_split=0.5, min_samples_leaf=0.1, max_leaf_nodes=10, max_features=0.5, max_depth=20 \n",
      "[CV]  n_estimators=10, min_samples_split=0.5, min_samples_leaf=0.1, max_leaf_nodes=10, max_features=0.5, max_depth=20, total=   1.8s\n",
      "[CV] n_estimators=10, min_samples_split=0.5, min_samples_leaf=0.1, max_leaf_nodes=10, max_features=0.5, max_depth=20 \n",
      "[CV]  n_estimators=10, min_samples_split=0.5, min_samples_leaf=0.1, max_leaf_nodes=10, max_features=0.5, max_depth=20, total=   1.8s\n",
      "[CV] n_estimators=500, min_samples_split=0.5, min_samples_leaf=0.5, max_leaf_nodes=10, max_features=0.1, max_depth=20 \n",
      "[CV]  n_estimators=500, min_samples_split=0.5, min_samples_leaf=0.5, max_leaf_nodes=10, max_features=0.1, max_depth=20, total=   3.5s\n",
      "[CV] n_estimators=500, min_samples_split=0.5, min_samples_leaf=0.5, max_leaf_nodes=10, max_features=0.1, max_depth=20 \n",
      "[CV]  n_estimators=500, min_samples_split=0.5, min_samples_leaf=0.5, max_leaf_nodes=10, max_features=0.1, max_depth=20, total=   3.6s\n",
      "[CV] n_estimators=500, min_samples_split=0.5, min_samples_leaf=0.5, max_leaf_nodes=10, max_features=0.1, max_depth=20 \n",
      "[CV]  n_estimators=500, min_samples_split=0.5, min_samples_leaf=0.5, max_leaf_nodes=10, max_features=0.1, max_depth=20, total=   3.5s\n",
      "[CV] n_estimators=500, min_samples_split=0.5, min_samples_leaf=0.5, max_leaf_nodes=10, max_features=0.1, max_depth=20 \n",
      "[CV]  n_estimators=500, min_samples_split=0.5, min_samples_leaf=0.5, max_leaf_nodes=10, max_features=0.1, max_depth=20, total=   3.3s\n",
      "[CV] n_estimators=10, min_samples_split=0.1, min_samples_leaf=0.5, max_leaf_nodes=10, max_features=0.5, max_depth=10 \n",
      "[CV]  n_estimators=10, min_samples_split=0.1, min_samples_leaf=0.5, max_leaf_nodes=10, max_features=0.5, max_depth=10, total=   0.2s\n",
      "[CV] n_estimators=10, min_samples_split=0.1, min_samples_leaf=0.5, max_leaf_nodes=10, max_features=0.5, max_depth=10 \n",
      "[CV]  n_estimators=10, min_samples_split=0.1, min_samples_leaf=0.5, max_leaf_nodes=10, max_features=0.5, max_depth=10, total=   0.2s\n",
      "[CV] n_estimators=10, min_samples_split=0.1, min_samples_leaf=0.5, max_leaf_nodes=10, max_features=0.5, max_depth=10 \n",
      "[CV]  n_estimators=10, min_samples_split=0.1, min_samples_leaf=0.5, max_leaf_nodes=10, max_features=0.5, max_depth=10, total=   0.2s\n",
      "[CV] n_estimators=10, min_samples_split=0.1, min_samples_leaf=0.5, max_leaf_nodes=10, max_features=0.5, max_depth=10 \n",
      "[CV]  n_estimators=10, min_samples_split=0.1, min_samples_leaf=0.5, max_leaf_nodes=10, max_features=0.5, max_depth=10, total=   0.2s\n",
      "[CV] n_estimators=200, min_samples_split=0.1, min_samples_leaf=0.1, max_leaf_nodes=2, max_features=0.5, max_depth=20 \n",
      "[CV]  n_estimators=200, min_samples_split=0.1, min_samples_leaf=0.1, max_leaf_nodes=2, max_features=0.5, max_depth=20, total=  32.9s\n",
      "[CV] n_estimators=200, min_samples_split=0.1, min_samples_leaf=0.1, max_leaf_nodes=2, max_features=0.5, max_depth=20 \n",
      "[CV]  n_estimators=200, min_samples_split=0.1, min_samples_leaf=0.1, max_leaf_nodes=2, max_features=0.5, max_depth=20, total=  32.8s\n",
      "[CV] n_estimators=200, min_samples_split=0.1, min_samples_leaf=0.1, max_leaf_nodes=2, max_features=0.5, max_depth=20 \n"
     ]
    },
    {
     "name": "stdout",
     "output_type": "stream",
     "text": [
      "[CV]  n_estimators=200, min_samples_split=0.1, min_samples_leaf=0.1, max_leaf_nodes=2, max_features=0.5, max_depth=20, total=  32.7s\n",
      "[CV] n_estimators=200, min_samples_split=0.1, min_samples_leaf=0.1, max_leaf_nodes=2, max_features=0.5, max_depth=20 \n",
      "[CV]  n_estimators=200, min_samples_split=0.1, min_samples_leaf=0.1, max_leaf_nodes=2, max_features=0.5, max_depth=20, total=  32.6s\n",
      "[CV] n_estimators=500, min_samples_split=0.1, min_samples_leaf=0.5, max_leaf_nodes=2, max_features=0.1, max_depth=20 \n",
      "[CV]  n_estimators=500, min_samples_split=0.1, min_samples_leaf=0.5, max_leaf_nodes=2, max_features=0.1, max_depth=20, total=   3.5s\n",
      "[CV] n_estimators=500, min_samples_split=0.1, min_samples_leaf=0.5, max_leaf_nodes=2, max_features=0.1, max_depth=20 \n",
      "[CV]  n_estimators=500, min_samples_split=0.1, min_samples_leaf=0.5, max_leaf_nodes=2, max_features=0.1, max_depth=20, total=   3.5s\n",
      "[CV] n_estimators=500, min_samples_split=0.1, min_samples_leaf=0.5, max_leaf_nodes=2, max_features=0.1, max_depth=20 \n",
      "[CV]  n_estimators=500, min_samples_split=0.1, min_samples_leaf=0.5, max_leaf_nodes=2, max_features=0.1, max_depth=20, total=   3.6s\n",
      "[CV] n_estimators=500, min_samples_split=0.1, min_samples_leaf=0.5, max_leaf_nodes=2, max_features=0.1, max_depth=20 \n",
      "[CV]  n_estimators=500, min_samples_split=0.1, min_samples_leaf=0.5, max_leaf_nodes=2, max_features=0.1, max_depth=20, total=   3.7s\n"
     ]
    },
    {
     "name": "stderr",
     "output_type": "stream",
     "text": [
      "[Parallel(n_jobs=1)]: Done  40 out of  40 | elapsed:  8.2min finished\n"
     ]
    },
    {
     "name": "stdout",
     "output_type": "stream",
     "text": [
      "{'n_estimators': 10, 'min_samples_split': 0.1, 'min_samples_leaf': 0.1, 'max_leaf_nodes': 10, 'max_features': 0.5, 'max_depth': 2}\n",
      "RandomForestRegressor(bootstrap=True, criterion='mse', max_depth=2,\n",
      "           max_features=0.5, max_leaf_nodes=10, min_impurity_decrease=0.0,\n",
      "           min_impurity_split=None, min_samples_leaf=0.1,\n",
      "           min_samples_split=0.1, min_weight_fraction_leaf=0.0,\n",
      "           n_estimators=10, n_jobs=1, oob_score=False, random_state=42,\n",
      "           verbose=0, warm_start=False)\n"
     ]
    }
   ],
   "source": [
    "# 5th Data Train\n",
    "\n",
    "grid_search_data_5 = grid_search_forest.fit(train_data_5_features, train_data_5_label)\n",
    "\n",
    "forest_best_params_5 = grid_search_data_5.best_params_\n",
    "\n",
    "forest_best_estimators_5 = grid_search_data_5.best_estimator_\n",
    "\n",
    "print(forest_best_params_5)\n",
    "\n",
    "print(forest_best_estimators_5)"
   ]
  },
  {
   "cell_type": "code",
   "execution_count": 302,
   "metadata": {},
   "outputs": [
    {
     "name": "stdout",
     "output_type": "stream",
     "text": [
      "Prediction time for Train_set_5 took 0.1s.\n"
     ]
    }
   ],
   "source": [
    "final_model_rand_forest_reg_5 = forest_best_estimators_5\n",
    "\n",
    "t0_train_set_5 = time.time()\n",
    "y_pred_rand_forest_reg_5 = final_model_rand_forest_reg_5.predict(train_data_5_features)\n",
    "t1_train_set_5 = time.time()\n",
    "\n",
    "print(\"Prediction time for Train_set_5 took {:.1f}s.\".format(t1_train_set_5 - t0_train_set_5))"
   ]
  },
  {
   "cell_type": "code",
   "execution_count": 289,
   "metadata": {},
   "outputs": [
    {
     "data": {
      "text/plain": [
       "1"
      ]
     },
     "execution_count": 289,
     "metadata": {},
     "output_type": "execute_result"
    }
   ],
   "source": [
    "# Hits @ 10. 5.\n",
    "\n",
    "\n",
    "indexes_train_5 = np.array([i for i in range(len(y_pred_rand_forest_reg_5))])\n",
    "\n",
    "top_10_indexes_pred_train_y_5 = pd.DataFrame(data = {'indexes_train_5' : indexes_train_5, 'y_pred_rand_forest_reg_5' : y_pred_rand_forest_reg_5}).sort_values(by=['y_pred_rand_forest_reg_5'])['indexes_train_5'][0:10,]\n",
    "\n",
    "top_10_indexes_actual_train_y_5 = pd.DataFrame(data = {'indexes_train_5' : indexes_train_5, 'train_data_5_label' : train_data_5_label}).sort_values(by=['train_data_5_label'])['indexes_train_5'][0:10,]\n",
    "    \n",
    "\n",
    "hits_5 = np.intersect1d(top_10_indexes_pred_train_y_5, top_10_indexes_actual_train_y_5).shape[0]\n",
    "hits_5"
   ]
  },
  {
   "cell_type": "code",
   "execution_count": 290,
   "metadata": {},
   "outputs": [
    {
     "data": {
      "text/plain": [
       "0.8537244487666211"
      ]
     },
     "execution_count": 290,
     "metadata": {},
     "output_type": "execute_result"
    }
   ],
   "source": [
    "# AUC_5\n",
    "\n",
    "top_10_pred_5 = np.sort(y_pred_rand_forest_reg_5)[-10:].astype(int)\n",
    "top_10_actual_5 = np.sort(train_data_5_label)[-10:].astype(int)\n",
    "\n",
    "pred_5_binary = (y_pred_rand_forest_reg_5 >= top_10_pred_5[0])\n",
    "pred_5_binary = pred_5_binary * 1\n",
    "\n",
    "acutal_5_binary = (train_data_5_label >= top_10_actual_5[0])\n",
    "acutal_5_binary = acutal_4_binary  * 1\n",
    "\n",
    "roc_auc_score(acutal_4_binary, pred_4_binary)"
   ]
  },
  {
   "cell_type": "code",
   "execution_count": 291,
   "metadata": {},
   "outputs": [
    {
     "data": {
      "text/plain": [
       "0.22674402600250154"
      ]
     },
     "execution_count": 291,
     "metadata": {},
     "output_type": "execute_result"
    }
   ],
   "source": [
    "# MAE_4\n",
    "\n",
    "mae_5 = mean_absolute_error(train_data_5_label, y_pred_rand_forest_reg_5)\n",
    "mae_5"
   ]
  },
  {
   "cell_type": "code",
   "execution_count": 303,
   "metadata": {},
   "outputs": [
    {
     "name": "stdout",
     "output_type": "stream",
     "text": [
      "The mean time to predict 10 test_data_5 datasets is 0.0s.\n"
     ]
    },
    {
     "data": {
      "text/plain": [
       "3.1"
      ]
     },
     "execution_count": 303,
     "metadata": {},
     "output_type": "execute_result"
    }
   ],
   "source": [
    "# HITS_TEST_5_DATASET\n",
    "\n",
    "predicted_test_y_5 = []\n",
    "eval_time_test_5 = []\n",
    "\n",
    "for i in range(len(test_data_5_features)):\n",
    "    t0_test_5 = time.time()\n",
    "    predicted_y_test_set_5 = final_model_rand_forest_reg_5.predict(test_data_5_features[i])\n",
    "    t1_test_5 = time.time()\n",
    "    predicted_test_y_5.append(predicted_y_test_set_5)\n",
    "    eval_time_test_5.append(t1_test_5 - t0_test_5)\n",
    "\n",
    "eval_time_test_5 = np.array(eval_time_test_5)\n",
    "eval_time_test_5_mean = np.mean(eval_time_test_5)\n",
    "\n",
    "print(\"The mean time to predict 10 test_data_5 datasets is {:.1f}s.\".format(eval_time_test_5_mean))\n",
    "\n",
    "# The above is a list of 10 instances of y_pred_val for a test set\n",
    "\n",
    "top_10_indexes_pred_test_y_5 = [pd.DataFrame(data = {'indexes' : indexes, 'pred_test_y_5' : predicted_test_y_5[i]}).sort_values(by=['pred_test_y_5'])['indexes'][0:10,] for i in range(10)]\n",
    "\n",
    "top_10_indexes_actual_test_y_5 = [pd.DataFrame(data = {'indexes' : indexes, 'actual_test_y_5' : test_data_5_label[i]}).sort_values(by=['actual_test_y_5'])['indexes'][0:10,] for i in range(10)]\n",
    "\n",
    "# Determine the intersection of top 10 indexes for every test set and find the mean of those intersections.\n",
    "\n",
    "hits_test_set_5 = [np.intersect1d(top_10_indexes_pred_test_y_5[i], top_10_indexes_actual_test_y_5[i]).shape[0] for i in range(10)]\n",
    "hits_test_set_5_mean = np.mean(np.array(hits_test_set_5))\n",
    "hits_test_set_5_mean"
   ]
  },
  {
   "cell_type": "code",
   "execution_count": 293,
   "metadata": {},
   "outputs": [
    {
     "data": {
      "text/plain": [
       "0.6279753869301776"
      ]
     },
     "execution_count": 293,
     "metadata": {},
     "output_type": "execute_result"
    }
   ],
   "source": [
    "# AUC_TEST_5_DATASET\n",
    "\n",
    "top_10_test_pred_5 = [np.sort(predicted_test_y_5[i])[-10:].astype(int) for i in range(len(predicted_test_y_5))]\n",
    "top_10_test_actual_5 = [np.sort(test_data_5_label[i])[-10:].astype(int) for i in range(len(test_data_5_label))]\n",
    "\n",
    "predicted_test_y_5_binary = [(predicted_test_y_5[i] >= top_10_test_pred_5[i][0]) for i in range(10)]\n",
    "#pred_1_binary = pred_1_binary * 1\n",
    "\n",
    "test_data_5_label_binary = [(test_data_5_label[i] >= top_10_test_actual_5[i][0]) for i in range(10)]\n",
    "#acutal_1_binary = acutal_1_binary  * 1\n",
    "\n",
    "roc_auc_score_test_set_5 = [roc_auc_score(predicted_test_y_5_binary[i], test_data_5_label_binary[i]) for i in range(10)]\n",
    "roc_auc_score_test_set_5_mean = np.mean(np.array(roc_auc_score_test_set_5))\n",
    "roc_auc_score_test_set_5_mean"
   ]
  },
  {
   "cell_type": "code",
   "execution_count": 329,
   "metadata": {},
   "outputs": [
    {
     "data": {
      "text/plain": [
       "0.7935919187509122"
      ]
     },
     "execution_count": 329,
     "metadata": {},
     "output_type": "execute_result"
    }
   ],
   "source": [
    "# MAE_TEST_5_DATASET\n",
    "\n",
    "mae_test_set_5 = [mean_absolute_error(test_data_5_label[i], predicted_test_y_5[i]) for i in range(10)]\n",
    "mae_test_set_5_mean = np.mean(np.array(mae_test_set_5))\n",
    "mae_test_set_5_mean"
   ]
  },
  {
   "cell_type": "code",
   "execution_count": 278,
   "metadata": {
    "collapsed": true
   },
   "outputs": [
    {
     "ename": "NameError",
     "evalue": "name 'hits_test_set_1_mean' is not defined",
     "output_type": "error",
     "traceback": [
      "\u001b[0;31m---------------------------------------------------------------------------\u001b[0m",
      "\u001b[0;31mNameError\u001b[0m                                 Traceback (most recent call last)",
      "\u001b[0;32m<ipython-input-278-2f023ff37685>\u001b[0m in \u001b[0;36m<module>\u001b[0;34m()\u001b[0m\n\u001b[0;32m----> 1\u001b[0;31m \u001b[0mlist_of_mean_test_hits\u001b[0m \u001b[0;34m=\u001b[0m \u001b[0;34m[\u001b[0m\u001b[0mhits_test_set_1_mean\u001b[0m\u001b[0;34m,\u001b[0m\u001b[0mhits_test_set_2_mean\u001b[0m\u001b[0;34m,\u001b[0m\u001b[0mhits_test_set_3_mean\u001b[0m\u001b[0;34m,\u001b[0m\u001b[0mhits_test_set_4_mean\u001b[0m\u001b[0;34m,\u001b[0m\u001b[0mhits_test_set_5_mean\u001b[0m\u001b[0;34m]\u001b[0m\u001b[0;34m\u001b[0m\u001b[0m\n\u001b[0m\u001b[1;32m      2\u001b[0m \u001b[0mlist_of_mean_test_auc\u001b[0m \u001b[0;34m=\u001b[0m \u001b[0;34m[\u001b[0m\u001b[0mroc_auc_score_test_set_1_mean\u001b[0m\u001b[0;34m,\u001b[0m\u001b[0mroc_auc_score_test_set_2_mean\u001b[0m\u001b[0;34m,\u001b[0m\u001b[0mroc_auc_score_test_set_3_mean\u001b[0m\u001b[0;34m,\u001b[0m\u001b[0mroc_auc_score_test_set_4_mean\u001b[0m\u001b[0;34m,\u001b[0m\u001b[0mroc_auc_score_test_set_5_mean\u001b[0m\u001b[0;34m]\u001b[0m\u001b[0;34m\u001b[0m\u001b[0m\n\u001b[1;32m      3\u001b[0m \u001b[0mlist_of_mean_test_mae\u001b[0m \u001b[0;34m=\u001b[0m \u001b[0;34m[\u001b[0m\u001b[0mmae_test_set_1_mean\u001b[0m\u001b[0;34m,\u001b[0m\u001b[0mmae_test_set_2_mean\u001b[0m\u001b[0;34m,\u001b[0m\u001b[0mmae_test_set_3_mean\u001b[0m\u001b[0;34m,\u001b[0m\u001b[0mmae_test_set_4_mean\u001b[0m\u001b[0;34m,\u001b[0m\u001b[0mmae_test_set_5_mean\u001b[0m\u001b[0;34m]\u001b[0m\u001b[0;34m\u001b[0m\u001b[0m\n\u001b[1;32m      4\u001b[0m \u001b[0mlist_of_mean_test_eval_time\u001b[0m \u001b[0;34m=\u001b[0m \u001b[0;34m[\u001b[0m\u001b[0meval_time_test_1_mean\u001b[0m\u001b[0;34m,\u001b[0m\u001b[0meval_time_test_2_mean\u001b[0m\u001b[0;34m,\u001b[0m\u001b[0meval_time_test_3_mean\u001b[0m\u001b[0;34m,\u001b[0m\u001b[0meval_time_test_4_mean\u001b[0m\u001b[0;34m,\u001b[0m\u001b[0meval_time_test_5_mean\u001b[0m\u001b[0;34m]\u001b[0m\u001b[0;34m\u001b[0m\u001b[0m\n",
      "\u001b[0;31mNameError\u001b[0m: name 'hits_test_set_1_mean' is not defined"
     ]
    }
   ],
   "source": [
    "list_of_mean_test_hits = [hits_test_set_1_mean,hits_test_set_2_mean,hits_test_set_3_mean,hits_test_set_4_mean,hits_test_set_5_mean]\n",
    "list_of_mean_test_auc = [roc_auc_score_test_set_1_mean,roc_auc_score_test_set_2_mean,roc_auc_score_test_set_3_mean,roc_auc_score_test_set_4_mean,roc_auc_score_test_set_5_mean]\n",
    "list_of_mean_test_mae = [mae_test_set_1_mean,mae_test_set_2_mean,mae_test_set_3_mean,mae_test_set_4_mean,mae_test_set_5_mean]\n",
    "list_of_mean_test_eval_time = [eval_time_test_1_mean,eval_time_test_2_mean,eval_time_test_3_mean,eval_time_test_4_mean,eval_time_test_5_mean]"
   ]
  },
  {
   "cell_type": "code",
   "execution_count": 338,
   "metadata": {},
   "outputs": [
    {
     "data": {
      "image/png": "[encoded data removed]",
      "text/plain": [
       "<matplotlib.figure.Figure at 0x7fc478e447f0>"
      ]
     },
     "metadata": {},
     "output_type": "display_data"
    }
   ],
   "source": [
    "plt.figure(figsize=(40, 10))\n",
    "\n",
    "\n",
    "plt.subplot(141)\n",
    "y_hits = list_of_mean_test_hits\n",
    "N = len(y)\n",
    "x_hits = ['hits_test_set_1_mean','hits_test_set_2_mean','hits_test_set_3_mean','hits_test_set_4_mean','hits_test_set_5_mean']\n",
    "plt.xticks(rotation = 'vertical')\n",
    "width = 1/1.5\n",
    "plt.bar(x_hits, y_hits, width, color=['black', 'red', 'green', 'blue', 'cyan'])\n",
    "plt.xlabel('Test Sets')\n",
    "plt.ylabel('Mean hit')\n",
    "plt.title('Bar Plot of Mean Hits for all 5 Test Sets Each Containing 10 Test Sets')\n",
    "\n",
    "\n",
    "plt.subplot(142)\n",
    "y_hits = list_of_mean_test_auc\n",
    "N = len(y)\n",
    "x_hits = ['roc_auc_score_test_set_1_mean','roc_auc_score_test_set_2_mean','roc_auc_score_test_set_3_mean','roc_auc_score_test_set_4_mean','roc_auc_score_test_set_5_mean']\n",
    "plt.xticks(rotation = 'vertical')\n",
    "width = 1/1.5\n",
    "plt.bar(x_hits, y_hits, width, color=['black', 'red', 'green', 'blue', 'cyan'])\n",
    "plt.xlabel('Test Sets')\n",
    "plt.ylabel('Mean AUC')\n",
    "plt.title('Bar Plot of Mean AUC for all 5 Test Sets Each Containing 10 Test Sets')\n",
    "\n",
    "\n",
    "plt.subplot(143)\n",
    "y_hits = list_of_mean_test_mae\n",
    "N = len(y)\n",
    "x_hits = ['mae_test_set_1_mean','mae_test_set_2_mean','mae_test_set_3_mean','mae_test_set_4_mean','mae_test_set_5_mean']\n",
    "plt.xticks(rotation = 'vertical')\n",
    "width = 1/1.5\n",
    "plt.bar(x_hits, y_hits, width, color=['black', 'red', 'green', 'blue', 'cyan'])\n",
    "plt.xlabel('Test Sets')\n",
    "plt.ylabel('Mean MAE')\n",
    "plt.title('Bar Plot of Mean MAE for all 5 Test Sets Each Containing 10 Test Sets')\n",
    "\n",
    "plt.subplot(144)\n",
    "y_hits = list_of_mean_test_eval_time\n",
    "N = len(y)\n",
    "x_hits = ['eval_time_test_1_mean','eval_time_test_2_mean','eval_time_test_3_mean','eval_time_test_4_mean','eval_time_test_5_mean']\n",
    "plt.xticks(rotation = 'vertical')\n",
    "width = 1/1.5\n",
    "plt.bar(x_hits, y_hits, width, color=['black', 'red', 'green', 'blue', 'cyan'])\n",
    "plt.xlabel('Test Sets')\n",
    "plt.ylabel('Mean Time')\n",
    "plt.title('Bar Plot of Mean Evaluation Time for all 5 Test Sets Each Containing 10 Test Sets')\n",
    "plt.show()"
   ]
  },
  {
   "cell_type": "markdown",
   "metadata": {},
   "source": [
    "# DNN\n",
    "\n",
    "- Initialization: He Initialization\n",
    "- Activation Function: SELU\n",
    "- Normalization: Batch Normalization\n",
    "- Regularization: Dropout\n",
    "- Optimizer: Adam\n",
    "- Learning Rate Schedule: None"
   ]
  },
  {
   "cell_type": "markdown",
   "metadata": {},
   "source": [
    "Step.1: Build a DNN with five hidden layers of 100 neurons each, He initialization, and the SELU activation function. SELU outperforms the other activation functions very significantly for deep neural networks"
   ]
  },
  {
   "cell_type": "markdown",
   "metadata": {},
   "source": [
    "Use Adam optimization without early stopping, try training it on train_data_1; we will train the remaining 4 later on. We make sure to save checkpoints at regular intervals and save the final model so we can reuse it later.\n",
    "\n",
    "Let's complete the graph with the cost function, the training op, and all the other usual components:"
   ]
  },
  {
   "cell_type": "code",
   "execution_count": 62,
   "metadata": {
    "collapsed": true
   },
   "outputs": [],
   "source": [
    "def reset_graph(seed=42):\n",
    "    tf.reset_default_graph()\n",
    "    tf.set_random_seed(seed)\n",
    "    np.random.seed(seed)"
   ]
  },
  {
   "cell_type": "code",
   "execution_count": 63,
   "metadata": {
    "collapsed": true
   },
   "outputs": [],
   "source": [
    "n_inputs = 53\n",
    "n_hidden1 = 300\n",
    "n_hidden2 = 200\n",
    "n_hidden3 = 100\n",
    "n_outputs = 1"
   ]
  },
  {
   "cell_type": "code",
   "execution_count": 64,
   "metadata": {
    "collapsed": true
   },
   "outputs": [],
   "source": [
    "reset_graph()\n",
    "\n",
    "X = tf.placeholder(tf.float32, shape=(None, n_inputs), name=\"X\")\n",
    "y = tf.placeholder(tf.float32, shape=(None), name=\"y\")"
   ]
  },
  {
   "cell_type": "code",
   "execution_count": 65,
   "metadata": {},
   "outputs": [],
   "source": [
    "# Implement dropout\n",
    "\n",
    "training = tf.placeholder_with_default(False, shape=(), name='training')\n",
    "\n",
    "dropout_rate = 0.5  # == 1 - keep_prob\n",
    "X_drop = tf.layers.dropout(X, dropout_rate, training=training)\n",
    "\n",
    "with tf.name_scope(\"dnn\"):\n",
    "    hidden1 = tf.layers.dense(X_drop, n_hidden1, name=\"hidden1\",\n",
    "                              activation=tf.nn.selu)\n",
    "    hidden2 = tf.layers.dense(hidden1, n_hidden2, name=\"hidden2\",\n",
    "                              activation=tf.nn.selu)\n",
    "    hidden3 = tf.layers.dense(hidden2, n_hidden3, name=\"hidden3\",\n",
    "                              activation=tf.nn.selu)\n",
    "    logit = tf.layers.dense(hidden3, n_outputs, name=\"outputs\")\n",
    "    logits = logit[:, 0]"
   ]
  },
  {
   "cell_type": "code",
   "execution_count": 66,
   "metadata": {
    "collapsed": true
   },
   "outputs": [],
   "source": [
    "with tf.name_scope(\"loss\"):\n",
    "    mse = tf.losses.mean_squared_error(labels=y, predictions=logits)\n",
    "    loss = tf.reduce_mean(mse, name=\"loss\")\n",
    "    loss_summary = tf.summary.scalar('loss', loss)"
   ]
  },
  {
   "cell_type": "code",
   "execution_count": 67,
   "metadata": {
    "collapsed": true
   },
   "outputs": [],
   "source": [
    "learning_rate = 0.0001\n",
    "\n",
    "with tf.name_scope(\"train\"):\n",
    "    optimizer = tf.train.AdamOptimizer(learning_rate)\n",
    "    training_op = optimizer.minimize(loss)"
   ]
  },
  {
   "cell_type": "code",
   "execution_count": 197,
   "metadata": {
    "scrolled": false
   },
   "outputs": [],
   "source": [
    "with tf.name_scope(\"eval\"):\n",
    "    # MAE\n",
    "    #correct = tf.metrics.mean_absolute_error(labels = y, predictions = logits)\n",
    "    mae = tf.reduce_mean(tf.abs(y-logits))\n",
    "    mae_summary = tf.summary.scalar('mae', mae) # MAE DONE\n",
    "    \n",
    "    # HITS\n",
    "    # First, get top 10 values for labels and logits; this will be used for HITS and AUC\n",
    "    # Next, find the intersection of indexes for the top 10 values and use this for HITS\n",
    "    top_10_labels_vals, top_10_labels_index = tf.nn.top_k(y, 10)\n",
    "    top_10_logits_vals, top_10_logits_index = tf.nn.top_k(logits, 10)\n",
    "    \n",
    "    # Add an extra column of None to the top_10_logits_index since we want to match the shape of top_10_labels_index\n",
    "    hits = tf.sets.set_intersection(top_10_labels_index, top_10_logits_index[None])\n",
    "    hits_10 = tf.size(hits)\n",
    "    hits_summary = tf.summary.scalar('hits_10', hits_10)\n",
    "    \n",
    "    # AUC\n",
    "    label_bool = tf.greater_equal(y, tf.reduce_min(top_10_labels_vals))\n",
    "    label = tf.cast(label_bool, tf.int32)\n",
    "    \n",
    "    predictions_bool = tf.greater_equal(logits, tf.reduce_min(top_10_logits_vals))\n",
    "    prediction = tf.cast(predictions_bool, tf.int32)\n",
    "    # ORIGINAL! DO NOT DELETE!\n",
    "    #auc_pre = tf.metrics.auc(labels = tf.greater_equal(y, tf.reduce_min(top_10_labels_vals)) , predictions = tf.greater_equal(logits, tf.reduce_min(top_10_logits_vals)))\n",
    "    #auc = tf.contrib.metrics.streaming_auc(a, b)\n",
    "    \n",
    "    #auc, update_op = tf.metrics.auc(label, prediction) # Original, do not delete!\n",
    "    auc, update_op = tf.contrib.metrics.streaming_auc(label, prediction)\n",
    "    \n",
    "    #auc = tf.reduce_mean(auc_pre) # Is it necessary to the tf.reduce_mean for the auc?\n",
    "    #auc_summary = tf.summary.scalar('auc', tf.squeeze(auc)) # DO NOT DELETE! ORIGINAL!\n",
    "    #squeezed_auc = tf.squeeze(auc) # DO NOT DELETE\n",
    "    \n",
    "    #auc_summary = tf.summary.scalar('auc', auc) # DO NOT DELETE!\n",
    "    \n",
    "    \n",
    "    # TIME\n",
    "    # Please note that the time will be measured at the end\n",
    "    # start = time.time()\n",
    "    # end = time.time()"
   ]
  },
  {
   "cell_type": "code",
   "execution_count": 152,
   "metadata": {
    "collapsed": true
   },
   "outputs": [],
   "source": [
    "init = tf.global_variables_initializer()\n",
    "init_l = tf.local_variables_initializer() # NEW\n",
    "saver = tf.train.Saver()"
   ]
  },
  {
   "cell_type": "markdown",
   "metadata": {},
   "source": [
    "Now we need to define the directory to write the TensorBoard logs to:"
   ]
  },
  {
   "cell_type": "code",
   "execution_count": 70,
   "metadata": {
    "collapsed": true
   },
   "outputs": [],
   "source": [
    "from datetime import datetime\n",
    "\n",
    "def log_dir(prefix=\"\"):\n",
    "    now = datetime.utcnow().strftime(\"%Y%m%d%H%M%S\")\n",
    "    root_logdir = \"tf_logs\"\n",
    "    if prefix:\n",
    "        prefix += \"-\"\n",
    "    name = prefix + \"run-\" + now\n",
    "    return \"{}/{}/\".format(root_logdir, name)\n"
   ]
  },
  {
   "cell_type": "code",
   "execution_count": 71,
   "metadata": {
    "collapsed": true
   },
   "outputs": [],
   "source": [
    "logdir = log_dir(\"facebook_dnn\")"
   ]
  },
  {
   "cell_type": "markdown",
   "metadata": {},
   "source": [
    "Now we can create the FileWriter that we will use to write the TensorBoard logs:"
   ]
  },
  {
   "cell_type": "code",
   "execution_count": 72,
   "metadata": {
    "collapsed": true
   },
   "outputs": [],
   "source": [
    "file_writer = tf.summary.FileWriter(logdir, tf.get_default_graph())"
   ]
  },
  {
   "cell_type": "code",
   "execution_count": 73,
   "metadata": {
    "collapsed": true
   },
   "outputs": [],
   "source": [
    "X_train_1 = train_data_1_features\n",
    "X_train_2 = train_data_2_features\n",
    "X_train_3 = train_data_3_features\n",
    "X_train_4 = train_data_4_features\n",
    "X_train_5 = train_data_5_features\n",
    "\n",
    "y_train_1 = train_data_1_label\n",
    "y_train_2 = train_data_2_label\n",
    "y_train_3 = train_data_3_label\n",
    "y_train_4 = train_data_4_label\n",
    "y_train_5 = train_data_5_label\n",
    "\n",
    "X_test_set_1 = test_data_1_features\n",
    "X_test_set_2 = test_data_2_features\n",
    "X_test_set_3 = test_data_3_features\n",
    "X_test_set_4 = test_data_4_features\n",
    "X_test_set_5 = test_data_5_features\n",
    "\n",
    "y_test_set_1 = test_data_1_label\n",
    "y_test_set_2 = test_data_2_label\n",
    "y_test_set_3 = test_data_3_label\n",
    "y_test_set_4 = test_data_4_label\n",
    "y_test_set_5 = test_data_5_label"
   ]
  },
  {
   "cell_type": "code",
   "execution_count": 74,
   "metadata": {
    "collapsed": true
   },
   "outputs": [],
   "source": [
    "m_1, n_1 = X_train_1.shape\n",
    "m_2, n_2 = X_train_2.shape\n",
    "m_3, n_3 = X_train_3.shape\n",
    "m_4, n_4 = X_train_4.shape\n",
    "m_5, n_5 = X_train_5.shape"
   ]
  },
  {
   "cell_type": "code",
   "execution_count": 75,
   "metadata": {
    "collapsed": true
   },
   "outputs": [],
   "source": [
    "def random_batch(X_train, y_train, batch_size):\n",
    "    rnd_indices = np.random.randint(0, len(X_train), batch_size)\n",
    "    X_batch = X_train[rnd_indices]\n",
    "    y_batch = y_train[rnd_indices]\n",
    "    return X_batch, y_batch"
   ]
  },
  {
   "cell_type": "code",
   "execution_count": 282,
   "metadata": {},
   "outputs": [
    {
     "name": "stdout",
     "output_type": "stream",
     "text": [
      "Test_set_1, subset 0\n",
      "Epoch: 0 \tLoss: 2.4206173\n",
      "Epoch: 5 \tLoss: 3.1797202\n",
      "Epoch: 10 \tLoss: 2.5917704\n",
      "Epoch: 15 \tLoss: 2.903739\n",
      "Epoch: 20 \tLoss: 2.3278227\n",
      "Epoch: 25 \tLoss: 3.0863104\n",
      "Epoch: 30 \tLoss: 2.3606076\n",
      "Epoch: 35 \tLoss: 2.8330255\n",
      "Epoch: 40 \tLoss: 2.3251867\n",
      "Epoch: 45 \tLoss: 2.2233381\n",
      "Epoch: 50 \tLoss: 2.1948023\n",
      "Test_set_1, subset 1\n",
      "Epoch: 0 \tLoss: 1.7168922\n",
      "Epoch: 5 \tLoss: 1.9157014\n",
      "Epoch: 10 \tLoss: 2.249184\n",
      "Epoch: 15 \tLoss: 1.5057193\n",
      "Epoch: 20 \tLoss: 1.8068442\n",
      "Epoch: 25 \tLoss: 2.147796\n",
      "Epoch: 30 \tLoss: 1.7738429\n",
      "Epoch: 35 \tLoss: 2.1606703\n",
      "Epoch: 40 \tLoss: 2.327255\n",
      "Epoch: 45 \tLoss: 2.4787068\n",
      "Epoch: 50 \tLoss: 2.6239398\n",
      "Test_set_1, subset 2\n",
      "Epoch: 0 \tLoss: 2.4575877\n",
      "Epoch: 5 \tLoss: 4.323881\n",
      "Epoch: 10 \tLoss: 6.071505\n",
      "Epoch: 15 \tLoss: 4.067959\n",
      "Epoch: 20 \tLoss: 3.9171872\n",
      "Epoch: 25 \tLoss: 3.672988\n",
      "Epoch: 30 \tLoss: 2.7328727\n",
      "Epoch: 35 \tLoss: 2.9276562\n",
      "Epoch: 40 \tLoss: 4.4127617\n",
      "Epoch: 45 \tLoss: 4.527377\n",
      "Epoch: 50 \tLoss: 3.9104247\n",
      "Test_set_1, subset 3\n",
      "Epoch: 0 \tLoss: 14.516173\n",
      "Epoch: 5 \tLoss: 14.35886\n",
      "Epoch: 10 \tLoss: 13.597455\n",
      "Epoch: 15 \tLoss: 14.589474\n",
      "Epoch: 20 \tLoss: 15.037654\n",
      "Epoch: 25 \tLoss: 15.047826\n",
      "Epoch: 30 \tLoss: 15.054218\n",
      "Epoch: 35 \tLoss: 14.641697\n",
      "Epoch: 40 \tLoss: 14.935999\n",
      "Epoch: 45 \tLoss: 15.140119\n",
      "Epoch: 50 \tLoss: 13.87526\n",
      "Test_set_1, subset 4\n",
      "Epoch: 0 \tLoss: 2.7794583\n",
      "Epoch: 5 \tLoss: 2.7190206\n",
      "Epoch: 10 \tLoss: 2.8445618\n",
      "Epoch: 15 \tLoss: 2.5621295\n",
      "Epoch: 20 \tLoss: 2.719408\n",
      "Epoch: 25 \tLoss: 2.3234162\n",
      "Epoch: 30 \tLoss: 2.5974712\n",
      "Epoch: 35 \tLoss: 2.2959437\n",
      "Epoch: 40 \tLoss: 1.9217734\n",
      "Epoch: 45 \tLoss: 2.4222457\n",
      "Epoch: 50 \tLoss: 2.479968\n",
      "Test_set_1, subset 5\n",
      "Epoch: 0 \tLoss: 0.41168278\n",
      "Epoch: 5 \tLoss: 0.45102942\n",
      "Epoch: 10 \tLoss: 0.52956\n",
      "Epoch: 15 \tLoss: 0.49549562\n",
      "Epoch: 20 \tLoss: 0.47658426\n",
      "Epoch: 25 \tLoss: 0.5229478\n",
      "Epoch: 30 \tLoss: 0.6438309\n",
      "Epoch: 35 \tLoss: 0.5683597\n",
      "Epoch: 40 \tLoss: 0.76395816\n",
      "Epoch: 45 \tLoss: 0.73715615\n",
      "Epoch: 50 \tLoss: 0.8617946\n",
      "Test_set_1, subset 6\n",
      "Epoch: 0 \tLoss: 1.844523\n",
      "Epoch: 5 \tLoss: 1.6468014\n",
      "Epoch: 10 \tLoss: 1.4205228\n",
      "Epoch: 15 \tLoss: 1.6065468\n",
      "Epoch: 20 \tLoss: 1.687936\n",
      "Epoch: 25 \tLoss: 1.8469234\n",
      "Epoch: 30 \tLoss: 1.8038511\n",
      "Epoch: 35 \tLoss: 1.3348715\n",
      "Epoch: 40 \tLoss: 1.6226566\n",
      "Epoch: 45 \tLoss: 1.6109989\n",
      "Epoch: 50 \tLoss: 1.5574869\n",
      "Test_set_1, subset 7\n",
      "Epoch: 0 \tLoss: 34.526512\n",
      "Epoch: 5 \tLoss: 34.133442\n",
      "Epoch: 10 \tLoss: 33.74406\n",
      "Epoch: 15 \tLoss: 34.254932\n",
      "Epoch: 20 \tLoss: 36.617405\n",
      "Epoch: 25 \tLoss: 36.7237\n",
      "Epoch: 30 \tLoss: 32.014904\n",
      "Epoch: 35 \tLoss: 37.70247\n",
      "Epoch: 40 \tLoss: 34.684692\n",
      "Epoch: 45 \tLoss: 32.731728\n",
      "Epoch: 50 \tLoss: 34.506954\n",
      "Test_set_1, subset 8\n",
      "Epoch: 0 \tLoss: 3.6774175\n",
      "Epoch: 5 \tLoss: 4.5212836\n",
      "Epoch: 10 \tLoss: 4.2968745\n",
      "Epoch: 15 \tLoss: 4.57333\n",
      "Epoch: 20 \tLoss: 3.9247577\n",
      "Epoch: 25 \tLoss: 4.3325872\n",
      "Epoch: 30 \tLoss: 3.746143\n",
      "Epoch: 35 \tLoss: 4.6123924\n",
      "Epoch: 40 \tLoss: 5.148508\n",
      "Epoch: 45 \tLoss: 3.6812582\n",
      "Epoch: 50 \tLoss: 3.9740937\n",
      "Test_set_1, subset 9\n",
      "Epoch: 0 \tLoss: 5.3893847\n",
      "Epoch: 5 \tLoss: 5.660011\n",
      "Epoch: 10 \tLoss: 6.6781054\n",
      "Epoch: 15 \tLoss: 6.154766\n",
      "Epoch: 20 \tLoss: 4.8546333\n",
      "Epoch: 25 \tLoss: 5.266424\n",
      "Epoch: 30 \tLoss: 5.775847\n",
      "Epoch: 35 \tLoss: 6.7720013\n",
      "Epoch: 40 \tLoss: 5.6748705\n",
      "Epoch: 45 \tLoss: 5.694872\n",
      "Epoch: 50 \tLoss: 5.227167\n"
     ]
    }
   ],
   "source": [
    "n_epochs = 51\n",
    "batch_size = 5\n",
    "n_batches = int(np.ceil(m_1 / batch_size))\n",
    "\n",
    "checkpoint_path_1 = \"/tmp/1_train_dnn_reg_model.ckpt\"\n",
    "checkpoint_epoch_path_1 = checkpoint_path_1 + \".epoch\"\n",
    "final_model_path_1 = \"./1_train_dnn_reg_model\"\n",
    "\n",
    "# INSTEAD OF sess write sess_1. Once this is done, you will get proper tensorboard graphs.\n",
    "\n",
    "with tf.Session() as sess_1:\n",
    "    if os.path.isfile(checkpoint_epoch_path_1):\n",
    "        # if the checkpoint file exists, restore the model and load the epoch number\n",
    "        with open(checkpoint_epoch_path_1, \"rb\") as f:\n",
    "            start_epoch = int(f.read())\n",
    "        print(\"Training was interrupted. Continuing at epoch\", start_epoch)\n",
    "        saver.restore(sess_1, checkpoint_path_1)\n",
    "    else:\n",
    "        start_epoch = 0\n",
    "        sess_1.run(init)\n",
    "        sess_1.run(init_l) # NEW\n",
    "    for i in range(len(X_test_set_1)):\n",
    "        print('Test_set_1, subset %d' %i)\n",
    "        for epoch in range(start_epoch, n_epochs):\n",
    "            for iteration in range(int(np.ceil(len(X_train_1) // batch_size))):\n",
    "                X_batch_1, y_batch_1 = random_batch(X_train_1, y_train_1, batch_size)\n",
    "                sess_1.run(training_op, feed_dict={X: X_batch_1, y: y_batch_1})          \n",
    "        #time_0_test_set_1 = time.time()\n",
    "            loss_val, summary_str = sess_1.run([loss, loss_summary], feed_dict = {X : X_test_set_1[i], y : y_test_set_1[i]})\n",
    "            file_writer.add_summary(summary_str, epoch)\n",
    "            if epoch % 5 == 0:\n",
    "                print(\"Epoch:\", epoch, \"\\tLoss:\", loss_val)\n",
    "                saver.save(sess_1, checkpoint_path_1)\n",
    "                with open(checkpoint_epoch_path_1, \"wb\") as f:\n",
    "                    f.write(b\"%d\" % (epoch + 1))\n",
    "        #time_1_test_set_1 = time.time()\n",
    "        #time_taken = format(t1_train_set_1 - t0_train_set_1)\n",
    "    # append the time_taken into a list and take the average\n",
    "    saver.save(sess_1, final_model_path_1)"
   ]
  },
  {
   "cell_type": "code",
   "execution_count": 283,
   "metadata": {},
   "outputs": [
    {
     "name": "stdout",
     "output_type": "stream",
     "text": [
      "INFO:tensorflow:Restoring parameters from ./1_train_dnn_reg_model\n"
     ]
    }
   ],
   "source": [
    "# MAE test_set_1\n",
    "\n",
    "#final_model_path = \"./1_train_dnn_reg_model\"\n",
    "with tf.Session() as sess_1:\n",
    "    saver.restore(sess_1, final_model_path_1)\n",
    "    mae_val_list_1 = []\n",
    "    time_test_list_1 = []\n",
    "    for i in range(len(X_test_set_1)):\n",
    "        time_0_test_set_1 = time.time()\n",
    "        mae_val = mae.eval(feed_dict={X : X_test_set_1[i], y : y_test_set_1[i]})\n",
    "        mae_val_list_1.append(mae_val)\n",
    "        time_1_test_set_1 = time.time()\n",
    "        time_test_list_1.append(time_1_test_set_1 - time_0_test_set_1)\n",
    "    mae_val_list_1_mean = np.mean(mae_val_list_1)\n",
    "    time_test_list_1_mean = np.mean(time_test_list_1)"
   ]
  },
  {
   "cell_type": "code",
   "execution_count": 284,
   "metadata": {},
   "outputs": [
    {
     "data": {
      "text/plain": [
       "0.6648911"
      ]
     },
     "execution_count": 284,
     "metadata": {},
     "output_type": "execute_result"
    }
   ],
   "source": [
    "mae_val_list_1_mean"
   ]
  },
  {
   "cell_type": "code",
   "execution_count": 285,
   "metadata": {},
   "outputs": [
    {
     "data": {
      "text/plain": [
       "0.021074438095092775"
      ]
     },
     "execution_count": 285,
     "metadata": {},
     "output_type": "execute_result"
    }
   ],
   "source": [
    "# TIme test_set_1\n",
    "time_test_list_1_mean"
   ]
  },
  {
   "cell_type": "code",
   "execution_count": 286,
   "metadata": {},
   "outputs": [
    {
     "name": "stdout",
     "output_type": "stream",
     "text": [
      "INFO:tensorflow:Restoring parameters from ./1_train_dnn_reg_model\n"
     ]
    }
   ],
   "source": [
    "# HITS@10 test_set_1\n",
    "with tf.Session() as sess_1:\n",
    "    saver.restore(sess_1, final_model_path_1)\n",
    "    hits_val_list_1 = []\n",
    "    auc_val_list_1 = [] # New\n",
    "    for i in range(10):\n",
    "        hits_val = hits_10.eval(feed_dict={X : X_test_set_1[i], y : y_test_set_1[i][None]})\n",
    "        hits_val_list_1.append(hits_val)\n",
    "    hits_val_list_1_mean = np.mean(hits_val_list_1)"
   ]
  },
  {
   "cell_type": "code",
   "execution_count": 287,
   "metadata": {},
   "outputs": [
    {
     "data": {
      "text/plain": [
       "5.9"
      ]
     },
     "execution_count": 287,
     "metadata": {},
     "output_type": "execute_result"
    }
   ],
   "source": [
    "hits_val_list_1_mean"
   ]
  },
  {
   "cell_type": "code",
   "execution_count": 288,
   "metadata": {},
   "outputs": [
    {
     "name": "stdout",
     "output_type": "stream",
     "text": [
      "INFO:tensorflow:Restoring parameters from ./1_train_dnn_reg_model\n",
      "0.7861728\n"
     ]
    }
   ],
   "source": [
    "# AUC test_set_1\n",
    "\n",
    "with tf.Session() as sess_1:\n",
    "    sess_1.run(tf.local_variables_initializer())\n",
    "    saver.restore(sess_1, final_model_path_1)\n",
    "    auc_val_list_1 = []\n",
    "    for i in range(len(X_test_set_1)):\n",
    "        update_op_val = update_op.eval(feed_dict={X : X_test_set_1[i], y : y_test_set_1[i]})\n",
    "        auc_val = auc.eval(feed_dict={X : X_test_set_1[i], y : y_test_set_1[i]})\n",
    "    #mae_val = mae.eval(feed_dict={X : X_test_set_1, y : y_test_set_1})\n",
    "        auc_val_list_1.append(auc_val)\n",
    "    #auc_val_list_1_mean = np.mean(auc_val_list_1)\n",
    "    # , dtype=np.float32\n",
    "    auc_val_1_array = np.array(auc_val_list_1)\n",
    "    auc_val_1_np_mean = np.mean(auc_val_1_array)\n",
    "    #auc_val_list_1\n",
    "    print(auc_val_1_np_mean)"
   ]
  },
  {
   "cell_type": "code",
   "execution_count": 289,
   "metadata": {},
   "outputs": [],
   "source": [
    "os.remove(checkpoint_epoch_path_1)"
   ]
  },
  {
   "cell_type": "code",
   "execution_count": 290,
   "metadata": {},
   "outputs": [
    {
     "name": "stdout",
     "output_type": "stream",
     "text": [
      "Test_set_2, subset 0\n",
      "Epoch: 0 \tLoss: 3.1371996\n",
      "Epoch: 5 \tLoss: 2.2788248\n",
      "Epoch: 10 \tLoss: 2.8769934\n",
      "Epoch: 15 \tLoss: 1.9370614\n",
      "Epoch: 20 \tLoss: 2.1447556\n",
      "Epoch: 25 \tLoss: 1.4911329\n",
      "Epoch: 30 \tLoss: 1.4585742\n",
      "Epoch: 35 \tLoss: 1.5040151\n",
      "Epoch: 40 \tLoss: 1.9093454\n",
      "Epoch: 45 \tLoss: 2.402374\n",
      "Epoch: 50 \tLoss: 1.9282047\n",
      "Test_set_2, subset 1\n",
      "Epoch: 0 \tLoss: 0.9772763\n",
      "Epoch: 5 \tLoss: 0.529831\n",
      "Epoch: 10 \tLoss: 0.40439188\n",
      "Epoch: 15 \tLoss: 0.9673536\n",
      "Epoch: 20 \tLoss: 0.5590979\n",
      "Epoch: 25 \tLoss: 1.3973578\n",
      "Epoch: 30 \tLoss: 0.9726053\n",
      "Epoch: 35 \tLoss: 0.6630525\n",
      "Epoch: 40 \tLoss: 0.74272215\n",
      "Epoch: 45 \tLoss: 0.5707523\n",
      "Epoch: 50 \tLoss: 1.1557224\n",
      "Test_set_2, subset 2\n",
      "Epoch: 0 \tLoss: 3.0378218\n",
      "Epoch: 5 \tLoss: 3.494099\n",
      "Epoch: 10 \tLoss: 3.7008822\n",
      "Epoch: 15 \tLoss: 4.053719\n",
      "Epoch: 20 \tLoss: 5.0399537\n",
      "Epoch: 25 \tLoss: 5.7924404\n",
      "Epoch: 30 \tLoss: 4.7316723\n",
      "Epoch: 35 \tLoss: 4.631625\n",
      "Epoch: 40 \tLoss: 3.884277\n",
      "Epoch: 45 \tLoss: 4.6092415\n",
      "Epoch: 50 \tLoss: 5.3970203\n",
      "Test_set_2, subset 3\n",
      "Epoch: 0 \tLoss: 14.041918\n",
      "Epoch: 5 \tLoss: 13.121286\n",
      "Epoch: 10 \tLoss: 12.872019\n",
      "Epoch: 15 \tLoss: 12.622137\n",
      "Epoch: 20 \tLoss: 13.478863\n",
      "Epoch: 25 \tLoss: 13.83617\n",
      "Epoch: 30 \tLoss: 12.488381\n",
      "Epoch: 35 \tLoss: 13.364772\n",
      "Epoch: 40 \tLoss: 12.958729\n",
      "Epoch: 45 \tLoss: 12.978816\n",
      "Epoch: 50 \tLoss: 12.706635\n",
      "Test_set_2, subset 4\n",
      "Epoch: 0 \tLoss: 3.5561912\n",
      "Epoch: 5 \tLoss: 3.9701035\n",
      "Epoch: 10 \tLoss: 5.589447\n",
      "Epoch: 15 \tLoss: 2.9965343\n",
      "Epoch: 20 \tLoss: 3.6680143\n",
      "Epoch: 25 \tLoss: 5.7440767\n",
      "Epoch: 30 \tLoss: 5.031219\n",
      "Epoch: 35 \tLoss: 2.8498971\n",
      "Epoch: 40 \tLoss: 2.6301403\n",
      "Epoch: 45 \tLoss: 2.5629418\n",
      "Epoch: 50 \tLoss: 2.2838087\n",
      "Test_set_2, subset 5\n",
      "Epoch: 0 \tLoss: 0.5668154\n",
      "Epoch: 5 \tLoss: 0.440952\n",
      "Epoch: 10 \tLoss: 0.4770298\n",
      "Epoch: 15 \tLoss: 0.61718035\n",
      "Epoch: 20 \tLoss: 0.47350043\n",
      "Epoch: 25 \tLoss: 0.40168515\n",
      "Epoch: 30 \tLoss: 0.509041\n",
      "Epoch: 35 \tLoss: 0.41936082\n",
      "Epoch: 40 \tLoss: 0.32949838\n",
      "Epoch: 45 \tLoss: 0.44727936\n",
      "Epoch: 50 \tLoss: 0.5003349\n",
      "Test_set_2, subset 6\n",
      "Epoch: 0 \tLoss: 2.059695\n",
      "Epoch: 5 \tLoss: 1.9748634\n",
      "Epoch: 10 \tLoss: 1.9372454\n",
      "Epoch: 15 \tLoss: 1.7908107\n",
      "Epoch: 20 \tLoss: 1.8475633\n",
      "Epoch: 25 \tLoss: 1.9189677\n",
      "Epoch: 30 \tLoss: 2.0714655\n",
      "Epoch: 35 \tLoss: 2.2399416\n",
      "Epoch: 40 \tLoss: 2.4470127\n",
      "Epoch: 45 \tLoss: 2.355755\n",
      "Epoch: 50 \tLoss: 2.289977\n",
      "Test_set_2, subset 7\n",
      "Epoch: 0 \tLoss: 58.44739\n",
      "Epoch: 5 \tLoss: 40.89459\n",
      "Epoch: 10 \tLoss: 60.817482\n",
      "Epoch: 15 \tLoss: 43.750175\n",
      "Epoch: 20 \tLoss: 72.17973\n",
      "Epoch: 25 \tLoss: 68.9079\n",
      "Epoch: 30 \tLoss: 73.36831\n",
      "Epoch: 35 \tLoss: 69.7407\n",
      "Epoch: 40 \tLoss: 69.52525\n",
      "Epoch: 45 \tLoss: 87.06686\n",
      "Epoch: 50 \tLoss: 50.937244\n",
      "Test_set_2, subset 8\n",
      "Epoch: 0 \tLoss: 2.612365\n",
      "Epoch: 5 \tLoss: 3.1140592\n",
      "Epoch: 10 \tLoss: 2.522155\n",
      "Epoch: 15 \tLoss: 2.7576559\n",
      "Epoch: 20 \tLoss: 3.0615945\n",
      "Epoch: 25 \tLoss: 2.4377654\n",
      "Epoch: 30 \tLoss: 3.218026\n",
      "Epoch: 35 \tLoss: 3.3992264\n",
      "Epoch: 40 \tLoss: 2.7229226\n",
      "Epoch: 45 \tLoss: 2.5752435\n",
      "Epoch: 50 \tLoss: 2.347034\n",
      "Test_set_2, subset 9\n",
      "Epoch: 0 \tLoss: 3.3560703\n",
      "Epoch: 5 \tLoss: 3.4768689\n",
      "Epoch: 10 \tLoss: 3.5088606\n",
      "Epoch: 15 \tLoss: 4.555574\n",
      "Epoch: 20 \tLoss: 4.201835\n",
      "Epoch: 25 \tLoss: 4.4039073\n",
      "Epoch: 30 \tLoss: 4.023899\n",
      "Epoch: 35 \tLoss: 3.9830697\n",
      "Epoch: 40 \tLoss: 4.015899\n",
      "Epoch: 45 \tLoss: 4.181412\n",
      "Epoch: 50 \tLoss: 3.4285667\n"
     ]
    }
   ],
   "source": [
    "# Let's work with the 2nd data set\n",
    "\n",
    "n_epochs = 51\n",
    "batch_size = 5\n",
    "n_batches = int(np.ceil(m_2 / batch_size))\n",
    "\n",
    "checkpoint_path_2 = \"/tmp/2_train_dnn_reg_model.ckpt\"\n",
    "checkpoint_epoch_path_2 = checkpoint_path_2 + \".epoch\"\n",
    "final_model_path_2 = \"./2_train_dnn_reg_model\"\n",
    "\n",
    "# INSTEAD OF sess write sess_2. Once this is done, you will get proper tensorboard graphs.\n",
    "\n",
    "with tf.Session() as sess_2:\n",
    "    if os.path.isfile(checkpoint_epoch_path_2):\n",
    "        # if the checkpoint file exists, restore the model and load the epoch number\n",
    "        with open(checkpoint_epoch_path_2, \"rb\") as f:\n",
    "            start_epoch = int(f.read())\n",
    "        print(\"Training was interrupted. Continuing at epoch\", start_epoch)\n",
    "        saver.restore(sess_2, checkpoint_path_2)\n",
    "    else:\n",
    "        start_epoch = 0\n",
    "        sess_2.run(init)\n",
    "        sess_2.run(init_l) # NEW\n",
    "    for i in range(len(X_test_set_1)):\n",
    "        print('Test_set_2, subset %d' %i)\n",
    "        for epoch in range(start_epoch, n_epochs):\n",
    "            for iteration in range(int(np.ceil(len(X_train_2) // batch_size))):\n",
    "                X_batch_2, y_batch_2 = random_batch(X_train_2, y_train_2, batch_size)\n",
    "                sess_2.run(training_op, feed_dict={X: X_batch_2, y: y_batch_2})          \n",
    "        #time_0_test_set_1 = time.time()\n",
    "            loss_val, summary_str = sess_2.run([loss, loss_summary], feed_dict = {X : X_test_set_2[i], y : y_test_set_2[i]})\n",
    "            file_writer.add_summary(summary_str, epoch)\n",
    "            if epoch % 5 == 0:\n",
    "                print(\"Epoch:\", epoch, \"\\tLoss:\", loss_val)\n",
    "                saver.save(sess_2, checkpoint_path_2)\n",
    "                with open(checkpoint_epoch_path_2, \"wb\") as f:\n",
    "                    f.write(b\"%d\" % (epoch + 1))\n",
    "        #time_1_test_set_1 = time.time()\n",
    "        #time_taken = format(t1_train_set_1 - t0_train_set_1)\n",
    "    # append the time_taken into a list and take the average\n",
    "    saver.save(sess_2, final_model_path_2)"
   ]
  },
  {
   "cell_type": "code",
   "execution_count": 291,
   "metadata": {},
   "outputs": [
    {
     "name": "stdout",
     "output_type": "stream",
     "text": [
      "INFO:tensorflow:Restoring parameters from ./2_train_dnn_reg_model\n"
     ]
    }
   ],
   "source": [
    "# MAE test_set_2\n",
    "\n",
    "with tf.Session() as sess_2:\n",
    "    saver.restore(sess_2, final_model_path_2)\n",
    "    mae_val_list_2 = []\n",
    "    time_test_list_2 = []\n",
    "    for i in range(len(X_test_set_2)):\n",
    "        time_0_test_set_2 = time.time()\n",
    "        mae_val = mae.eval(feed_dict={X : X_test_set_2[i], y : y_test_set_2[i]})\n",
    "        mae_val_list_2.append(mae_val)\n",
    "        time_1_test_set_2 = time.time()\n",
    "        time_test_list_2.append(time_1_test_set_2 - time_0_test_set_2)\n",
    "    mae_val_list_2_mean = np.mean(mae_val_list_2)\n",
    "    time_test_list_2_mean = np.mean(time_test_list_2)"
   ]
  },
  {
   "cell_type": "code",
   "execution_count": 292,
   "metadata": {},
   "outputs": [
    {
     "data": {
      "text/plain": [
       "0.71913624"
      ]
     },
     "execution_count": 292,
     "metadata": {},
     "output_type": "execute_result"
    }
   ],
   "source": [
    "mae_val_list_2_mean"
   ]
  },
  {
   "cell_type": "code",
   "execution_count": 293,
   "metadata": {},
   "outputs": [
    {
     "data": {
      "text/plain": [
       "0.005208444595336914"
      ]
     },
     "execution_count": 293,
     "metadata": {},
     "output_type": "execute_result"
    }
   ],
   "source": [
    "time_test_list_2_mean"
   ]
  },
  {
   "cell_type": "code",
   "execution_count": 296,
   "metadata": {},
   "outputs": [
    {
     "name": "stdout",
     "output_type": "stream",
     "text": [
      "INFO:tensorflow:Restoring parameters from ./2_train_dnn_reg_model\n"
     ]
    }
   ],
   "source": [
    "# HITS@10 test_set_2\n",
    "with tf.Session() as sess_2:\n",
    "    saver.restore(sess_2, final_model_path_2)\n",
    "    hits_val_list_2 = []\n",
    "    auc_val_list_2 = [] # New\n",
    "    for i in range(10):\n",
    "        hits_val = hits_10.eval(feed_dict={X : X_test_set_2[i], y : y_test_set_2[i][None]})\n",
    "        hits_val_list_2.append(hits_val)\n",
    "    hits_val_list_2_mean = np.mean(hits_val_list_2)"
   ]
  },
  {
   "cell_type": "code",
   "execution_count": 297,
   "metadata": {},
   "outputs": [
    {
     "data": {
      "text/plain": [
       "5.2"
      ]
     },
     "execution_count": 297,
     "metadata": {},
     "output_type": "execute_result"
    }
   ],
   "source": [
    "hits_val_list_2_mean"
   ]
  },
  {
   "cell_type": "code",
   "execution_count": 299,
   "metadata": {},
   "outputs": [
    {
     "name": "stdout",
     "output_type": "stream",
     "text": [
      "INFO:tensorflow:Restoring parameters from ./2_train_dnn_reg_model\n",
      "0.71895725\n"
     ]
    }
   ],
   "source": [
    "with tf.Session() as sess_2:\n",
    "    #sess.run(update_op) # FOR FUCKS SAKE! WHY DON\"T YOU WORK!\n",
    "    sess_2.run(tf.local_variables_initializer())\n",
    "    saver.restore(sess_2, final_model_path_2)\n",
    "    auc_val_list_2 = []\n",
    "    for i in range(len(X_test_set_2)):\n",
    "        update_op_val = update_op.eval(feed_dict={X : X_test_set_2[i], y : y_test_set_2[i]})\n",
    "        auc_val = auc.eval(feed_dict={X : X_test_set_2[i], y : y_test_set_2[i]})\n",
    "    #mae_val = mae.eval(feed_dict={X : X_test_set_1, y : y_test_set_1})\n",
    "        auc_val_list_2.append(auc_val)\n",
    "    #auc_val_list_1_mean = np.mean(auc_val_list_1)\n",
    "    # , dtype=np.float32\n",
    "    auc_val_2_array = np.array(auc_val_list_2)\n",
    "    auc_val_2_np_mean = np.mean(auc_val_2_array)\n",
    "    #auc_val_list_1\n",
    "    print(auc_val_2_np_mean)"
   ]
  },
  {
   "cell_type": "code",
   "execution_count": 300,
   "metadata": {
    "collapsed": true
   },
   "outputs": [],
   "source": [
    "os.remove(checkpoint_epoch_path_2)"
   ]
  },
  {
   "cell_type": "code",
   "execution_count": 302,
   "metadata": {},
   "outputs": [
    {
     "name": "stdout",
     "output_type": "stream",
     "text": [
      "Test_set_3, subset 0\n",
      "Epoch: 0 \tLoss: 3.854002\n",
      "Epoch: 5 \tLoss: 3.3346326\n",
      "Epoch: 10 \tLoss: 3.356735\n",
      "Epoch: 15 \tLoss: 2.6364157\n",
      "Epoch: 20 \tLoss: 1.9675231\n",
      "Epoch: 25 \tLoss: 2.855608\n",
      "Epoch: 30 \tLoss: 2.5242178\n",
      "Epoch: 35 \tLoss: 2.5518103\n",
      "Epoch: 40 \tLoss: 2.193581\n",
      "Epoch: 45 \tLoss: 2.8972754\n",
      "Epoch: 50 \tLoss: 2.2617168\n",
      "Test_set_3, subset 1\n",
      "Epoch: 0 \tLoss: 12.716913\n",
      "Epoch: 5 \tLoss: 2.0375123\n",
      "Epoch: 10 \tLoss: 8.502317\n",
      "Epoch: 15 \tLoss: 2.0486991\n",
      "Epoch: 20 \tLoss: 1.9445965\n",
      "Epoch: 25 \tLoss: 2.2065942\n",
      "Epoch: 30 \tLoss: 2.5020165\n",
      "Epoch: 35 \tLoss: 2.2782223\n",
      "Epoch: 40 \tLoss: 3.2952197\n",
      "Epoch: 45 \tLoss: 33.365803\n",
      "Epoch: 50 \tLoss: 6.991352\n",
      "Test_set_3, subset 2\n",
      "Epoch: 0 \tLoss: 198.11786\n",
      "Epoch: 5 \tLoss: 14.608306\n",
      "Epoch: 10 \tLoss: 72.21648\n",
      "Epoch: 15 \tLoss: 93.56537\n",
      "Epoch: 20 \tLoss: 135.03929\n",
      "Epoch: 25 \tLoss: 316.44214\n",
      "Epoch: 30 \tLoss: 351.3663\n",
      "Epoch: 35 \tLoss: 1014.576\n",
      "Epoch: 40 \tLoss: 1102.0902\n",
      "Epoch: 45 \tLoss: 840.95935\n",
      "Epoch: 50 \tLoss: 584.03156\n",
      "Test_set_3, subset 3\n",
      "Epoch: 0 \tLoss: 13.335823\n",
      "Epoch: 5 \tLoss: 14.10124\n",
      "Epoch: 10 \tLoss: 13.22981\n",
      "Epoch: 15 \tLoss: 13.432095\n",
      "Epoch: 20 \tLoss: 14.046832\n",
      "Epoch: 25 \tLoss: 13.587981\n",
      "Epoch: 30 \tLoss: 14.282251\n",
      "Epoch: 35 \tLoss: 14.102111\n",
      "Epoch: 40 \tLoss: 13.498605\n",
      "Epoch: 45 \tLoss: 13.079767\n",
      "Epoch: 50 \tLoss: 14.434191\n",
      "Test_set_3, subset 4\n",
      "Epoch: 0 \tLoss: 9401.669\n",
      "Epoch: 5 \tLoss: 28237.96\n",
      "Epoch: 10 \tLoss: 18784.674\n",
      "Epoch: 15 \tLoss: 13761.424\n",
      "Epoch: 20 \tLoss: 9025.056\n",
      "Epoch: 25 \tLoss: 14539.768\n",
      "Epoch: 30 \tLoss: 18164.74\n",
      "Epoch: 35 \tLoss: 40829.72\n",
      "Epoch: 40 \tLoss: 42893.83\n",
      "Epoch: 45 \tLoss: 19917.236\n",
      "Epoch: 50 \tLoss: 37679.797\n",
      "Test_set_3, subset 5\n",
      "Epoch: 0 \tLoss: 124.98612\n",
      "Epoch: 5 \tLoss: 82.118454\n",
      "Epoch: 10 \tLoss: 53.39846\n",
      "Epoch: 15 \tLoss: 38.43338\n",
      "Epoch: 20 \tLoss: 52.86973\n",
      "Epoch: 25 \tLoss: 20.438467\n",
      "Epoch: 30 \tLoss: 57.594215\n",
      "Epoch: 35 \tLoss: 32.085316\n",
      "Epoch: 40 \tLoss: 101.527985\n",
      "Epoch: 45 \tLoss: 58.39982\n",
      "Epoch: 50 \tLoss: 165.27707\n",
      "Test_set_3, subset 6\n",
      "Epoch: 0 \tLoss: 2.3691523\n",
      "Epoch: 5 \tLoss: 2.4031937\n",
      "Epoch: 10 \tLoss: 2.0189915\n",
      "Epoch: 15 \tLoss: 2.1420312\n",
      "Epoch: 20 \tLoss: 2.422786\n",
      "Epoch: 25 \tLoss: 2.3347106\n",
      "Epoch: 30 \tLoss: 2.7574248\n",
      "Epoch: 35 \tLoss: 3.1141698\n",
      "Epoch: 40 \tLoss: 2.705258\n",
      "Epoch: 45 \tLoss: 2.90092\n",
      "Epoch: 50 \tLoss: 4.0311036\n",
      "Test_set_3, subset 7\n",
      "Epoch: 0 \tLoss: 148110.02\n",
      "Epoch: 5 \tLoss: 201651.12\n",
      "Epoch: 10 \tLoss: 160588.77\n",
      "Epoch: 15 \tLoss: 178671.38\n",
      "Epoch: 20 \tLoss: 225879.3\n",
      "Epoch: 25 \tLoss: 137485.72\n",
      "Epoch: 30 \tLoss: 241370.22\n",
      "Epoch: 35 \tLoss: 166806.12\n",
      "Epoch: 40 \tLoss: 220966.31\n",
      "Epoch: 45 \tLoss: 179705.48\n",
      "Epoch: 50 \tLoss: 225976.92\n",
      "Test_set_3, subset 8\n",
      "Epoch: 0 \tLoss: 4.7695827\n",
      "Epoch: 5 \tLoss: 3.7087684\n",
      "Epoch: 10 \tLoss: 3.8928742\n",
      "Epoch: 15 \tLoss: 3.812516\n",
      "Epoch: 20 \tLoss: 3.1228864\n",
      "Epoch: 25 \tLoss: 3.403496\n",
      "Epoch: 30 \tLoss: 3.014168\n",
      "Epoch: 35 \tLoss: 3.254075\n",
      "Epoch: 40 \tLoss: 3.5009882\n",
      "Epoch: 45 \tLoss: 3.7058227\n",
      "Epoch: 50 \tLoss: 3.434107\n",
      "Test_set_3, subset 9\n",
      "Epoch: 0 \tLoss: 500.46176\n",
      "Epoch: 5 \tLoss: 793.6008\n",
      "Epoch: 10 \tLoss: 619.65125\n",
      "Epoch: 15 \tLoss: 681.4743\n",
      "Epoch: 20 \tLoss: 755.5871\n",
      "Epoch: 25 \tLoss: 567.528\n",
      "Epoch: 30 \tLoss: 578.84424\n",
      "Epoch: 35 \tLoss: 741.2537\n",
      "Epoch: 40 \tLoss: 732.5863\n",
      "Epoch: 45 \tLoss: 781.3278\n",
      "Epoch: 50 \tLoss: 902.4428\n"
     ]
    }
   ],
   "source": [
    "# Let's work with the 3rd data set\n",
    "\n",
    "n_epochs = 51\n",
    "batch_size = 5\n",
    "n_batches = int(np.ceil(m_3 / batch_size))\n",
    "\n",
    "checkpoint_path_3 = \"/tmp/3_train_dnn_reg_model.ckpt\"\n",
    "checkpoint_epoch_path_3 = checkpoint_path_3 + \".epoch\"\n",
    "final_model_path_3 = \"./3_train_dnn_reg_model\"\n",
    "\n",
    "# INSTEAD OF sess write sess_3. Once this is done, you will get proper tensorboard graphs.\n",
    "\n",
    "with tf.Session() as sess_3:\n",
    "    if os.path.isfile(checkpoint_epoch_path_3):\n",
    "        # if the checkpoint file exists, restore the model and load the epoch number\n",
    "        with open(checkpoint_epoch_path_3, \"rb\") as f:\n",
    "            start_epoch = int(f.read())\n",
    "        print(\"Training was interrupted. Continuing at epoch\", start_epoch)\n",
    "        saver.restore(sess, checkpoint_path_3)\n",
    "    else:\n",
    "        start_epoch = 0\n",
    "        sess_3.run(init)\n",
    "        sess_3.run(init_l) # NEW\n",
    "    for i in range(len(X_test_set_1)):\n",
    "        print('Test_set_3, subset %d' %i)\n",
    "        for epoch in range(start_epoch, n_epochs):\n",
    "            for iteration in range(int(np.ceil(len(X_train_3) // batch_size))):\n",
    "                X_batch_3, y_batch_3 = random_batch(X_train_3, y_train_3, batch_size)\n",
    "                sess_3.run(training_op, feed_dict={X: X_batch_3, y: y_batch_3})          \n",
    "        #time_0_test_set_1 = time.time()\n",
    "            loss_val, summary_str = sess_3.run([loss, loss_summary], feed_dict = {X : X_test_set_3[i], y : y_test_set_3[i]})\n",
    "            file_writer.add_summary(summary_str, epoch)\n",
    "            if epoch % 5 == 0:\n",
    "                print(\"Epoch:\", epoch, \"\\tLoss:\", loss_val)\n",
    "                saver.save(sess_3, checkpoint_path_3)\n",
    "                with open(checkpoint_epoch_path_3, \"wb\") as f:\n",
    "                    f.write(b\"%d\" % (epoch + 1))\n",
    "        #time_1_test_set_1 = time.time()\n",
    "        #time_taken = format(t1_train_set_1 - t0_train_set_1)\n",
    "    # append the time_taken into a list and take the average\n",
    "    saver.save(sess_3, final_model_path_3)"
   ]
  },
  {
   "cell_type": "code",
   "execution_count": 304,
   "metadata": {},
   "outputs": [
    {
     "name": "stdout",
     "output_type": "stream",
     "text": [
      "INFO:tensorflow:Restoring parameters from ./3_train_dnn_reg_model\n"
     ]
    }
   ],
   "source": [
    "# MAE test_set_3\n",
    "\n",
    "with tf.Session() as sess_3:\n",
    "    saver.restore(sess_3, final_model_path_3)\n",
    "    mae_val_list_3 = []\n",
    "    time_test_list_3 = []\n",
    "    for i in range(len(X_test_set_3)):\n",
    "        time_0_test_set_3 = time.time()\n",
    "        mae_val = mae.eval(feed_dict={X : X_test_set_3[i], y : y_test_set_3[i]})\n",
    "        mae_val_list_3.append(mae_val)\n",
    "        time_1_test_set_3 = time.time()\n",
    "        time_test_list_3.append(time_1_test_set_3 - time_0_test_set_3)\n",
    "    mae_val_list_3_mean = np.mean(mae_val_list_3)\n",
    "    time_test_list_3_mean = np.mean(time_test_list_3)"
   ]
  },
  {
   "cell_type": "code",
   "execution_count": 305,
   "metadata": {},
   "outputs": [
    {
     "data": {
      "text/plain": [
       "16.26699"
      ]
     },
     "execution_count": 305,
     "metadata": {},
     "output_type": "execute_result"
    }
   ],
   "source": [
    "mae_val_list_3_mean"
   ]
  },
  {
   "cell_type": "code",
   "execution_count": 306,
   "metadata": {},
   "outputs": [
    {
     "data": {
      "text/plain": [
       "0.005026006698608398"
      ]
     },
     "execution_count": 306,
     "metadata": {},
     "output_type": "execute_result"
    }
   ],
   "source": [
    "time_test_list_3_mean"
   ]
  },
  {
   "cell_type": "code",
   "execution_count": 307,
   "metadata": {},
   "outputs": [
    {
     "name": "stdout",
     "output_type": "stream",
     "text": [
      "INFO:tensorflow:Restoring parameters from ./3_train_dnn_reg_model\n"
     ]
    }
   ],
   "source": [
    "# HITS@10 test_set_3\n",
    "with tf.Session() as sess_3:\n",
    "    saver.restore(sess_3, final_model_path_3)\n",
    "    hits_val_list_3 = []\n",
    "    auc_val_list_3 = [] # New\n",
    "    for i in range(10):\n",
    "        hits_val = hits_10.eval(feed_dict={X : X_test_set_3[i], y : y_test_set_3[i][None]})\n",
    "        hits_val_list_3.append(hits_val)\n",
    "    hits_val_list_3_mean = np.mean(hits_val_list_3)"
   ]
  },
  {
   "cell_type": "code",
   "execution_count": 308,
   "metadata": {},
   "outputs": [
    {
     "data": {
      "text/plain": [
       "5.3"
      ]
     },
     "execution_count": 308,
     "metadata": {},
     "output_type": "execute_result"
    }
   ],
   "source": [
    "hits_val_list_3_mean"
   ]
  },
  {
   "cell_type": "code",
   "execution_count": 310,
   "metadata": {},
   "outputs": [
    {
     "name": "stdout",
     "output_type": "stream",
     "text": [
      "INFO:tensorflow:Restoring parameters from ./3_train_dnn_reg_model\n"
     ]
    }
   ],
   "source": [
    "with tf.Session() as sess_3:\n",
    "    #sess.run(update_op) # FOR FUCKS SAKE! WHY DON\"T YOU WORK!\n",
    "    sess_3.run(tf.local_variables_initializer())\n",
    "    saver.restore(sess_3, final_model_path_3)\n",
    "    auc_val_list_3 = []\n",
    "    for i in range(len(X_test_set_3)):\n",
    "        update_op_val = update_op.eval(feed_dict={X : X_test_set_3[i], y : y_test_set_3[i]})\n",
    "        auc_val = auc.eval(feed_dict={X : X_test_set_3[i], y : y_test_set_3[i]})\n",
    "    #mae_val = mae.eval(feed_dict={X : X_test_set_1, y : y_test_set_1})\n",
    "        auc_val_list_3.append(auc_val)\n",
    "    #auc_val_list_1_mean = np.mean(auc_val_list_1)\n",
    "    # , dtype=np.float32\n",
    "    auc_val_3_array = np.array(auc_val_list_3)\n",
    "    auc_val_3_np_mean = np.mean(auc_val_3_array)\n",
    "    #auc_val_list_1"
   ]
  },
  {
   "cell_type": "code",
   "execution_count": 311,
   "metadata": {},
   "outputs": [
    {
     "data": {
      "text/plain": [
       "0.7469026"
      ]
     },
     "execution_count": 311,
     "metadata": {},
     "output_type": "execute_result"
    }
   ],
   "source": [
    "auc_val_3_np_mean"
   ]
  },
  {
   "cell_type": "code",
   "execution_count": 312,
   "metadata": {
    "collapsed": true
   },
   "outputs": [],
   "source": [
    "os.remove(checkpoint_epoch_path_3)"
   ]
  },
  {
   "cell_type": "code",
   "execution_count": 314,
   "metadata": {},
   "outputs": [
    {
     "name": "stdout",
     "output_type": "stream",
     "text": [
      "Test_set_4, subset 0\n",
      "Epoch: 0 \tLoss: 9.479688\n",
      "Epoch: 5 \tLoss: 4.044916\n",
      "Epoch: 10 \tLoss: 2.2212298\n",
      "Epoch: 15 \tLoss: 4.776815\n",
      "Epoch: 20 \tLoss: 7.280729\n",
      "Epoch: 25 \tLoss: 4.631329\n",
      "Epoch: 30 \tLoss: 3.8492723\n",
      "Epoch: 35 \tLoss: 5.0112453\n",
      "Epoch: 40 \tLoss: 7.772508\n",
      "Epoch: 45 \tLoss: 4.7356234\n",
      "Epoch: 50 \tLoss: 3.9556582\n",
      "Test_set_4, subset 1\n",
      "Epoch: 0 \tLoss: 28.669243\n",
      "Epoch: 5 \tLoss: 2.8233142\n",
      "Epoch: 10 \tLoss: 9.730361\n",
      "Epoch: 15 \tLoss: 4.064081\n",
      "Epoch: 20 \tLoss: 2.8238678\n",
      "Epoch: 25 \tLoss: 3.7425451\n",
      "Epoch: 30 \tLoss: 3.3445358\n",
      "Epoch: 35 \tLoss: 8.110536\n",
      "Epoch: 40 \tLoss: 6.0351963\n",
      "Epoch: 45 \tLoss: 2.4692602\n",
      "Epoch: 50 \tLoss: 6.746652\n",
      "Test_set_4, subset 2\n",
      "Epoch: 0 \tLoss: 8.321655\n",
      "Epoch: 5 \tLoss: 19.44347\n",
      "Epoch: 10 \tLoss: 372.3372\n",
      "Epoch: 15 \tLoss: 3.0877907\n",
      "Epoch: 20 \tLoss: 2.0906408\n",
      "Epoch: 25 \tLoss: 7.141087\n",
      "Epoch: 30 \tLoss: 10.048969\n",
      "Epoch: 35 \tLoss: 47.030098\n",
      "Epoch: 40 \tLoss: 112.843544\n",
      "Epoch: 45 \tLoss: 13.558495\n",
      "Epoch: 50 \tLoss: 2.7611268\n",
      "Test_set_4, subset 3\n",
      "Epoch: 0 \tLoss: 26.06747\n",
      "Epoch: 5 \tLoss: 27.537905\n",
      "Epoch: 10 \tLoss: 23.938627\n",
      "Epoch: 15 \tLoss: 29.361872\n",
      "Epoch: 20 \tLoss: 28.705887\n",
      "Epoch: 25 \tLoss: 28.803967\n",
      "Epoch: 30 \tLoss: 27.351265\n",
      "Epoch: 35 \tLoss: 33.819603\n",
      "Epoch: 40 \tLoss: 27.630548\n",
      "Epoch: 45 \tLoss: 41.138916\n",
      "Epoch: 50 \tLoss: 31.383001\n",
      "Test_set_4, subset 4\n",
      "Epoch: 0 \tLoss: 880.2506\n",
      "Epoch: 5 \tLoss: 3387.692\n",
      "Epoch: 10 \tLoss: 871.83594\n",
      "Epoch: 15 \tLoss: 689.6107\n",
      "Epoch: 20 \tLoss: 1041.751\n",
      "Epoch: 25 \tLoss: 2985.7068\n",
      "Epoch: 30 \tLoss: 893.7115\n",
      "Epoch: 35 \tLoss: 1112.4114\n",
      "Epoch: 40 \tLoss: 755.29333\n",
      "Epoch: 45 \tLoss: 1531.6338\n",
      "Epoch: 50 \tLoss: 1019.5943\n",
      "Test_set_4, subset 5\n",
      "Epoch: 0 \tLoss: 3.0336874\n",
      "Epoch: 5 \tLoss: 3.7305822\n",
      "Epoch: 10 \tLoss: 9.730374\n",
      "Epoch: 15 \tLoss: 5.1233296\n",
      "Epoch: 20 \tLoss: 3.709959\n",
      "Epoch: 25 \tLoss: 8.494165\n",
      "Epoch: 30 \tLoss: 3.6386194\n",
      "Epoch: 35 \tLoss: 3.1161146\n",
      "Epoch: 40 \tLoss: 4.211837\n",
      "Epoch: 45 \tLoss: 11.444552\n",
      "Epoch: 50 \tLoss: 9.551672\n",
      "Test_set_4, subset 6\n",
      "Epoch: 0 \tLoss: 4.179802\n",
      "Epoch: 5 \tLoss: 3.9516976\n",
      "Epoch: 10 \tLoss: 3.1168303\n",
      "Epoch: 15 \tLoss: 4.708722\n",
      "Epoch: 20 \tLoss: 3.4390342\n",
      "Epoch: 25 \tLoss: 3.774319\n",
      "Epoch: 30 \tLoss: 4.8841677\n",
      "Epoch: 35 \tLoss: 3.9366338\n",
      "Epoch: 40 \tLoss: 4.6296144\n",
      "Epoch: 45 \tLoss: 3.4964051\n",
      "Epoch: 50 \tLoss: 3.8592193\n",
      "Test_set_4, subset 7\n",
      "Epoch: 0 \tLoss: 250.63068\n",
      "Epoch: 5 \tLoss: 265.69095\n",
      "Epoch: 10 \tLoss: 181.69801\n",
      "Epoch: 15 \tLoss: 192.64543\n",
      "Epoch: 20 \tLoss: 161.92058\n",
      "Epoch: 25 \tLoss: 831.0483\n",
      "Epoch: 30 \tLoss: 256.816\n",
      "Epoch: 35 \tLoss: 389.5431\n",
      "Epoch: 40 \tLoss: 390.52805\n",
      "Epoch: 45 \tLoss: 1608.239\n",
      "Epoch: 50 \tLoss: 88.03696\n",
      "Test_set_4, subset 8\n",
      "Epoch: 0 \tLoss: 5.59149\n",
      "Epoch: 5 \tLoss: 5.6092744\n",
      "Epoch: 10 \tLoss: 7.500853\n",
      "Epoch: 15 \tLoss: 4.5469646\n",
      "Epoch: 20 \tLoss: 4.980365\n",
      "Epoch: 25 \tLoss: 5.983013\n",
      "Epoch: 30 \tLoss: 6.3358984\n",
      "Epoch: 35 \tLoss: 5.554832\n",
      "Epoch: 40 \tLoss: 5.9978795\n",
      "Epoch: 45 \tLoss: 5.838272\n",
      "Epoch: 50 \tLoss: 5.749804\n",
      "Test_set_4, subset 9\n",
      "Epoch: 0 \tLoss: 1612.8661\n",
      "Epoch: 5 \tLoss: 567.89575\n",
      "Epoch: 10 \tLoss: 484.6688\n",
      "Epoch: 15 \tLoss: 155.71906\n",
      "Epoch: 20 \tLoss: 753.4192\n",
      "Epoch: 25 \tLoss: 803.2043\n",
      "Epoch: 30 \tLoss: 1659.4882\n",
      "Epoch: 35 \tLoss: 2200.0894\n",
      "Epoch: 40 \tLoss: 2026.9364\n",
      "Epoch: 45 \tLoss: 1695.9967\n",
      "Epoch: 50 \tLoss: 2690.5852\n"
     ]
    }
   ],
   "source": [
    "# Let's work with the 4th data set\n",
    "\n",
    "n_epochs = 51\n",
    "batch_size = 5\n",
    "n_batches = int(np.ceil(m_4 / batch_size))\n",
    "\n",
    "checkpoint_path_4 = \"/tmp/4_train_dnn_reg_model.ckpt\"\n",
    "checkpoint_epoch_path_4 = checkpoint_path_4 + \".epoch\"\n",
    "final_model_path_4 = \"./4_train_dnn_reg_model\"\n",
    "\n",
    "# INSTEAD OF sess write sess_4. Once this is done, you will get proper tensorboard graphs.\n",
    "\n",
    "with tf.Session() as sess_4:\n",
    "    if os.path.isfile(checkpoint_epoch_path_4):\n",
    "        # if the checkpoint file exists, restore the model and load the epoch number\n",
    "        with open(checkpoint_epoch_path_4, \"rb\") as f:\n",
    "            start_epoch = int(f.read())\n",
    "        print(\"Training was interrupted. Continuing at epoch\", start_epoch)\n",
    "        saver.restore(sess_4, checkpoint_path_4)\n",
    "    else:\n",
    "        start_epoch = 0\n",
    "        sess_4.run(init)\n",
    "        sess_4.run(init_l) # NEW\n",
    "    for i in range(len(X_test_set_4)):\n",
    "        print('Test_set_4, subset %d' %i)\n",
    "        for epoch in range(start_epoch, n_epochs):\n",
    "            for iteration in range(int(np.ceil(len(X_train_4) // batch_size))):\n",
    "                X_batch_4, y_batch_4 = random_batch(X_train_4, y_train_4, batch_size)\n",
    "                sess_4.run(training_op, feed_dict={X: X_batch_4, y: y_batch_4})          \n",
    "        #time_0_test_set_1 = time.time()\n",
    "            loss_val, summary_str = sess_4.run([loss, loss_summary], feed_dict = {X : X_test_set_4[i], y : y_test_set_4[i]})\n",
    "            file_writer.add_summary(summary_str, epoch)\n",
    "            if epoch % 5 == 0:\n",
    "                print(\"Epoch:\", epoch, \"\\tLoss:\", loss_val)\n",
    "                saver.save(sess_4, checkpoint_path_4)\n",
    "                with open(checkpoint_epoch_path_4, \"wb\") as f:\n",
    "                    f.write(b\"%d\" % (epoch + 1))\n",
    "        #time_1_test_set_1 = time.time()\n",
    "        #time_taken = format(t1_train_set_1 - t0_train_set_1)\n",
    "    # append the time_taken into a list and take the average\n",
    "    saver.save(sess_4, final_model_path_4)"
   ]
  },
  {
   "cell_type": "code",
   "execution_count": 315,
   "metadata": {},
   "outputs": [
    {
     "name": "stdout",
     "output_type": "stream",
     "text": [
      "INFO:tensorflow:Restoring parameters from ./4_train_dnn_reg_model\n"
     ]
    }
   ],
   "source": [
    "# MAE test_set_4\n",
    "\n",
    "with tf.Session() as sess_4:\n",
    "    saver.restore(sess_4, final_model_path_4)\n",
    "    mae_val_list_4 = []\n",
    "    time_test_list_4 = []\n",
    "    for i in range(len(X_test_set_4)):\n",
    "        time_0_test_set_4 = time.time()\n",
    "        mae_val = mae.eval(feed_dict={X : X_test_set_4[i], y : y_test_set_4[i]})\n",
    "        mae_val_list_4.append(mae_val)\n",
    "        time_1_test_set_4 = time.time()\n",
    "        time_test_list_4.append(time_1_test_set_4 - time_0_test_set_4)\n",
    "    mae_val_list_4_mean = np.mean(mae_val_list_4)\n",
    "    time_test_list_4_mean = np.mean(time_test_list_4)"
   ]
  },
  {
   "cell_type": "code",
   "execution_count": 316,
   "metadata": {},
   "outputs": [
    {
     "data": {
      "text/plain": [
       "2.1613216"
      ]
     },
     "execution_count": 316,
     "metadata": {},
     "output_type": "execute_result"
    }
   ],
   "source": [
    "mae_val_list_4_mean"
   ]
  },
  {
   "cell_type": "code",
   "execution_count": 317,
   "metadata": {},
   "outputs": [
    {
     "data": {
      "text/plain": [
       "0.010346770286560059"
      ]
     },
     "execution_count": 317,
     "metadata": {},
     "output_type": "execute_result"
    }
   ],
   "source": [
    "time_test_list_4_mean"
   ]
  },
  {
   "cell_type": "code",
   "execution_count": 318,
   "metadata": {},
   "outputs": [
    {
     "name": "stdout",
     "output_type": "stream",
     "text": [
      "INFO:tensorflow:Restoring parameters from ./4_train_dnn_reg_model\n"
     ]
    }
   ],
   "source": [
    "# HITS@10 test_set_4\n",
    "with tf.Session() as sess_4:\n",
    "    saver.restore(sess_4, final_model_path_4)\n",
    "    hits_val_list_4 = []\n",
    "    auc_val_list_4 = [] # New\n",
    "    for i in range(10):\n",
    "        hits_val = hits_10.eval(feed_dict={X : X_test_set_4[i], y : y_test_set_4[i][None]})\n",
    "        hits_val_list_4.append(hits_val)\n",
    "    hits_val_list_4_mean = np.mean(hits_val_list_4)"
   ]
  },
  {
   "cell_type": "code",
   "execution_count": 319,
   "metadata": {},
   "outputs": [
    {
     "data": {
      "text/plain": [
       "3.4"
      ]
     },
     "execution_count": 319,
     "metadata": {},
     "output_type": "execute_result"
    }
   ],
   "source": [
    "hits_val_list_4_mean"
   ]
  },
  {
   "cell_type": "code",
   "execution_count": 320,
   "metadata": {},
   "outputs": [
    {
     "name": "stdout",
     "output_type": "stream",
     "text": [
      "INFO:tensorflow:Restoring parameters from ./4_train_dnn_reg_model\n"
     ]
    }
   ],
   "source": [
    "with tf.Session() as sess_4:\n",
    "    #sess.run(update_op) # FOR FUCKS SAKE! WHY DON\"T YOU WORK!\n",
    "    sess_4.run(tf.local_variables_initializer())\n",
    "    saver.restore(sess_4, final_model_path_4)\n",
    "    auc_val_list_4 = []\n",
    "    for i in range(len(X_test_set_4)):\n",
    "        update_op_val = update_op.eval(feed_dict={X : X_test_set_4[i], y : y_test_set_4[i]})\n",
    "        auc_val = auc.eval(feed_dict={X : X_test_set_4[i], y : y_test_set_4[i]})\n",
    "    #mae_val = mae.eval(feed_dict={X : X_test_set_1, y : y_test_set_1})\n",
    "        auc_val_list_4.append(auc_val)\n",
    "    #auc_val_list_1_mean = np.mean(auc_val_list_1)\n",
    "    # , dtype=np.float32\n",
    "    auc_val_4_array = np.array(auc_val_list_4)\n",
    "    auc_val_4_np_mean = np.mean(auc_val_4_array)\n",
    "    #auc_val_list_1"
   ]
  },
  {
   "cell_type": "code",
   "execution_count": 321,
   "metadata": {},
   "outputs": [
    {
     "data": {
      "text/plain": [
       "0.63576055"
      ]
     },
     "execution_count": 321,
     "metadata": {},
     "output_type": "execute_result"
    }
   ],
   "source": [
    "auc_val_4_np_mean"
   ]
  },
  {
   "cell_type": "code",
   "execution_count": 322,
   "metadata": {
    "collapsed": true
   },
   "outputs": [],
   "source": [
    "os.remove(checkpoint_epoch_path_4)"
   ]
  },
  {
   "cell_type": "code",
   "execution_count": 323,
   "metadata": {},
   "outputs": [
    {
     "name": "stdout",
     "output_type": "stream",
     "text": [
      "Test_set_5, subset 0\n",
      "Epoch: 0 \tLoss: 4.446513\n",
      "Epoch: 5 \tLoss: 1.9043748\n",
      "Epoch: 10 \tLoss: 1.9893576\n",
      "Epoch: 15 \tLoss: 2.2353897\n",
      "Epoch: 20 \tLoss: 2.8992748\n",
      "Epoch: 25 \tLoss: 2.0327632\n",
      "Epoch: 30 \tLoss: 2.0641432\n",
      "Epoch: 35 \tLoss: 2.0459962\n",
      "Epoch: 40 \tLoss: 1.7406207\n",
      "Epoch: 45 \tLoss: 2.8572724\n",
      "Epoch: 50 \tLoss: 1.910579\n",
      "Test_set_5, subset 1\n",
      "Epoch: 0 \tLoss: 1.4185247\n",
      "Epoch: 5 \tLoss: 1.4566666\n",
      "Epoch: 10 \tLoss: 3.328166\n",
      "Epoch: 15 \tLoss: 6.042942\n",
      "Epoch: 20 \tLoss: 6.5801983\n",
      "Epoch: 25 \tLoss: 5.5067077\n",
      "Epoch: 30 \tLoss: 4.1880827\n",
      "Epoch: 35 \tLoss: 7.9475427\n",
      "Epoch: 40 \tLoss: 6.8351574\n",
      "Epoch: 45 \tLoss: 37.851185\n",
      "Epoch: 50 \tLoss: 47.13118\n",
      "Test_set_5, subset 2\n",
      "Epoch: 0 \tLoss: 1710.8387\n",
      "Epoch: 5 \tLoss: 2690.8735\n",
      "Epoch: 10 \tLoss: 2662.9617\n",
      "Epoch: 15 \tLoss: 3300.5518\n",
      "Epoch: 20 \tLoss: 3811.5376\n",
      "Epoch: 25 \tLoss: 3702.1677\n",
      "Epoch: 30 \tLoss: 7108.4233\n",
      "Epoch: 35 \tLoss: 7501.5444\n",
      "Epoch: 40 \tLoss: 8754.788\n",
      "Epoch: 45 \tLoss: 6593.517\n",
      "Epoch: 50 \tLoss: 7264.654\n",
      "Test_set_5, subset 3\n",
      "Epoch: 0 \tLoss: 22.351591\n",
      "Epoch: 5 \tLoss: 17.74077\n",
      "Epoch: 10 \tLoss: 39.430897\n",
      "Epoch: 15 \tLoss: 14.927321\n",
      "Epoch: 20 \tLoss: 20.085241\n",
      "Epoch: 25 \tLoss: 21.679298\n",
      "Epoch: 30 \tLoss: 19.241821\n",
      "Epoch: 35 \tLoss: 24.49723\n",
      "Epoch: 40 \tLoss: 29.57606\n",
      "Epoch: 45 \tLoss: 23.483957\n",
      "Epoch: 50 \tLoss: 24.388521\n",
      "Test_set_5, subset 4\n",
      "Epoch: 0 \tLoss: 124072.14\n",
      "Epoch: 5 \tLoss: 165296.61\n",
      "Epoch: 10 \tLoss: 74887.01\n",
      "Epoch: 15 \tLoss: 53171.266\n",
      "Epoch: 20 \tLoss: 93002.89\n",
      "Epoch: 25 \tLoss: 36600.746\n",
      "Epoch: 30 \tLoss: 66703.266\n",
      "Epoch: 35 \tLoss: 67980.58\n",
      "Epoch: 40 \tLoss: 79021.98\n",
      "Epoch: 45 \tLoss: 93943.09\n",
      "Epoch: 50 \tLoss: 95299.5\n",
      "Test_set_5, subset 5\n",
      "Epoch: 0 \tLoss: 143.09521\n",
      "Epoch: 5 \tLoss: 65.90379\n",
      "Epoch: 10 \tLoss: 92.98369\n",
      "Epoch: 15 \tLoss: 45.009125\n",
      "Epoch: 20 \tLoss: 15.948595\n",
      "Epoch: 25 \tLoss: 85.02114\n",
      "Epoch: 30 \tLoss: 79.8123\n",
      "Epoch: 35 \tLoss: 49.930424\n",
      "Epoch: 40 \tLoss: 17.989704\n",
      "Epoch: 45 \tLoss: 48.331383\n",
      "Epoch: 50 \tLoss: 82.76727\n",
      "Test_set_5, subset 6\n",
      "Epoch: 0 \tLoss: 38.070763\n",
      "Epoch: 5 \tLoss: 36.182114\n",
      "Epoch: 10 \tLoss: 74.77076\n",
      "Epoch: 15 \tLoss: 50.803715\n",
      "Epoch: 20 \tLoss: 52.00347\n",
      "Epoch: 25 \tLoss: 71.54631\n",
      "Epoch: 30 \tLoss: 53.725136\n",
      "Epoch: 35 \tLoss: 115.79632\n",
      "Epoch: 40 \tLoss: 57.569138\n",
      "Epoch: 45 \tLoss: 80.93395\n",
      "Epoch: 50 \tLoss: 43.72318\n",
      "Test_set_5, subset 7\n",
      "Epoch: 0 \tLoss: 662793.06\n",
      "Epoch: 5 \tLoss: 459648.12\n",
      "Epoch: 10 \tLoss: 537398.6\n",
      "Epoch: 15 \tLoss: 439422.84\n",
      "Epoch: 20 \tLoss: 455185.12\n",
      "Epoch: 25 \tLoss: 513686.12\n",
      "Epoch: 30 \tLoss: 459330.28\n",
      "Epoch: 35 \tLoss: 410855.47\n",
      "Epoch: 40 \tLoss: 311130.2\n",
      "Epoch: 45 \tLoss: 358940.12\n",
      "Epoch: 50 \tLoss: 343610.12\n",
      "Test_set_5, subset 8\n",
      "Epoch: 0 \tLoss: 11.466549\n",
      "Epoch: 5 \tLoss: 12.655211\n",
      "Epoch: 10 \tLoss: 7.5542393\n",
      "Epoch: 15 \tLoss: 7.962029\n",
      "Epoch: 20 \tLoss: 15.457783\n",
      "Epoch: 25 \tLoss: 6.831207\n",
      "Epoch: 30 \tLoss: 5.1176047\n",
      "Epoch: 35 \tLoss: 7.0944395\n",
      "Epoch: 40 \tLoss: 7.5390973\n",
      "Epoch: 45 \tLoss: 10.641135\n",
      "Epoch: 50 \tLoss: 8.520119\n",
      "Test_set_5, subset 9\n",
      "Epoch: 0 \tLoss: 13861.383\n",
      "Epoch: 5 \tLoss: 18527.195\n",
      "Epoch: 10 \tLoss: 19610.113\n",
      "Epoch: 15 \tLoss: 10862.595\n",
      "Epoch: 20 \tLoss: 14496.941\n",
      "Epoch: 25 \tLoss: 24673.14\n",
      "Epoch: 30 \tLoss: 11572.527\n",
      "Epoch: 35 \tLoss: 15653.246\n",
      "Epoch: 40 \tLoss: 13530.106\n",
      "Epoch: 45 \tLoss: 7645.326\n",
      "Epoch: 50 \tLoss: 13552.763\n"
     ]
    }
   ],
   "source": [
    "# Let's work with the 4th data set\n",
    "\n",
    "n_epochs = 51\n",
    "batch_size = 5\n",
    "n_batches = int(np.ceil(m_5 / batch_size))\n",
    "\n",
    "checkpoint_path_5 = \"/tmp/5_train_dnn_reg_model.ckpt\"\n",
    "checkpoint_epoch_path_5 = checkpoint_path_5 + \".epoch\"\n",
    "final_model_path_5 = \"./5_train_dnn_reg_model\"\n",
    "\n",
    "# INSTEAD OF sess write sess_5. Once this is done, you will get proper tensorboard graphs.\n",
    "\n",
    "with tf.Session() as sess_5:\n",
    "    if os.path.isfile(checkpoint_epoch_path_5):\n",
    "        # if the checkpoint file exists, restore the model and load the epoch number\n",
    "        with open(checkpoint_epoch_path_5, \"rb\") as f:\n",
    "            start_epoch = int(f.read())\n",
    "        print(\"Training was interrupted. Continuing at epoch\", start_epoch)\n",
    "        saver.restore(sess, checkpoint_path_5)\n",
    "    else:\n",
    "        start_epoch = 0\n",
    "        sess_5.run(init)\n",
    "        sess_5.run(init_l) # NEW\n",
    "    for i in range(len(X_test_set_5)):\n",
    "        print('Test_set_5, subset %d' %i)\n",
    "        for epoch in range(start_epoch, n_epochs):\n",
    "            for iteration in range(int(np.ceil(len(X_train_5) // batch_size))):\n",
    "                X_batch_5, y_batch_5 = random_batch(X_train_5, y_train_5, batch_size)\n",
    "                sess_5.run(training_op, feed_dict={X: X_batch_5, y: y_batch_5})          \n",
    "        #time_0_test_set_1 = time.time()\n",
    "            loss_val, summary_str = sess_5.run([loss, loss_summary], feed_dict = {X : X_test_set_5[i], y : y_test_set_5[i]})\n",
    "            file_writer.add_summary(summary_str, epoch)\n",
    "            if epoch % 5 == 0:\n",
    "                print(\"Epoch:\", epoch, \"\\tLoss:\", loss_val)\n",
    "                saver.save(sess_5, checkpoint_path_5)\n",
    "                with open(checkpoint_epoch_path_5, \"wb\") as f:\n",
    "                    f.write(b\"%d\" % (epoch + 1))\n",
    "        #time_1_test_set_1 = time.time()\n",
    "        #time_taken = format(t1_train_set_1 - t0_train_set_1)\n",
    "    # append the time_taken into a list and take the average\n",
    "    saver.save(sess_5, final_model_path_5)"
   ]
  },
  {
   "cell_type": "code",
   "execution_count": 324,
   "metadata": {},
   "outputs": [
    {
     "name": "stdout",
     "output_type": "stream",
     "text": [
      "INFO:tensorflow:Restoring parameters from ./5_train_dnn_reg_model\n"
     ]
    }
   ],
   "source": [
    "# MAE test_set_5\n",
    "\n",
    "with tf.Session() as sess_5:\n",
    "    saver.restore(sess_5, final_model_path_5)\n",
    "    mae_val_list_5 = []\n",
    "    time_test_list_5 = []\n",
    "    for i in range(len(X_test_set_5)):\n",
    "        time_0_test_set_5 = time.time()\n",
    "        mae_val = mae.eval(feed_dict={X : X_test_set_5[i], y : y_test_set_5[i]})\n",
    "        mae_val_list_5.append(mae_val)\n",
    "        time_1_test_set_5 = time.time()\n",
    "        time_test_list_5.append(time_1_test_set_5 - time_0_test_set_5)\n",
    "    mae_val_list_5_mean = np.mean(mae_val_list_5)\n",
    "    time_test_list_5_mean = np.mean(time_test_list_5)"
   ]
  },
  {
   "cell_type": "code",
   "execution_count": 325,
   "metadata": {},
   "outputs": [
    {
     "data": {
      "text/plain": [
       "19.83054"
      ]
     },
     "execution_count": 325,
     "metadata": {},
     "output_type": "execute_result"
    }
   ],
   "source": [
    "mae_val_list_5_mean"
   ]
  },
  {
   "cell_type": "code",
   "execution_count": 326,
   "metadata": {},
   "outputs": [
    {
     "data": {
      "text/plain": [
       "0.005374336242675781"
      ]
     },
     "execution_count": 326,
     "metadata": {},
     "output_type": "execute_result"
    }
   ],
   "source": [
    "time_test_list_5_mean"
   ]
  },
  {
   "cell_type": "code",
   "execution_count": 327,
   "metadata": {},
   "outputs": [
    {
     "name": "stdout",
     "output_type": "stream",
     "text": [
      "INFO:tensorflow:Restoring parameters from ./5_train_dnn_reg_model\n"
     ]
    }
   ],
   "source": [
    "# HITS@10 test_set_5\n",
    "with tf.Session() as sess_5:\n",
    "    saver.restore(sess_5, final_model_path_5)\n",
    "    hits_val_list_5 = []\n",
    "    auc_val_list_5 = [] # New\n",
    "    for i in range(10):\n",
    "        hits_val = hits_10.eval(feed_dict={X : X_test_set_5[i], y : y_test_set_5[i][None]})\n",
    "        hits_val_list_5.append(hits_val)\n",
    "    hits_val_list_5_mean = np.mean(hits_val_list_5)"
   ]
  },
  {
   "cell_type": "code",
   "execution_count": 328,
   "metadata": {},
   "outputs": [
    {
     "data": {
      "text/plain": [
       "4.7"
      ]
     },
     "execution_count": 328,
     "metadata": {},
     "output_type": "execute_result"
    }
   ],
   "source": [
    "hits_val_list_5_mean"
   ]
  },
  {
   "cell_type": "code",
   "execution_count": 330,
   "metadata": {},
   "outputs": [
    {
     "name": "stdout",
     "output_type": "stream",
     "text": [
      "INFO:tensorflow:Restoring parameters from ./5_train_dnn_reg_model\n"
     ]
    }
   ],
   "source": [
    "with tf.Session() as sess_5:\n",
    "    #sess.run(update_op) # FOR FUCKS SAKE! WHY DON\"T YOU WORK!\n",
    "    sess_5.run(tf.local_variables_initializer())\n",
    "    saver.restore(sess_5, final_model_path_5)\n",
    "    auc_val_list_5 = []\n",
    "    for i in range(len(X_test_set_5)):\n",
    "        update_op_val = update_op.eval(feed_dict={X : X_test_set_5[i], y : y_test_set_5[i]})\n",
    "        auc_val = auc.eval(feed_dict={X : X_test_set_4[i], y : y_test_set_4[i]})\n",
    "    #mae_val = mae.eval(feed_dict={X : X_test_set_1, y : y_test_set_1})\n",
    "        auc_val_list_5.append(auc_val)\n",
    "    #auc_val_list_1_mean = np.mean(auc_val_list_1)\n",
    "    # , dtype=np.float32\n",
    "    auc_val_5_array = np.array(auc_val_list_5)\n",
    "    auc_val_5_np_mean = np.mean(auc_val_5_array)\n",
    "    #auc_val_list_1"
   ]
  },
  {
   "cell_type": "code",
   "execution_count": 331,
   "metadata": {},
   "outputs": [
    {
     "data": {
      "text/plain": [
       "0.6930291"
      ]
     },
     "execution_count": 331,
     "metadata": {},
     "output_type": "execute_result"
    }
   ],
   "source": [
    "auc_val_5_np_mean "
   ]
  },
  {
   "cell_type": "code",
   "execution_count": 332,
   "metadata": {
    "collapsed": true
   },
   "outputs": [],
   "source": [
    "os.remove(checkpoint_epoch_path_5)"
   ]
  },
  {
   "cell_type": "markdown",
   "metadata": {},
   "source": [
    "Let's group the results."
   ]
  },
  {
   "cell_type": "code",
   "execution_count": 333,
   "metadata": {},
   "outputs": [],
   "source": [
    "tf_mae_list = [mae_val_list_1_mean, mae_val_list_2_mean, mae_val_list_3_mean, mae_val_list_4_mean, mae_val_list_5_mean]\n",
    "#tf_mae_list = ''.join(tf_mae_list)\n",
    "\n",
    "tf_time_list = [time_test_list_1_mean,time_test_list_2_mean,time_test_list_3_mean,time_test_list_4_mean,time_test_list_5_mean]\n",
    "#tf_time_list = ''.join(tf_time_list)\n",
    "\n",
    "tf_hits_list = [hits_val_list_1_mean, hits_val_list_2_mean, hits_val_list_3_mean, hits_val_list_4_mean, hits_val_list_5_mean]\n",
    "#tf_hist_list = ''.join(tf_hist_list)\n",
    "\n",
    "tf_auc_list = [auc_val_1_np_mean, auc_val_2_np_mean, auc_val_3_np_mean, auc_val_4_np_mean, auc_val_5_np_mean ]\n",
    "#tf_auc_list = ''.join(tf_auc_list)"
   ]
  },
  {
   "cell_type": "code",
   "execution_count": 334,
   "metadata": {},
   "outputs": [
    {
     "data": {
      "image/png": "[encoded data removed]",
      "text/plain": [
       "<matplotlib.figure.Figure at 0x7fc6802256d8>"
      ]
     },
     "metadata": {},
     "output_type": "display_data"
    }
   ],
   "source": [
    "plt.figure(figsize=(40, 10)) # ORIGINAL! DO NOT DELETE!\n",
    "#plt.figure(figsize=(10, 40))\n",
    "\n",
    "plt.subplot(143) # ORIGINAL! DO NOT DELETE!\n",
    "#plt.subplot(413)\n",
    "y_hits = tf_mae_list\n",
    "#N = len(y)\n",
    "x_hits = ['mae_val_list_1_mean', 'mae_val_list_2_mean', 'mae_val_list_3_mean', 'mae_val_list_4_mean', 'mae_val_list_5_mean']\n",
    "plt.xticks(rotation = 'vertical')\n",
    "width = 1/1.5\n",
    "plt.bar(x_hits, y_hits, width, color=['black', 'red', 'green', 'blue', 'cyan'])\n",
    "plt.xlabel('Test Sets')\n",
    "plt.ylabel('Mean MAE')\n",
    "plt.title('Bar Plot of Mean MAE for all 5 Test Sets Each Containing 10 Test Sets')\n",
    "\n",
    "plt.subplot(144) # ORIGINAL! DO NOT DELETE\n",
    "#plt.subplot(414)\n",
    "y_hits = tf_time_list\n",
    "#N = len(y)\n",
    "x_hits = ['time_test_list_1_mean', 'time_test_list_2_mean','time_test_list_3_mean','time_test_list_4_mean','time_test_list_5_mean']\n",
    "plt.xticks(rotation = 'vertical')\n",
    "width = 1/1.5\n",
    "plt.bar(x_hits, y_hits, width, color=['black', 'red', 'green', 'blue', 'cyan'])\n",
    "plt.xlabel('Test Sets')\n",
    "plt.ylabel('Mean Time')\n",
    "plt.title('Bar Plot of Mean Evaluation Time for all 5 Test Sets Each Containing 10 Test Sets')\n",
    "\n",
    "plt.subplot(141) # ORIGINAL! DO NOT DELETE\n",
    "#plt.subplot(411)\n",
    "y_hits = tf_hits_list\n",
    "#N = len(y)\n",
    "x_hits = ['hits_val_list_1_mean', 'hits_val_list_2_mean', 'hits_val_list_3_mean', 'hits_val_list_4_mean', 'hits_val_list_5_mean']\n",
    "plt.xticks(rotation = 'vertical')\n",
    "width = 1/1.5\n",
    "plt.bar(x_hits, y_hits, width, color=['black', 'red', 'green', 'blue', 'cyan'])\n",
    "plt.xlabel('Test Sets')\n",
    "plt.ylabel('Mean Hits')\n",
    "plt.title('Bar Plot of Mean Hits for all 5 Test Sets Each Containing 10 Test Sets')\n",
    "\n",
    "\n",
    "plt.subplot(142) # ORIGINAL! DO NOT DELETE\n",
    "#plt.subplot(412)\n",
    "y_hits = tf_auc_list\n",
    "#N = len(y)\n",
    "x_hits = ['auc_val_1_np_mean', 'auc_val_2_np_mean', 'auc_val_3_np_mean', 'auc_val_4_np_mean', 'auc_val_5_np_mean' ]\n",
    "plt.xticks(rotation = 'vertical')\n",
    "width = 1/1.5\n",
    "plt.bar(x_hits, y_hits, width, color=['black', 'red', 'green', 'blue', 'cyan'])\n",
    "plt.xlabel('Test Sets')\n",
    "plt.ylabel('Mean AUC')\n",
    "plt.title('Bar Plot of Mean AUC for all 5 Test Sets Each Containing 10 Test Sets')\n",
    "plt.show()\n",
    "\n",
    "plt.show()"
   ]
  },
  {
   "cell_type": "code",
   "execution_count": 336,
   "metadata": {},
   "outputs": [
    {
     "data": {
      "text/plain": [
       "[0.021074438095092775,\n",
       " 0.005208444595336914,\n",
       " 0.005026006698608398,\n",
       " 0.010346770286560059,\n",
       " 0.005374336242675781]"
      ]
     },
     "execution_count": 336,
     "metadata": {},
     "output_type": "execute_result"
    }
   ],
   "source": [
    "tf_time_list"
   ]
  },
  {
   "cell_type": "markdown",
   "metadata": {},
   "source": [
    "### Let's compare Random Forest and Neural Network\n",
    "\n",
    "## Mean Hits\n",
    "\n",
    "- Random Forest has Mean Hits between 2.5 and 3.5.\n",
    "- Neural Network has Mean Hits between 3.5 and 6.\n",
    "\n",
    "Neural Network wins in this regard\n",
    "\n",
    "## Mean AUC\n",
    "\n",
    "- Random Forest has Mean AUC of around 0.6\n",
    "- Neural Network has Mean AUC between 0.6 and 0.8\n",
    "\n",
    "Neural Network wins in this regard\n",
    "\n",
    "## Mean MAE\n",
    "\n",
    "- Random Forest has Mean MAE of around 0.75\n",
    "- Neural Network has considerably high Mean MAE with values greater than 0.65 peaking at 19.8\n",
    "\n",
    "Random Forest wins in this regard\n",
    "\n",
    "## Mean Time\n",
    "\n",
    "- Random Forest has Mean Time around 0.0005 and 0.015\n",
    "- Neural Network has Mean Time around 0.005 and 0.021\n",
    "\n",
    "Random Forest wins in this regard"
   ]
  },
  {
   "cell_type": "markdown",
   "metadata": {},
   "source": [
    "# Conclusion\n",
    "\n",
    "- Neural Network is the best at:\n",
    " - Hits@10\n",
    " - AUC\n",
    "\n",
    "\n",
    "- Random Forest is the best at:\n",
    " - MAE\n",
    " - Time\n",
    " \n",
    "Given such conflicting results, I would conclude that the Random Forest has better performance as it has lower Mean Absolute Error and Evaluation Time. In addition, Random Forest has MUCH faster training time compared to the DNN which can take more than 6 hours to train the model. Further analysis is needed to determine which model performs in all of 4 evaluation metrics.\n",
    "\n",
    "Fun and educational project indeed."
   ]
  },
  {
   "cell_type": "code",
   "execution_count": null,
   "metadata": {
    "collapsed": true
   },
   "outputs": [],
   "source": []
  }
 ],
 "metadata": {
  "kernelspec": {
   "display_name": "Python 3",
   "language": "python",
   "name": "python3"
  },
  "language_info": {
   "codemirror_mode": {
    "name": "ipython",
    "version": 3
   },
   "file_extension": ".py",
   "mimetype": "text/x-python",
   "name": "python",
   "nbconvert_exporter": "python",
   "pygments_lexer": "ipython3",
   "version": "3.6.3"
  }
 },
 "nbformat": 4,
 "nbformat_minor": 2
}
