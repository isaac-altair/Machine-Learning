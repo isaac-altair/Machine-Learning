{
 "cells": [
  {
   "cell_type": "markdown",
   "metadata": {},
   "source": [
    "### Your name:\n",
    "\n",
    "<pre> Isaac Aktam</pre>\n",
    "\n",
    "### Collaborators:\n",
    "\n",
    "<pre> Ashish Gupta, Konrad Korzeniewski</pre>\n"
   ]
  },
  {
   "cell_type": "markdown",
   "metadata": {},
   "source": [
    "## Assignment for Module 5, Training Models\n",
    "\n",
    "In this assignment you will train different models on a given data set, and find the one that performs best"
   ]
  },
  {
   "cell_type": "markdown",
   "metadata": {},
   "source": [
    "### Getting the data for the assignment (similar to the notebook from chapter 2 of Hands-On...)"
   ]
  },
  {
   "cell_type": "code",
   "execution_count": 2,
   "metadata": {
    "collapsed": true
   },
   "outputs": [],
   "source": [
    "import os\n",
    "import tarfile\n",
    "from six.moves import urllib\n",
    "\n",
    "DOWNLOAD_ROOT = \"https://raw.githubusercontent.com/ageron/handson-ml/master/\"\n",
    "HOUSING_PATH = os.path.join(\"datasets\", \"housing\")\n",
    "HOUSING_URL = DOWNLOAD_ROOT + \"datasets/housing/housing.tgz\"\n",
    "\n",
    "def fetch_housing_data(housing_url=HOUSING_URL, housing_path=HOUSING_PATH):\n",
    "    if not os.path.isdir(housing_path):\n",
    "        os.makedirs(housing_path)\n",
    "    tgz_path = os.path.join(housing_path, \"housing.tgz\")\n",
    "    urllib.request.urlretrieve(housing_url, tgz_path)\n",
    "    housing_tgz = tarfile.open(tgz_path)\n",
    "    housing_tgz.extractall(path=housing_path)\n",
    "    housing_tgz.close()"
   ]
  },
  {
   "cell_type": "code",
   "execution_count": 3,
   "metadata": {
    "collapsed": true
   },
   "outputs": [],
   "source": [
    "fetch_housing_data()"
   ]
  },
  {
   "cell_type": "code",
   "execution_count": 4,
   "metadata": {
    "collapsed": true
   },
   "outputs": [],
   "source": [
    "import pandas as pd\n",
    "\n",
    "def load_housing_data(housing_path=HOUSING_PATH):\n",
    "    csv_path = os.path.join(housing_path, \"housing.csv\")\n",
    "    return pd.read_csv(csv_path)"
   ]
  },
  {
   "cell_type": "code",
   "execution_count": 5,
   "metadata": {
    "collapsed": true
   },
   "outputs": [],
   "source": [
    "housing = load_housing_data()"
   ]
  },
  {
   "cell_type": "markdown",
   "metadata": {},
   "source": [
    "### Fix the categories in the categorical variable"
   ]
  },
  {
   "cell_type": "code",
   "execution_count": 6,
   "metadata": {
    "collapsed": true
   },
   "outputs": [],
   "source": [
    "d = {'<1H OCEAN':'LESS_1H_OCEAN', 'INLAND':'INLAND', 'ISLAND':'ISLAND', 'NEAR BAY':'NEAR_BAY', 'NEAR OCEAN':'NEAR_OCEAN'}\n",
    "housing['ocean_proximity'] = housing['ocean_proximity'].map(lambda s: d[s])"
   ]
  },
  {
   "cell_type": "markdown",
   "metadata": {},
   "source": [
    "### Add 2 more features"
   ]
  },
  {
   "cell_type": "code",
   "execution_count": 7,
   "metadata": {
    "collapsed": true
   },
   "outputs": [],
   "source": [
    "housing[\"rooms_per_household\"] = housing[\"total_rooms\"]/housing[\"households\"]\n",
    "housing[\"population_per_household\"]=housing[\"population\"]/housing[\"households\"]"
   ]
  },
  {
   "cell_type": "markdown",
   "metadata": {},
   "source": [
    "### Fix missing data"
   ]
  },
  {
   "cell_type": "code",
   "execution_count": 8,
   "metadata": {
    "collapsed": true
   },
   "outputs": [],
   "source": [
    "median = housing[\"total_bedrooms\"].median()\n",
    "housing[\"total_bedrooms\"].fillna(median, inplace=True) "
   ]
  },
  {
   "cell_type": "markdown",
   "metadata": {},
   "source": [
    "### Create dummy variables based on the categorical variable"
   ]
  },
  {
   "cell_type": "code",
   "execution_count": 9,
   "metadata": {
    "collapsed": true
   },
   "outputs": [],
   "source": [
    "one_hot = pd.get_dummies(housing['ocean_proximity'])\n",
    "housing = housing.drop('ocean_proximity', axis=1)\n",
    "housing = housing.join(one_hot)"
   ]
  },
  {
   "cell_type": "markdown",
   "metadata": {},
   "source": [
    "### Check the data"
   ]
  },
  {
   "cell_type": "code",
   "execution_count": 10,
   "metadata": {},
   "outputs": [
    {
     "name": "stdout",
     "output_type": "stream",
     "text": [
      "<class 'pandas.core.frame.DataFrame'>\n",
      "RangeIndex: 20640 entries, 0 to 20639\n",
      "Data columns (total 16 columns):\n",
      "longitude                   20640 non-null float64\n",
      "latitude                    20640 non-null float64\n",
      "housing_median_age          20640 non-null float64\n",
      "total_rooms                 20640 non-null float64\n",
      "total_bedrooms              20640 non-null float64\n",
      "population                  20640 non-null float64\n",
      "households                  20640 non-null float64\n",
      "median_income               20640 non-null float64\n",
      "median_house_value          20640 non-null float64\n",
      "rooms_per_household         20640 non-null float64\n",
      "population_per_household    20640 non-null float64\n",
      "INLAND                      20640 non-null uint8\n",
      "ISLAND                      20640 non-null uint8\n",
      "LESS_1H_OCEAN               20640 non-null uint8\n",
      "NEAR_BAY                    20640 non-null uint8\n",
      "NEAR_OCEAN                  20640 non-null uint8\n",
      "dtypes: float64(11), uint8(5)\n",
      "memory usage: 1.8 MB\n"
     ]
    }
   ],
   "source": [
    "housing.info()"
   ]
  },
  {
   "cell_type": "markdown",
   "metadata": {},
   "source": [
    "# ASSIGNMENT"
   ]
  },
  {
   "cell_type": "markdown",
   "metadata": {},
   "source": [
    "### 1. Partition into train and test\n",
    "\n",
    "Use train_test_split from sklearn.model_selection to partition the dataset into 70% for training and 30% for testing.\n",
    "\n",
    "You can use the 70% for training set as both training and validation by using cross-validation.\n"
   ]
  },
  {
   "cell_type": "code",
   "execution_count": 11,
   "metadata": {
    "collapsed": true
   },
   "outputs": [],
   "source": [
    "from sklearn.model_selection import train_test_split\n",
    "train_set, test_set = train_test_split(housing, test_size = 0.3, random_state = 42)## YOUR CODE HERE ## REMEMBER TO INCLUDE THE RANDOM STATE = 42\n",
    "\n",
    "# Do we use the stratified sampling?"
   ]
  },
  {
   "cell_type": "markdown",
   "metadata": {},
   "source": [
    "### Features"
   ]
  },
  {
   "cell_type": "code",
   "execution_count": 12,
   "metadata": {
    "collapsed": true
   },
   "outputs": [],
   "source": [
    "target = 'median_house_value'\n",
    "features = list(train_set.columns)\n",
    "features = [f for f in features if f!=target]"
   ]
  },
  {
   "cell_type": "code",
   "execution_count": 13,
   "metadata": {},
   "outputs": [
    {
     "data": {
      "text/plain": [
       "['longitude',\n",
       " 'latitude',\n",
       " 'housing_median_age',\n",
       " 'total_rooms',\n",
       " 'total_bedrooms',\n",
       " 'population',\n",
       " 'households',\n",
       " 'median_income',\n",
       " 'rooms_per_household',\n",
       " 'population_per_household',\n",
       " 'INLAND',\n",
       " 'ISLAND',\n",
       " 'LESS_1H_OCEAN',\n",
       " 'NEAR_BAY',\n",
       " 'NEAR_OCEAN']"
      ]
     },
     "execution_count": 13,
     "metadata": {},
     "output_type": "execute_result"
    }
   ],
   "source": [
    "features"
   ]
  },
  {
   "cell_type": "code",
   "execution_count": 14,
   "metadata": {
    "collapsed": true
   },
   "outputs": [],
   "source": [
    "X_tr = train_set[features]\n",
    "y_tr = train_set[[target]]\n",
    "\n",
    "X_te = test_set[features]\n",
    "y_te = test_set[[target]]"
   ]
  },
  {
   "cell_type": "markdown",
   "metadata": {},
   "source": [
    "### 2. Polynomial transformations"
   ]
  },
  {
   "cell_type": "markdown",
   "metadata": {},
   "source": [
    "Use PolynomialFeatures from sklearn.preprocessing"
   ]
  },
  {
   "cell_type": "code",
   "execution_count": 15,
   "metadata": {
    "collapsed": true
   },
   "outputs": [],
   "source": [
    "from sklearn.preprocessing import PolynomialFeatures\n",
    "poly = PolynomialFeatures(2)\n",
    "poly.fit(X_tr)\n",
    "X_tr = poly.fit_transform(X_tr)## YOUR CODE HERE ##\n",
    "X_te = poly.transform(X_te)## YOUR CODE HERE ##"
   ]
  },
  {
   "cell_type": "code",
   "execution_count": 16,
   "metadata": {},
   "outputs": [
    {
     "data": {
      "text/plain": [
       "['1',\n",
       " 'longitude',\n",
       " 'latitude',\n",
       " 'housing_median_age',\n",
       " 'total_rooms',\n",
       " 'total_bedrooms',\n",
       " 'population',\n",
       " 'households',\n",
       " 'median_income',\n",
       " 'rooms_per_household',\n",
       " 'population_per_household',\n",
       " 'INLAND',\n",
       " 'ISLAND',\n",
       " 'LESS_1H_OCEAN',\n",
       " 'NEAR_BAY',\n",
       " 'NEAR_OCEAN',\n",
       " 'longitude^2',\n",
       " 'longitude latitude',\n",
       " 'longitude housing_median_age',\n",
       " 'longitude total_rooms',\n",
       " 'longitude total_bedrooms',\n",
       " 'longitude population',\n",
       " 'longitude households',\n",
       " 'longitude median_income',\n",
       " 'longitude rooms_per_household',\n",
       " 'longitude population_per_household',\n",
       " 'longitude INLAND',\n",
       " 'longitude ISLAND',\n",
       " 'longitude LESS_1H_OCEAN',\n",
       " 'longitude NEAR_BAY',\n",
       " 'longitude NEAR_OCEAN',\n",
       " 'latitude^2',\n",
       " 'latitude housing_median_age',\n",
       " 'latitude total_rooms',\n",
       " 'latitude total_bedrooms',\n",
       " 'latitude population',\n",
       " 'latitude households',\n",
       " 'latitude median_income',\n",
       " 'latitude rooms_per_household',\n",
       " 'latitude population_per_household',\n",
       " 'latitude INLAND',\n",
       " 'latitude ISLAND',\n",
       " 'latitude LESS_1H_OCEAN',\n",
       " 'latitude NEAR_BAY',\n",
       " 'latitude NEAR_OCEAN',\n",
       " 'housing_median_age^2',\n",
       " 'housing_median_age total_rooms',\n",
       " 'housing_median_age total_bedrooms',\n",
       " 'housing_median_age population',\n",
       " 'housing_median_age households',\n",
       " 'housing_median_age median_income',\n",
       " 'housing_median_age rooms_per_household',\n",
       " 'housing_median_age population_per_household',\n",
       " 'housing_median_age INLAND',\n",
       " 'housing_median_age ISLAND',\n",
       " 'housing_median_age LESS_1H_OCEAN',\n",
       " 'housing_median_age NEAR_BAY',\n",
       " 'housing_median_age NEAR_OCEAN',\n",
       " 'total_rooms^2',\n",
       " 'total_rooms total_bedrooms',\n",
       " 'total_rooms population',\n",
       " 'total_rooms households',\n",
       " 'total_rooms median_income',\n",
       " 'total_rooms rooms_per_household',\n",
       " 'total_rooms population_per_household',\n",
       " 'total_rooms INLAND',\n",
       " 'total_rooms ISLAND',\n",
       " 'total_rooms LESS_1H_OCEAN',\n",
       " 'total_rooms NEAR_BAY',\n",
       " 'total_rooms NEAR_OCEAN',\n",
       " 'total_bedrooms^2',\n",
       " 'total_bedrooms population',\n",
       " 'total_bedrooms households',\n",
       " 'total_bedrooms median_income',\n",
       " 'total_bedrooms rooms_per_household',\n",
       " 'total_bedrooms population_per_household',\n",
       " 'total_bedrooms INLAND',\n",
       " 'total_bedrooms ISLAND',\n",
       " 'total_bedrooms LESS_1H_OCEAN',\n",
       " 'total_bedrooms NEAR_BAY',\n",
       " 'total_bedrooms NEAR_OCEAN',\n",
       " 'population^2',\n",
       " 'population households',\n",
       " 'population median_income',\n",
       " 'population rooms_per_household',\n",
       " 'population population_per_household',\n",
       " 'population INLAND',\n",
       " 'population ISLAND',\n",
       " 'population LESS_1H_OCEAN',\n",
       " 'population NEAR_BAY',\n",
       " 'population NEAR_OCEAN',\n",
       " 'households^2',\n",
       " 'households median_income',\n",
       " 'households rooms_per_household',\n",
       " 'households population_per_household',\n",
       " 'households INLAND',\n",
       " 'households ISLAND',\n",
       " 'households LESS_1H_OCEAN',\n",
       " 'households NEAR_BAY',\n",
       " 'households NEAR_OCEAN',\n",
       " 'median_income^2',\n",
       " 'median_income rooms_per_household',\n",
       " 'median_income population_per_household',\n",
       " 'median_income INLAND',\n",
       " 'median_income ISLAND',\n",
       " 'median_income LESS_1H_OCEAN',\n",
       " 'median_income NEAR_BAY',\n",
       " 'median_income NEAR_OCEAN',\n",
       " 'rooms_per_household^2',\n",
       " 'rooms_per_household population_per_household',\n",
       " 'rooms_per_household INLAND',\n",
       " 'rooms_per_household ISLAND',\n",
       " 'rooms_per_household LESS_1H_OCEAN',\n",
       " 'rooms_per_household NEAR_BAY',\n",
       " 'rooms_per_household NEAR_OCEAN',\n",
       " 'population_per_household^2',\n",
       " 'population_per_household INLAND',\n",
       " 'population_per_household ISLAND',\n",
       " 'population_per_household LESS_1H_OCEAN',\n",
       " 'population_per_household NEAR_BAY',\n",
       " 'population_per_household NEAR_OCEAN',\n",
       " 'INLAND^2',\n",
       " 'INLAND ISLAND',\n",
       " 'INLAND LESS_1H_OCEAN',\n",
       " 'INLAND NEAR_BAY',\n",
       " 'INLAND NEAR_OCEAN',\n",
       " 'ISLAND^2',\n",
       " 'ISLAND LESS_1H_OCEAN',\n",
       " 'ISLAND NEAR_BAY',\n",
       " 'ISLAND NEAR_OCEAN',\n",
       " 'LESS_1H_OCEAN^2',\n",
       " 'LESS_1H_OCEAN NEAR_BAY',\n",
       " 'LESS_1H_OCEAN NEAR_OCEAN',\n",
       " 'NEAR_BAY^2',\n",
       " 'NEAR_BAY NEAR_OCEAN',\n",
       " 'NEAR_OCEAN^2']"
      ]
     },
     "execution_count": 16,
     "metadata": {},
     "output_type": "execute_result"
    }
   ],
   "source": [
    "# Let's get the names of all the 136 features as we would need to isolate the categorical featues for further analysis\n",
    "\n",
    "import numpy as np\n",
    "\n",
    "array_of_features = np.array(features)\n",
    "feature_names_transformed = poly.get_feature_names(array_of_features)\n",
    "feature_names_transformed"
   ]
  },
  {
   "cell_type": "code",
   "execution_count": 17,
   "metadata": {},
   "outputs": [
    {
     "data": {
      "text/plain": [
       "(136,)"
      ]
     },
     "execution_count": 17,
     "metadata": {},
     "output_type": "execute_result"
    }
   ],
   "source": [
    "np.array(feature_names_transformed).shape"
   ]
  },
  {
   "cell_type": "code",
   "execution_count": 18,
   "metadata": {
    "collapsed": true
   },
   "outputs": [],
   "source": [
    "# Let's get the location of each of the squared categorical variable\n",
    "\n",
    "list_of_cat_vars = ['INLAND', 'ISLAND', 'LESS_1H_OCEAN', 'NEAR_BAY', 'NEAR_OCEAN', \n",
    "                    'INLAND ISLAND', 'INLAND LESS_1H_OCEAN', 'INLAND NEAR_BAY', 'INLAND NEAR_OCEAN',\n",
    "                    'ISLAND LESS_1H_OCEAN', 'ISLAND NEAR_BAY', 'ISLAND NEAR_OCEAN',\n",
    "                    'LESS_1H_OCEAN NEAR_BAY', 'LESS_1H_OCEAN NEAR_OCEAN',\n",
    "                    'NEAR_BAY NEAR_OCEAN',\n",
    "                    'INLAND^2', 'ISLAND^2', 'LESS_1H_OCEAN^2', 'NEAR_BAY^2', 'NEAR_OCEAN^2']\n",
    "\n",
    "indexes_of_cat_vars = [feature_names_transformed.index(item) for item in list_of_cat_vars]\n",
    "# [11, 12, 13, 14, 15, 122, 123, 124, 125, 127, 128, 129, 131, 132, 134, 121, 126, 130, 133, 135]"
   ]
  },
  {
   "cell_type": "markdown",
   "metadata": {},
   "source": [
    "##### You should obtain X_tr and X_te with 136 columns each, since originally you had 15 features.\n",
    "\n",
    "##### With m original features, the new added polynomial features of degree 2 are: $(m^2-m)/2+m+1$. Why?\n",
    "\n",
    "##### These, plus the original features gives a total of  $(m^2-m)/2+2m+1$"
   ]
  },
  {
   "cell_type": "markdown",
   "metadata": {},
   "source": [
    "##### PolynomialFeatures(degree=d) transforms an array containing n features into an array containing $(n+d)!/(d!n!)$ features"
   ]
  },
  {
   "cell_type": "code",
   "execution_count": 19,
   "metadata": {},
   "outputs": [
    {
     "name": "stdout",
     "output_type": "stream",
     "text": [
      "Original number of features: 15\n",
      "Final number of features: 136\n"
     ]
    }
   ],
   "source": [
    "print(\"Original number of features: \"+str(len(features)))\n",
    "print(\"Final number of features: \"+str(X_tr.shape[1]))"
   ]
  },
  {
   "cell_type": "markdown",
   "metadata": {},
   "source": [
    "### 3. Scaling features"
   ]
  },
  {
   "cell_type": "markdown",
   "metadata": {},
   "source": [
    "Similarly, use StandardScaler from sklearn.preprocessing to normalize the training and testing data, using the training data"
   ]
  },
  {
   "cell_type": "code",
   "execution_count": 20,
   "metadata": {
    "collapsed": true
   },
   "outputs": [],
   "source": [
    "#Hold on to this for now, I want to try something else\n",
    "\n",
    "from sklearn.pipeline import Pipeline\n",
    "from sklearn.pipeline import FeatureUnion\n",
    "from sklearn.preprocessing import StandardScaler\n",
    "from sklearn.base import BaseEstimator, TransformerMixin\n",
    "\n",
    "# There is nothing in Scikit-Learn to handle Pandas DataFrames, so we need to write a custom transformer for this\n",
    "# task\n",
    "\n",
    "# DataFrameSelector is correct\n",
    "\n",
    "indexes_of_X_tr = [0, 1, 2, 3, 4, 5, 6, 7, 8, 9, 10, 11, 12, 13, 14, 15, 16, 17, 18, 19, 20, 21, 22, 23, 24, 25, \n",
    "                     26, 27, 28, 29, 30,  31, 32, 33, 34, 35, 36, 37, 38, 39, 40, 41, 42, 43, 44, 45, 46, 47, 48, \n",
    "                     49, 50, 51, 52, 53, 54, 55, 56, 57, 58, 59, 60, 61, 62, 63, 64, 65, 66, 67, 68, 69, 70, 71, \n",
    "                     72, 73, 74, 75, 76, 77, 78, 79, 80, 81, 82, 83, 84, 85, 86,  87, 88, 89, 90, 91, 92, 93, \n",
    "                     94, 95, 96, 97, 98, 99, 100, 101, 102, 103, 104, 105, 106, 107, 108, 109, 110, 111, \n",
    "                     112, 113, 114, 115, 116, 117, 118, 119, 120, 122, 123, 124, 125, 127, 128, 129, \n",
    "                     131, 132, 134, 135]\n",
    "\n",
    "cat_attribs = [11, 12, 13, 14, 15, 121, 122, 123, 124, 125, 126, 127, 128, 129, 130, 131, 132, 133, 134, 135]\n",
    "#cat_attribs = list(map(str, list_of_cat_indexes)) # integers are transformend into strings; to be used in dataframe\n",
    "\n",
    "# Transform X_tr and X_te into pandas dataframe\n",
    "\n",
    "X_tr = pd.DataFrame(X_tr)\n",
    "X_te = pd.DataFrame(X_te)\n",
    "\n",
    "# Create the pipelines\n",
    "\n",
    "class DataFrameSelector(BaseEstimator, TransformerMixin):\n",
    "    def __init__(self, attribute_names):\n",
    "        self.attribute_names = attribute_names\n",
    "    def fit(self, X, y = None):\n",
    "        return self\n",
    "    def transform(self, X):\n",
    "        return X[self.attribute_names].values    \n",
    "    \n",
    "num_data = X_tr.drop(cat_attribs, axis = 1)\n",
    "\n",
    "num_attribs = list(num_data)\n",
    "\n",
    "num_pipeline = Pipeline([('selector', DataFrameSelector(num_attribs)),\n",
    "                         ('std_scaler', StandardScaler())])\n",
    "\n",
    "\n",
    "cat_pipeline = Pipeline([('selector', DataFrameSelector(cat_attribs))])\n",
    "\n",
    "full_pipeline = FeatureUnion([(\"num_pipeline\", num_pipeline), \n",
    "                              (\"cat_pipeline\", cat_pipeline)])"
   ]
  },
  {
   "cell_type": "code",
   "execution_count": 21,
   "metadata": {
    "collapsed": true
   },
   "outputs": [],
   "source": [
    "X_train_trans = full_pipeline.fit_transform(X_tr) # Transform the X_tr values\n",
    "\n",
    "X_test_trans = full_pipeline.transform(X_te) # Transform the X_te values\n",
    "\n",
    "from sklearn.preprocessing import StandardScaler\n",
    "num_pipeline = Pipeline([('std_scaler', StandardScaler())])\n",
    "\n",
    "y_train_trans = num_pipeline.fit_transform(y_tr) # Transform the y_tr values\n",
    "y_test_trans = num_pipeline.transform(y_te) # Transform the y_te values"
   ]
  },
  {
   "cell_type": "markdown",
   "metadata": {},
   "source": [
    "#### Comparing models"
   ]
  },
  {
   "cell_type": "code",
   "execution_count": 22,
   "metadata": {
    "collapsed": true
   },
   "outputs": [],
   "source": [
    "from sklearn.model_selection import cross_val_score\n",
    "from sklearn.model_selection import GridSearchCV\n",
    "import numpy as np\n",
    "\n",
    "def display_scores(scores):\n",
    "    print(\"Scores:\", scores)\n",
    "    print(\"Mean:\", scores.mean())"
   ]
  },
  {
   "cell_type": "markdown",
   "metadata": {},
   "source": [
    "### 4. Linear regression on original features (no transformations) --- benchmark\n",
    "\n",
    "#### Your goal is to find the model that minimizes the rmse score"
   ]
  },
  {
   "cell_type": "code",
   "execution_count": 23,
   "metadata": {},
   "outputs": [
    {
     "name": "stdout",
     "output_type": "stream",
     "text": [
      "Scores: [70142.55721218 67456.39127204 67318.3258893  70866.26065275]\n",
      "Mean: 68945.88375656825\n"
     ]
    }
   ],
   "source": [
    "from sklearn.linear_model import LinearRegression\n",
    "lin_scores = cross_val_score(LinearRegression(), train_set[features], train_set[target], scoring=\"neg_mean_squared_error\", cv=4)\n",
    "lin_rmse_scores = np.sqrt(-lin_scores)\n",
    "display_scores(lin_rmse_scores)"
   ]
  },
  {
   "cell_type": "markdown",
   "metadata": {},
   "source": [
    "### 5. Linear regression  (on transformed features: polynomial transformation + scaling)"
   ]
  },
  {
   "cell_type": "markdown",
   "metadata": {},
   "source": [
    "Now do as in 4 but with the original and transformed features (136 features)"
   ]
  },
  {
   "cell_type": "code",
   "execution_count": 24,
   "metadata": {},
   "outputs": [
    {
     "name": "stdout",
     "output_type": "stream",
     "text": [
      "Scores: [3.55940432e+09 9.16652461e+09 1.14155948e+09 1.86803676e+11]\n",
      "Mean: 50167791197.25261\n"
     ]
    }
   ],
   "source": [
    "from sklearn.linear_model import LinearRegression ## YOUR CODE HERE ##\n",
    "lin_scores = cross_val_score(LinearRegression(), X_train_trans, y_train_trans, scoring=\"neg_mean_squared_error\", cv=4) ## YOUR CODE HERE ##\n",
    "lin_rmse_scores = np.sqrt(-lin_scores) ## YOUR CODE HERE ##\n",
    "display_scores(lin_rmse_scores) ## YOUR CODE HERE ##"
   ]
  },
  {
   "cell_type": "markdown",
   "metadata": {},
   "source": [
    "If the error on the cross-validation is too high it is because the model is over-fitting. Regularization is needed."
   ]
  },
  {
   "cell_type": "markdown",
   "metadata": {},
   "source": [
    "### 6. Ridge regression"
   ]
  },
  {
   "cell_type": "code",
   "execution_count": 25,
   "metadata": {},
   "outputs": [
    {
     "data": {
      "text/plain": [
       "GridSearchCV(cv=3, error_score='raise',\n",
       "       estimator=Ridge(alpha=1.0, copy_X=True, fit_intercept=True, max_iter=None,\n",
       "   normalize=False, random_state=None, solver='auto', tol=0.001),\n",
       "       fit_params=None, iid=True, n_jobs=1,\n",
       "       param_grid=[{'alpha': [0.001, 0.01, 0.1, 1, 10, 100, 1000, 1000]}],\n",
       "       pre_dispatch='2*n_jobs', refit=True, return_train_score='warn',\n",
       "       scoring='neg_mean_squared_error', verbose=0)"
      ]
     },
     "execution_count": 25,
     "metadata": {},
     "output_type": "execute_result"
    }
   ],
   "source": [
    "from sklearn.linear_model import Ridge\n",
    "param_grid = [{'alpha': [0.001,0.01,0.1,1,10,100,1000,1000]}]\n",
    "grid_search_rr = GridSearchCV(Ridge(), param_grid, cv=3, scoring='neg_mean_squared_error')\n",
    "grid_search_rr.fit(X_train_trans, y_train_trans)"
   ]
  },
  {
   "cell_type": "markdown",
   "metadata": {},
   "source": [
    "GridSearchCV(cv=3, error_score='raise',\n",
    "       estimator=Ridge(alpha=1.0, copy_X=True, fit_intercept=True, max_iter=None,\n",
    "   normalize=False, random_state=None, solver='auto', tol=0.001),\n",
    "       fit_params=None, iid=True, n_jobs=1,\n",
    "       param_grid=[{'alpha': [0.001, 0.01, 0.1, 1, 10, 100, 1000, 1000]}],\n",
    "       pre_dispatch='2*n_jobs', refit=True, return_train_score='warn',\n",
    "       scoring='neg_mean_squared_error', verbose=0)\n",
    "\n",
    "{'alpha': 1000}\n",
    "0.580781678141058"
   ]
  },
  {
   "cell_type": "code",
   "execution_count": 26,
   "metadata": {},
   "outputs": [
    {
     "name": "stdout",
     "output_type": "stream",
     "text": [
      "{'alpha': 1000}\n",
      "0.580781678141058\n"
     ]
    }
   ],
   "source": [
    "print(grid_search_rr.best_params_)\n",
    "print(np.sqrt(-grid_search_rr.best_score_))"
   ]
  },
  {
   "cell_type": "markdown",
   "metadata": {},
   "source": [
    "### 7. Lasso regression\n",
    "\n",
    "Now do the same as in 6 but with Lasso"
   ]
  },
  {
   "cell_type": "code",
   "execution_count": 27,
   "metadata": {},
   "outputs": [
    {
     "name": "stderr",
     "output_type": "stream",
     "text": [
      "/home/isaac/anaconda3/lib/python3.6/site-packages/sklearn/linear_model/coordinate_descent.py:491: ConvergenceWarning: Objective did not converge. You might want to increase the number of iterations. Fitting data with very small alpha may cause precision problems.\n",
      "  ConvergenceWarning)\n",
      "/home/isaac/anaconda3/lib/python3.6/site-packages/sklearn/linear_model/coordinate_descent.py:491: ConvergenceWarning: Objective did not converge. You might want to increase the number of iterations. Fitting data with very small alpha may cause precision problems.\n",
      "  ConvergenceWarning)\n",
      "/home/isaac/anaconda3/lib/python3.6/site-packages/sklearn/linear_model/coordinate_descent.py:491: ConvergenceWarning: Objective did not converge. You might want to increase the number of iterations. Fitting data with very small alpha may cause precision problems.\n",
      "  ConvergenceWarning)\n"
     ]
    },
    {
     "data": {
      "text/plain": [
       "GridSearchCV(cv=3, error_score='raise',\n",
       "       estimator=Lasso(alpha=1.0, copy_X=True, fit_intercept=True, max_iter=1000,\n",
       "   normalize=False, positive=False, precompute=False, random_state=None,\n",
       "   selection='cyclic', tol=0.0001, warm_start=False),\n",
       "       fit_params=None, iid=True, n_jobs=1,\n",
       "       param_grid=[{'alpha': [0.001, 0.01, 0.1, 1, 10, 100, 1000, 1000]}],\n",
       "       pre_dispatch='2*n_jobs', refit=True, return_train_score='warn',\n",
       "       scoring='neg_mean_squared_error', verbose=0)"
      ]
     },
     "execution_count": 27,
     "metadata": {},
     "output_type": "execute_result"
    }
   ],
   "source": [
    "from sklearn.linear_model import Lasso ## YOUR CODE HERE ##\n",
    "param_grid = [{'alpha': [0.001,0.01,0.1,1,10,100,1000,1000]}] ## YOUR CODE HERE ##\n",
    "grid_search_lasso = GridSearchCV(Lasso(), param_grid, cv=3, scoring='neg_mean_squared_error') ## YOUR CODE HERE ##\n",
    "grid_search_lasso.fit(X_train_trans, y_train_trans)## YOUR CODE HERE ##"
   ]
  },
  {
   "cell_type": "markdown",
   "metadata": {},
   "source": [
    "GridSearchCV(cv=3, error_score='raise',\n",
    "       estimator=Lasso(alpha=1.0, copy_X=True, fit_intercept=True, max_iter=1000,\n",
    "   normalize=False, positive=False, precompute=False, random_state=None,\n",
    "   selection='cyclic', tol=0.0001, warm_start=False),\n",
    "       fit_params=None, iid=True, n_jobs=1,\n",
    "       param_grid=[{'alpha': [0.001, 0.01, 0.1, 1, 10, 100, 1000, 1000]}],\n",
    "       pre_dispatch='2*n_jobs', refit=True, return_train_score='warn',\n",
    "       scoring='neg_mean_squared_error', verbose=0)     "
   ]
  },
  {
   "cell_type": "code",
   "execution_count": 28,
   "metadata": {},
   "outputs": [
    {
     "name": "stdout",
     "output_type": "stream",
     "text": [
      "{'alpha': 0.01}\n",
      "0.5786197997217288\n"
     ]
    }
   ],
   "source": [
    "print(grid_search_lasso.best_params_) ## YOUR CODE HERE ##\n",
    "print(np.sqrt(-grid_search_lasso.best_score_)) ## YOUR CODE HERE ##"
   ]
  },
  {
   "cell_type": "markdown",
   "metadata": {},
   "source": [
    "{'alpha': 0.01}\n",
    "\n",
    "0.5786197997217292"
   ]
  },
  {
   "cell_type": "markdown",
   "metadata": {},
   "source": [
    "### 8. Elastic Net regression\n",
    "\n",
    "Do the same as in 6 and 7, but now with Elastic Net. However, the grid search should be over the parameters alpha and  l 1ratio. Use just 3 values for l1_ratio."
   ]
  },
  {
   "cell_type": "code",
   "execution_count": 29,
   "metadata": {},
   "outputs": [
    {
     "name": "stderr",
     "output_type": "stream",
     "text": [
      "/home/isaac/anaconda3/lib/python3.6/site-packages/sklearn/linear_model/coordinate_descent.py:491: ConvergenceWarning: Objective did not converge. You might want to increase the number of iterations. Fitting data with very small alpha may cause precision problems.\n",
      "  ConvergenceWarning)\n",
      "/home/isaac/anaconda3/lib/python3.6/site-packages/sklearn/linear_model/coordinate_descent.py:491: ConvergenceWarning: Objective did not converge. You might want to increase the number of iterations. Fitting data with very small alpha may cause precision problems.\n",
      "  ConvergenceWarning)\n",
      "/home/isaac/anaconda3/lib/python3.6/site-packages/sklearn/linear_model/coordinate_descent.py:491: ConvergenceWarning: Objective did not converge. You might want to increase the number of iterations. Fitting data with very small alpha may cause precision problems.\n",
      "  ConvergenceWarning)\n",
      "/home/isaac/anaconda3/lib/python3.6/site-packages/sklearn/linear_model/coordinate_descent.py:491: ConvergenceWarning: Objective did not converge. You might want to increase the number of iterations. Fitting data with very small alpha may cause precision problems.\n",
      "  ConvergenceWarning)\n",
      "/home/isaac/anaconda3/lib/python3.6/site-packages/sklearn/linear_model/coordinate_descent.py:491: ConvergenceWarning: Objective did not converge. You might want to increase the number of iterations. Fitting data with very small alpha may cause precision problems.\n",
      "  ConvergenceWarning)\n",
      "/home/isaac/anaconda3/lib/python3.6/site-packages/sklearn/linear_model/coordinate_descent.py:491: ConvergenceWarning: Objective did not converge. You might want to increase the number of iterations. Fitting data with very small alpha may cause precision problems.\n",
      "  ConvergenceWarning)\n",
      "/home/isaac/anaconda3/lib/python3.6/site-packages/sklearn/linear_model/coordinate_descent.py:491: ConvergenceWarning: Objective did not converge. You might want to increase the number of iterations. Fitting data with very small alpha may cause precision problems.\n",
      "  ConvergenceWarning)\n",
      "/home/isaac/anaconda3/lib/python3.6/site-packages/sklearn/linear_model/coordinate_descent.py:491: ConvergenceWarning: Objective did not converge. You might want to increase the number of iterations. Fitting data with very small alpha may cause precision problems.\n",
      "  ConvergenceWarning)\n",
      "/home/isaac/anaconda3/lib/python3.6/site-packages/sklearn/linear_model/coordinate_descent.py:491: ConvergenceWarning: Objective did not converge. You might want to increase the number of iterations. Fitting data with very small alpha may cause precision problems.\n",
      "  ConvergenceWarning)\n",
      "/home/isaac/anaconda3/lib/python3.6/site-packages/sklearn/linear_model/coordinate_descent.py:491: ConvergenceWarning: Objective did not converge. You might want to increase the number of iterations. Fitting data with very small alpha may cause precision problems.\n",
      "  ConvergenceWarning)\n",
      "/home/isaac/anaconda3/lib/python3.6/site-packages/sklearn/linear_model/coordinate_descent.py:491: ConvergenceWarning: Objective did not converge. You might want to increase the number of iterations. Fitting data with very small alpha may cause precision problems.\n",
      "  ConvergenceWarning)\n",
      "/home/isaac/anaconda3/lib/python3.6/site-packages/sklearn/linear_model/coordinate_descent.py:491: ConvergenceWarning: Objective did not converge. You might want to increase the number of iterations. Fitting data with very small alpha may cause precision problems.\n",
      "  ConvergenceWarning)\n",
      "/home/isaac/anaconda3/lib/python3.6/site-packages/sklearn/linear_model/coordinate_descent.py:491: ConvergenceWarning: Objective did not converge. You might want to increase the number of iterations. Fitting data with very small alpha may cause precision problems.\n",
      "  ConvergenceWarning)\n",
      "/home/isaac/anaconda3/lib/python3.6/site-packages/sklearn/linear_model/coordinate_descent.py:491: ConvergenceWarning: Objective did not converge. You might want to increase the number of iterations. Fitting data with very small alpha may cause precision problems.\n",
      "  ConvergenceWarning)\n",
      "/home/isaac/anaconda3/lib/python3.6/site-packages/sklearn/linear_model/coordinate_descent.py:491: ConvergenceWarning: Objective did not converge. You might want to increase the number of iterations. Fitting data with very small alpha may cause precision problems.\n",
      "  ConvergenceWarning)\n",
      "/home/isaac/anaconda3/lib/python3.6/site-packages/sklearn/linear_model/coordinate_descent.py:491: ConvergenceWarning: Objective did not converge. You might want to increase the number of iterations. Fitting data with very small alpha may cause precision problems.\n",
      "  ConvergenceWarning)\n",
      "/home/isaac/anaconda3/lib/python3.6/site-packages/sklearn/linear_model/coordinate_descent.py:491: ConvergenceWarning: Objective did not converge. You might want to increase the number of iterations. Fitting data with very small alpha may cause precision problems.\n",
      "  ConvergenceWarning)\n",
      "/home/isaac/anaconda3/lib/python3.6/site-packages/sklearn/linear_model/coordinate_descent.py:491: ConvergenceWarning: Objective did not converge. You might want to increase the number of iterations. Fitting data with very small alpha may cause precision problems.\n",
      "  ConvergenceWarning)\n",
      "/home/isaac/anaconda3/lib/python3.6/site-packages/sklearn/linear_model/coordinate_descent.py:491: ConvergenceWarning: Objective did not converge. You might want to increase the number of iterations. Fitting data with very small alpha may cause precision problems.\n",
      "  ConvergenceWarning)\n",
      "/home/isaac/anaconda3/lib/python3.6/site-packages/sklearn/linear_model/coordinate_descent.py:491: ConvergenceWarning: Objective did not converge. You might want to increase the number of iterations. Fitting data with very small alpha may cause precision problems.\n",
      "  ConvergenceWarning)\n",
      "/home/isaac/anaconda3/lib/python3.6/site-packages/sklearn/linear_model/coordinate_descent.py:491: ConvergenceWarning: Objective did not converge. You might want to increase the number of iterations. Fitting data with very small alpha may cause precision problems.\n",
      "  ConvergenceWarning)\n",
      "/home/isaac/anaconda3/lib/python3.6/site-packages/sklearn/linear_model/coordinate_descent.py:491: ConvergenceWarning: Objective did not converge. You might want to increase the number of iterations. Fitting data with very small alpha may cause precision problems.\n",
      "  ConvergenceWarning)\n",
      "/home/isaac/anaconda3/lib/python3.6/site-packages/sklearn/linear_model/coordinate_descent.py:491: ConvergenceWarning: Objective did not converge. You might want to increase the number of iterations. Fitting data with very small alpha may cause precision problems.\n",
      "  ConvergenceWarning)\n",
      "/home/isaac/anaconda3/lib/python3.6/site-packages/sklearn/linear_model/coordinate_descent.py:491: ConvergenceWarning: Objective did not converge. You might want to increase the number of iterations. Fitting data with very small alpha may cause precision problems.\n",
      "  ConvergenceWarning)\n",
      "/home/isaac/anaconda3/lib/python3.6/site-packages/sklearn/linear_model/coordinate_descent.py:491: ConvergenceWarning: Objective did not converge. You might want to increase the number of iterations. Fitting data with very small alpha may cause precision problems.\n",
      "  ConvergenceWarning)\n",
      "/home/isaac/anaconda3/lib/python3.6/site-packages/sklearn/linear_model/coordinate_descent.py:491: ConvergenceWarning: Objective did not converge. You might want to increase the number of iterations. Fitting data with very small alpha may cause precision problems.\n",
      "  ConvergenceWarning)\n",
      "/home/isaac/anaconda3/lib/python3.6/site-packages/sklearn/linear_model/coordinate_descent.py:491: ConvergenceWarning: Objective did not converge. You might want to increase the number of iterations. Fitting data with very small alpha may cause precision problems.\n",
      "  ConvergenceWarning)\n",
      "/home/isaac/anaconda3/lib/python3.6/site-packages/sklearn/linear_model/coordinate_descent.py:491: ConvergenceWarning: Objective did not converge. You might want to increase the number of iterations. Fitting data with very small alpha may cause precision problems.\n",
      "  ConvergenceWarning)\n",
      "/home/isaac/anaconda3/lib/python3.6/site-packages/sklearn/linear_model/coordinate_descent.py:491: ConvergenceWarning: Objective did not converge. You might want to increase the number of iterations. Fitting data with very small alpha may cause precision problems.\n",
      "  ConvergenceWarning)\n"
     ]
    },
    {
     "name": "stderr",
     "output_type": "stream",
     "text": [
      "/home/isaac/anaconda3/lib/python3.6/site-packages/sklearn/linear_model/coordinate_descent.py:491: ConvergenceWarning: Objective did not converge. You might want to increase the number of iterations. Fitting data with very small alpha may cause precision problems.\n",
      "  ConvergenceWarning)\n"
     ]
    },
    {
     "data": {
      "text/plain": [
       "GridSearchCV(cv=3, error_score='raise',\n",
       "       estimator=ElasticNet(alpha=1.0, copy_X=True, fit_intercept=True, l1_ratio=0.5,\n",
       "      max_iter=1000, normalize=False, positive=False, precompute=False,\n",
       "      random_state=None, selection='cyclic', tol=0.0001, warm_start=False),\n",
       "       fit_params=None, iid=True, n_jobs=1,\n",
       "       param_grid=[{'alpha': [0.001, 0.01, 0.1, 1, 10, 100, 1000, 1000], 'l1_ratio': [0, 0.5, 1]}],\n",
       "       pre_dispatch='2*n_jobs', refit=True, return_train_score='warn',\n",
       "       scoring='neg_mean_squared_error', verbose=0)"
      ]
     },
     "execution_count": 29,
     "metadata": {},
     "output_type": "execute_result"
    }
   ],
   "source": [
    "from sklearn.linear_model import ElasticNet## YOUR CODE HERE ##\n",
    "\n",
    "param_grid = [{'alpha': [0.001,0.01,0.1,1,10,100,1000,1000], 'l1_ratio' : [0, 0.5, 1]}] ## YOUR CODE HERE ##\n",
    "grid_search_elastic_net = GridSearchCV(ElasticNet(), param_grid, cv=3, scoring='neg_mean_squared_error') ## YOUR CODE HERE ##\n",
    "grid_search_elastic_net.fit(X_train_trans, y_train_trans)## YOUR CODE HERE \n",
    "## YOUR CODE HERE ##\n",
    "## YOUR CODE HERE ##\n",
    "## YOUR CODE HERE ##\n",
    "## YOUR CODE HERE ##"
   ]
  },
  {
   "cell_type": "markdown",
   "metadata": {},
   "source": [
    "GridSearchCV(cv=3, error_score='raise',\n",
    "       estimator=ElasticNet(alpha=1.0, copy_X=True, fit_intercept=True, l1_ratio=0.5,\n",
    "      max_iter=1000, normalize=False, positive=False, precompute=False,\n",
    "      random_state=None, selection='cyclic', tol=0.0001, warm_start=False),\n",
    "       fit_params=None, iid=True, n_jobs=1,\n",
    "       param_grid=[{'alpha': [0.001, 0.01, 0.1, 1, 10, 100, 1000, 1000], 'l1_ratio': [0, 0.5, 1]}],\n",
    "       pre_dispatch='2*n_jobs', refit=True, return_train_score='warn',\n",
    "       scoring='neg_mean_squared_error', verbose=0)"
   ]
  },
  {
   "cell_type": "code",
   "execution_count": 30,
   "metadata": {},
   "outputs": [
    {
     "name": "stdout",
     "output_type": "stream",
     "text": [
      "{'alpha': 0.01, 'l1_ratio': 0.5}\n",
      "0.5693658353673012\n"
     ]
    }
   ],
   "source": [
    "print(grid_search_elastic_net.best_params_) ## YOUR CODE HERE ##\n",
    "print(np.sqrt(-grid_search_elastic_net.best_score_)) ## YOUR CODE HERE ##"
   ]
  },
  {
   "cell_type": "markdown",
   "metadata": {},
   "source": [
    "{'alpha': 0.01, 'l1_ratio': 0.5}\n",
    "\n",
    "0.569365835367301"
   ]
  },
  {
   "cell_type": "markdown",
   "metadata": {},
   "source": [
    "### Evaluating your best model on TESTING data\n",
    "\n",
    "Choose among grid_search_rr, grid_search_lr, and grid_search_enr, the model with best performance"
   ]
  },
  {
   "cell_type": "code",
   "execution_count": 184,
   "metadata": {},
   "outputs": [
    {
     "name": "stdout",
     "output_type": "stream",
     "text": [
      "0.5714043869205295\n"
     ]
    }
   ],
   "source": [
    "# We choose the Elastic Net as our best model since it has the lowest MSRE\n",
    "\n",
    "from sklearn.metrics import mean_squared_error\n",
    "\n",
    "final_model = grid_search_elastic_net.best_estimator_   ## grid_search SHOULD BE THE BEST GRID SEARCH ##\n",
    "\n",
    "# Use standardized y_te_estimation\n",
    "# y_te_estimation = final_model.predict(X_te) # ORIGINAL, DON'T DELETE\n",
    "\n",
    "y_te_estimation = final_model.predict(X_test_trans)\n",
    "\n",
    "\n",
    "# Standardize y_te_estimation # REMOVE THE num_pipeline\n",
    "\n",
    "# y_test_estimation_trans = num_pipeline.fit_transform(y_te_estimation.reshape(-1, 1)) # Should we use fit_transform or transform\n",
    "\n",
    "\n",
    "# Use standardized y_test\n",
    "# final_mse = mean_squared_error(y_te, y_te_estimation) # ORIGINAL, DON'T DELETE\n",
    "\n",
    "final_mse = mean_squared_error(y_test_trans, y_te_estimation)\n",
    "final_rmse = np.sqrt(final_mse)\n",
    "print(final_rmse)"
   ]
  },
  {
   "cell_type": "code",
   "execution_count": 185,
   "metadata": {},
   "outputs": [
    {
     "data": {
      "image/png": "[encoded data removed]",
      "text/plain": [
       "<matplotlib.figure.Figure at 0x7f79cfb624a8>"
      ]
     },
     "metadata": {},
     "output_type": "display_data"
    }
   ],
   "source": [
    "import matplotlib.pyplot as plt\n",
    "\n",
    "# plt.scatter(x=y_te, y=y_te_estimation) # Original, DON'T DELETE\n",
    "\n",
    "# Used standardized values\n",
    "plt.scatter(x=y_test_trans, y=y_te_estimation)\n",
    "#plt.xlim([-200000,800000])\n",
    "#plt.ylim([-1.78785,-1.78765])\n",
    "plt.show()"
   ]
  },
  {
   "cell_type": "code",
   "execution_count": 33,
   "metadata": {},
   "outputs": [
    {
     "data": {
      "text/plain": [
       "2.532087262881342"
      ]
     },
     "execution_count": 33,
     "metadata": {},
     "output_type": "execute_result"
    }
   ],
   "source": [
    "np.max(y_test_trans)"
   ]
  },
  {
   "cell_type": "code",
   "execution_count": 37,
   "metadata": {},
   "outputs": [
    {
     "name": "stdout",
     "output_type": "stream",
     "text": [
      "1\n",
      "101\n",
      "201\n",
      "301\n",
      "401\n",
      "501\n",
      "601\n",
      "701\n",
      "801\n",
      "901\n",
      "1001\n",
      "1101\n",
      "1201\n",
      "1301\n",
      "1401\n",
      "1501\n",
      "1601\n",
      "1701\n",
      "1801\n",
      "1901\n",
      "2001\n",
      "2101\n",
      "2201\n",
      "2301\n",
      "2401\n",
      "2501\n",
      "2601\n",
      "2701\n",
      "2801\n",
      "2901\n",
      "3001\n",
      "3101\n",
      "3201\n",
      "3301\n",
      "3401\n",
      "3501\n",
      "3601\n",
      "3701\n",
      "3801\n",
      "3901\n",
      "4001\n",
      "4101\n",
      "4201\n",
      "4301\n",
      "4401\n",
      "4501\n",
      "4601\n",
      "4701\n",
      "4801\n",
      "4901\n",
      "5001\n",
      "5101\n",
      "5201\n",
      "5301\n",
      "5401\n",
      "5501\n",
      "5601\n",
      "5701\n",
      "5801\n",
      "5901\n",
      "6001\n",
      "6101\n",
      "6201\n",
      "6301\n",
      "6401\n",
      "6501\n",
      "6601\n",
      "6701\n",
      "6801\n",
      "6901\n",
      "7001\n",
      "7101\n",
      "7201\n",
      "7301\n",
      "7401\n",
      "7501\n",
      "7601\n",
      "7701\n",
      "7801\n",
      "7901\n",
      "8001\n",
      "8101\n",
      "8201\n",
      "8301\n",
      "8401\n",
      "8501\n",
      "8601\n",
      "8701\n",
      "8801\n",
      "8901\n",
      "9001\n",
      "9101\n",
      "9201\n",
      "9301\n",
      "9401\n",
      "9501\n",
      "9601\n",
      "9701\n",
      "9801\n",
      "9901\n",
      "10001\n",
      "10101\n",
      "10201\n",
      "10301\n",
      "10401\n",
      "10501\n",
      "10601\n",
      "10701\n",
      "10801\n",
      "10901\n",
      "11001\n",
      "11101\n",
      "11201\n",
      "11301\n",
      "11401\n",
      "11501\n",
      "11601\n",
      "11701\n",
      "11801\n",
      "11901\n",
      "12001\n",
      "12101\n",
      "12201\n",
      "12301\n",
      "12401\n",
      "12501\n",
      "12601\n",
      "12701\n",
      "12801\n",
      "12901\n",
      "13001\n",
      "13101\n",
      "13201\n",
      "13301\n",
      "13401\n",
      "13501\n",
      "13601\n",
      "13701\n",
      "13801\n",
      "13901\n",
      "14001\n",
      "14101\n",
      "14201\n",
      "14301\n",
      "14401\n"
     ]
    }
   ],
   "source": [
    "# Let's graph the learning curves\n",
    "\n",
    "Elastic_net = ElasticNet(alpha = 0.01, l1_ratio = 0.5)\n",
    "\n",
    "#X_train, X_val, y_train, y_val = train_test_split(X, y, test_size=0.2)\n",
    "train_errors, val_errors = [], []\n",
    "for m in range(1, len(X_train_trans), 100):\n",
    "    mth_X_train_trans = X_train_trans[:m]\n",
    "    Elastic_net.fit(mth_X_train_trans, y_train_trans[:m])\n",
    "    y_train_predict = Elastic_net.predict(X_train_trans[:m])\n",
    "    y_val_predict = Elastic_net.predict(X_test_trans)\n",
    "    train_errors.append(mean_squared_error(y_train_predict, y_train_trans[:m]))\n",
    "    val_errors.append(mean_squared_error(y_val_predict, y_test_trans))\n",
    "    print(m)\n"
   ]
  },
  {
   "cell_type": "code",
   "execution_count": 38,
   "metadata": {},
   "outputs": [
    {
     "data": {
      "image/png": "[encoded data removed]",
      "text/plain": [
       "<matplotlib.figure.Figure at 0x7f79cffebc50>"
      ]
     },
     "metadata": {},
     "output_type": "display_data"
    }
   ],
   "source": [
    "plt.plot(np.sqrt(train_errors), \"r-+\", linewidth=2, label=\"train\")\n",
    "plt.plot(np.sqrt(val_errors), \"b-\", linewidth=3, label=\"val\")\n",
    "plt.show()"
   ]
  },
  {
   "cell_type": "markdown",
   "metadata": {},
   "source": [
    "### Question: Before you computed the final_rmse on the test data, what was your expected value for this quantity? Does your best model have high variance?"
   ]
  },
  {
   "cell_type": "markdown",
   "metadata": {
    "collapsed": true
   },
   "source": [
    "##### YOUR ANSWER HERE "
   ]
  },
  {
   "cell_type": "markdown",
   "metadata": {
    "collapsed": true
   },
   "source": [
    "My initial expectation in regards to the final_rmse is that it should have been lower than the rmse on the training data and that the Elastic Net would fit the housing test data well. It seems that our final Elastic Net model fits the housing data well. Why ? - rmse on the training data is 0.5693085940347592 and the rmse on the testing data is 0.5714043869205295."
   ]
  },
  {
   "cell_type": "markdown",
   "metadata": {
    "collapsed": true
   },
   "source": [
    "Our final model, Elastic Net, seems to have have a minimal amout of variance as can be seen from the graph above. Additionally, MRSE for train set and test set are low. Next, the difrerence between RMSE for train set and test set is low eventhough RMSE for test set is miniscually higher. Therefore, the variance is low.\n",
    "\n",
    "Now, let's take a look at plt.scatter(x=y_test_trans, y=y_test_estimation_trans) once again. On the far right, at x ~= 2.5, we can a see a straight vertical line corresponding to the y=y_test_estimation_trans. Therefore, due to that straight line, we might have a higher than necessary variance. Thus, to decrease the variance, we would need to delete some of the values of y=y_test_estimation_trans corresponding to the vertical line and run the model again."
   ]
  },
  {
   "cell_type": "code",
   "execution_count": 188,
   "metadata": {
    "collapsed": true
   },
   "outputs": [],
   "source": [
    "# Now, let's drop some values from x=y_test_trans and y=y_test_estimation_trans\n",
    "\n",
    "x = y_test_trans\n",
    "y = y_te_estimation\n",
    "\n",
    "master_array_1 = np.append(x.reshape(-1,1), y.reshape(-1,1), axis = 1).T\n",
    "master_array = np.round_(master_array_1, decimals = 6)"
   ]
  },
  {
   "cell_type": "code",
   "execution_count": 189,
   "metadata": {},
   "outputs": [
    {
     "data": {
      "text/plain": [
       "array([[-1.375642, -1.392057,  2.532087, ...,  0.099149, -0.756178,\n",
       "         0.024848],\n",
       "       [-1.231869, -0.844502,  0.461159, ...,  0.49947 , -0.791459,\n",
       "         0.062471]])"
      ]
     },
     "execution_count": 189,
     "metadata": {},
     "output_type": "execute_result"
    }
   ],
   "source": [
    "master_array"
   ]
  },
  {
   "cell_type": "code",
   "execution_count": 190,
   "metadata": {
    "collapsed": true
   },
   "outputs": [],
   "source": [
    "master_dframe = pd.DataFrame(master_array).T.sort_values(by = [0], ascending = True)\n",
    "master_dframe.columns = ['x', 'y']\n",
    "#master_dframe\n",
    "rows_to_drop = master_dframe.index[master_dframe['x'] == 2.532087].tolist()\n",
    "# Dropping the rows\n",
    "new_master_dframe = master_dframe.drop(rows_to_drop)\n",
    "new_master_array = np.array(new_master_dframe.T)\n",
    "x_new = new_master_array[0]\n",
    "y_new = new_master_array[1]"
   ]
  },
  {
   "cell_type": "code",
   "execution_count": 191,
   "metadata": {},
   "outputs": [
    {
     "data": {
      "image/png": "[encoded data removed]",
      "text/plain": [
       "<matplotlib.figure.Figure at 0x7f79cfc5bcc0>"
      ]
     },
     "metadata": {},
     "output_type": "display_data"
    }
   ],
   "source": [
    "plt.scatter(x=x_new, y=y_new)\n",
    "plt.show()"
   ]
  },
  {
   "cell_type": "code",
   "execution_count": 193,
   "metadata": {},
   "outputs": [
    {
     "name": "stdout",
     "output_type": "stream",
     "text": [
      "0.5091321246868359\n"
     ]
    }
   ],
   "source": [
    "final_mse = mean_squared_error(x_new, y_new)\n",
    "final_rmse = np.sqrt(final_mse)\n",
    "print(final_rmse) # 0.5091321246868359"
   ]
  },
  {
   "cell_type": "markdown",
   "metadata": {},
   "source": [
    "WOW! The rmse drops even further. The model seems to fit the data even better. Isn't this great?"
   ]
  },
  {
   "cell_type": "markdown",
   "metadata": {},
   "source": [
    "#[Optional]\n",
    "Why does the matrix X appears transponsed in the normal equation in the linear regression? Equation 4.4. Start from equation 4.3\n",
    "\n"
   ]
  },
  {
   "cell_type": "markdown",
   "metadata": {
    "collapsed": true
   },
   "source": [
    "Let's rewrite the MSE cost function for a Linear Regression model in a matrix notation:\n",
    "\n",
    "$$J(\\theta) = \\frac{1}{2m} (X \\theta  - y)^T(X \\theta - y)$$\n",
    "\n",
    "$$J(\\theta) = \\frac{1}{2m} ((X \\theta)^T - y^T)(X \\theta - y)$$\n",
    "$$J(\\theta) = \\frac{1}{2m} ((X \\theta)^T X \\theta - (X \\theta)^T y - y^T (X \\theta) + y^Ty)$$\n",
    "$$J(\\theta) = \\frac{1}{2m} (\\theta^T X^T X \\theta - 2(X \\theta)^T y + y^Ty)$$\n",
    "$$\\frac{\\partial J}{\\partial \\theta} = 2 X^T X \\theta  - 2X^T y = 0$$\n",
    "$$ X^T X \\theta = X^T y$$\n",
    "$$ \\hat\\theta = (X^T X)^{-1}X^Ty$$"
   ]
  },
  {
   "cell_type": "markdown",
   "metadata": {},
   "source": [
    "#[Optional]\n",
    "Do all Gradient Descent algorithms lead to the same model provided you let them run long enough?\n",
    "\n"
   ]
  },
  {
   "cell_type": "markdown",
   "metadata": {
    "collapsed": true
   },
   "source": [
    "If the optimization problem is convex (such as Linear Regression or Logistic Regression), and assuming the learning rate is not too high, then all Gradient Descent algorithms will approachthe global optimum and end up producing fairly similar models. Howere, unless you gradually reduce the learning rate, Stochastic GD and Mini-Batch GD will never truly converge; instead, they will keep jumping back and forth around the global optimum. This means that even if you let them run for a very long time, these Gradient Descent algorithms will produce slightly different models"
   ]
  },
  {
   "cell_type": "markdown",
   "metadata": {},
   "source": [
    "#[Optional]\n",
    "Is it a good idea to stop Mini-batch Gradient Descent immediately when the validation error goes up?\n",
    "\n"
   ]
  },
  {
   "cell_type": "markdown",
   "metadata": {
    "collapsed": true
   },
   "source": [
    "Due to their random nature, neither Stochastic Gradient Descent nor Mini-Batch Gradient Descent is guaranteed to make progress at every single iteration. So, if you immediately stop training when the validation error goes up, you may stop much too early, before the optimum is reached. A better option is to save the model at regular intervals, and when it has not improved for a long time (meaning it will probably never beat the record), you can revert to the best saved model."
   ]
  },
  {
   "cell_type": "markdown",
   "metadata": {},
   "source": [
    "#[Optional]\n",
    "Suppose you are using Ridge Regression and you notice that the training error and the validation error are almost equal and fairly high. Would you say that the model suffers from high bias or high variance? Should you increase the regularization hyperparameter α or reduce it?\n",
    "\n"
   ]
  },
  {
   "cell_type": "markdown",
   "metadata": {
    "collapsed": true
   },
   "source": [
    "If both the training error and the validation error are almost equal and fairly high, the model is likely underfitting the training set, which means it has a high bias. We should try reducing the regularization hyperparameter $\\alpha$."
   ]
  },
  {
   "cell_type": "markdown",
   "metadata": {},
   "source": [
    "#[Optional]\n",
    "Why does the matrix X appears transponsed in the normal equation in the linear regression? Equation 4.4. Start from equation 4.3\n",
    "\n"
   ]
  },
  {
   "cell_type": "markdown",
   "metadata": {
    "collapsed": true
   },
   "source": [
    "Let's rewrite the MSE cost function for a Linear Regression model in a matrix notation:\n",
    "\n",
    "$$J(\\theta) = \\frac{1}{2m} (X \\theta  - y)^T(X \\theta - y)$$\n",
    "\n",
    "$$J(\\theta) = \\frac{1}{2m} ((X \\theta)^T - y^T)(X \\theta - y)$$\n",
    "$$J(\\theta) = \\frac{1}{2m} ((X \\theta)^T X \\theta - (X \\theta)^T y - y^T (X \\theta) + y^Ty)$$\n",
    "$$J(\\theta) = \\frac{1}{2m} (\\theta^T X^T X \\theta - 2(X \\theta)^T y + y^Ty)$$\n",
    "$$\\frac{\\partial J}{\\partial \\theta} = 2 X^T X \\theta  - 2X^T y = 0$$\n",
    "$$ X^T X \\theta = X^T y$$\n",
    "$$ \\hat\\theta = (X^T X)^{-1}X^Ty$$"
   ]
  }
 ],
 "metadata": {
  "kernelspec": {
   "display_name": "Python 3",
   "language": "python",
   "name": "python3"
  },
  "language_info": {
   "codemirror_mode": {
    "name": "ipython",
    "version": 3
   },
   "file_extension": ".py",
   "mimetype": "text/x-python",
   "name": "python",
   "nbconvert_exporter": "python",
   "pygments_lexer": "ipython3",
   "version": "3.6.3"
  }
 },
 "nbformat": 4,
 "nbformat_minor": 2
}
